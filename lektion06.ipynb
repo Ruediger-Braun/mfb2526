{
 "cells": [
  {
   "cell_type": "markdown",
   "id": "e01baa24",
   "metadata": {
    "editable": true,
    "slideshow": {
     "slide_type": "slide"
    },
    "tags": []
   },
   "source": [
    "# Mathematik für Biologiestudierende\n",
    "\n",
    "Wintersemester 2025/26\n",
    "\n",
    "29. Oktober 2025\n",
    "\n",
    "&copy; 2025 Prof. Dr. Rüdiger W. Braun "
   ]
  },
  {
   "cell_type": "markdown",
   "id": "4534c659-2e7d-4d0a-83a1-fd080b8c99b8",
   "metadata": {
    "editable": true,
    "slideshow": {
     "slide_type": "slide"
    },
    "tags": []
   },
   "source": [
    "## Wiederholung (interaktiv)"
   ]
  },
  {
   "cell_type": "markdown",
   "id": "f73f7d1c-fa5c-4589-9910-e219bf69838d",
   "metadata": {
    "editable": true,
    "slideshow": {
     "slide_type": ""
    },
    "tags": []
   },
   "source": [
    "Gehen Sie auf die Website\n",
    "\n",
    "* https://pingo.coactum.de\n",
    "\n",
    "und geben Sie folgende Zugangsnummer ein\n",
    "\n",
    "* **670719**\n",
    "\n",
    "oder scannen Sie den QR-Code\n",
    "\n",
    "![QR-Code](bilder/qr02.png)\n"
   ]
  },
  {
   "cell_type": "markdown",
   "id": "d7cdc1a0-6e21-4975-b8d5-f4ab38b81cd6",
   "metadata": {
    "editable": true,
    "slideshow": {
     "slide_type": "slide"
    },
    "tags": []
   },
   "source": [
    "## Themen heute\n",
    "\n",
    "* Streuungsparameter\n",
    "* Quartile\n",
    "* Box-Whisker Plots\n",
    "* Modelle in der Wahrscheinlichkeitstheorie"
   ]
  },
  {
   "cell_type": "code",
   "execution_count": 1,
   "id": "35b514cd-b450-4bf4-a8b7-e244c729be22",
   "metadata": {
    "editable": true,
    "slideshow": {
     "slide_type": "slide"
    },
    "tags": []
   },
   "outputs": [],
   "source": [
    "import numpy as np\n",
    "np.set_printoptions(legacy='1.21')\n",
    "import seaborn as sns\n",
    "sns.set_theme()\n",
    "sns.set_context('talk')\n",
    "import pandas as pd"
   ]
  },
  {
   "cell_type": "markdown",
   "id": "e1ac2a2b-917f-4edc-b5b3-2b314d52113e",
   "metadata": {
    "editable": true,
    "slideshow": {
     "slide_type": "slide"
    },
    "tags": []
   },
   "source": [
    "# Streuungsparameter"
   ]
  },
  {
   "cell_type": "markdown",
   "id": "ed41611b-8739-48fb-a600-1e86852c8ff2",
   "metadata": {
    "editable": true,
    "slideshow": {
     "slide_type": "fragment"
    },
    "tags": []
   },
   "source": [
    "## Empirische Varianz und Stichprobenstreuung\n",
    "\n",
    "* Beim Stichprobenumfang $n$ seien $x_1, x_2, x_3, \\dots, x_n$ die Messwerte, dann ist das *empirische Varianz* gleich\n",
    "    \\begin{equation*}\n",
    "      s^2 = \\frac{(x_1-\\overline x)^2 + (x_2-\\overline x)^2 +\n",
    "        (x_3-\\overline x)^2 + \\dots + (x_n-\\overline x)^2}{n-1}\n",
    "    \\end{equation*}\n",
    "    Dabei ist $\\overline x$ das arithmetische Mittel\n",
    "* Die empirische Varianz wird mit $s^2$ bezeichnet.  "
   ]
  },
  {
   "cell_type": "markdown",
   "id": "194b67a5-01a9-452b-9c1f-377ff05295e1",
   "metadata": {
    "editable": true,
    "slideshow": {
     "slide_type": "fragment"
    },
    "tags": []
   },
   "source": [
    "* Die Zahl $s$ heißt *empirische Standardabweichung* oder\n",
    "    *Stichprobenstreuung*\n",
    "* Die Stichprobenstreuung ist also die Quadratwurzel der empirischen Varianz"
   ]
  },
  {
   "cell_type": "markdown",
   "id": "5bb99e71-a6e5-4723-9f22-6023f829bfc0",
   "metadata": {
    "editable": true,
    "slideshow": {
     "slide_type": "slide"
    },
    "tags": []
   },
   "source": [
    "## Konkrete Rechnung\n",
    "\n",
    "Bei fünf Proben wurden die folgenden Massen in [g] gewogen: \n",
    "\n",
    "| Nummer | 1      | 2      | 3     | 4      | 5   |\n",
    "|--------|--------|--------|-------|--------|-----|\n",
    "| Masse  | 1.1    | 1.3    | 1.6   | 1.3    | 2.0 |\n",
    "\n",
    "$$\\displaystyle \\sum_{j=1}^5 x_j = 7.3g$$\n",
    "$$\\overline x = \\frac{7.3g}5 = 1.46g$$\n",
    "$$\\sum_{j=1}^5 (x_j-\\overline x)^2 = 0.4920g^2$$\n",
    "$$s^2 = \\frac{0.4920g^2}4 = 0.1230g^2 \\quad\\text{und}\\quad\n",
    "s = \\sqrt{0.1230g^2} = 0.3507g$$"
   ]
  },
  {
   "cell_type": "code",
   "execution_count": 2,
   "id": "2bcd45cc-568a-4ac8-be47-17cc2441ca55",
   "metadata": {
    "editable": true,
    "slideshow": {
     "slide_type": "slide"
    },
    "tags": []
   },
   "outputs": [
    {
     "data": {
      "text/html": [
       "<div>\n",
       "<style scoped>\n",
       "    .dataframe tbody tr th:only-of-type {\n",
       "        vertical-align: middle;\n",
       "    }\n",
       "\n",
       "    .dataframe tbody tr th {\n",
       "        vertical-align: top;\n",
       "    }\n",
       "\n",
       "    .dataframe thead th {\n",
       "        text-align: right;\n",
       "    }\n",
       "</style>\n",
       "<table border=\"1\" class=\"dataframe\">\n",
       "  <thead>\n",
       "    <tr style=\"text-align: right;\">\n",
       "      <th></th>\n",
       "      <th>Gewicht</th>\n",
       "    </tr>\n",
       "  </thead>\n",
       "  <tbody>\n",
       "    <tr>\n",
       "      <th>0</th>\n",
       "      <td>21.3</td>\n",
       "    </tr>\n",
       "    <tr>\n",
       "      <th>1</th>\n",
       "      <td>19.8</td>\n",
       "    </tr>\n",
       "    <tr>\n",
       "      <th>2</th>\n",
       "      <td>20.4</td>\n",
       "    </tr>\n",
       "    <tr>\n",
       "      <th>3</th>\n",
       "      <td>19.0</td>\n",
       "    </tr>\n",
       "    <tr>\n",
       "      <th>4</th>\n",
       "      <td>22.7</td>\n",
       "    </tr>\n",
       "  </tbody>\n",
       "</table>\n",
       "</div>"
      ],
      "text/plain": [
       "   Gewicht\n",
       "0     21.3\n",
       "1     19.8\n",
       "2     20.4\n",
       "3     19.0\n",
       "4     22.7"
      ]
     },
     "execution_count": 2,
     "metadata": {},
     "output_type": "execute_result"
    }
   ],
   "source": [
    "maeuse = pd.DataFrame()\n",
    "maeuse['Gewicht'] = [21.3, 19.8, 20.4, 19.0, 22.7]\n",
    "maeuse"
   ]
  },
  {
   "cell_type": "code",
   "execution_count": 3,
   "id": "0747519e-94ef-488f-abbf-5ea5173bbbb6",
   "metadata": {
    "editable": true,
    "slideshow": {
     "slide_type": "fragment"
    },
    "tags": []
   },
   "outputs": [
    {
     "data": {
      "text/plain": [
       "Gewicht    2.033\n",
       "dtype: float64"
      ]
     },
     "execution_count": 3,
     "metadata": {},
     "output_type": "execute_result"
    }
   ],
   "source": [
    "maeuse.var()"
   ]
  },
  {
   "cell_type": "markdown",
   "id": "2f1c3a24-9e10-4bbd-92ba-571b609e7a4c",
   "metadata": {
    "editable": true,
    "slideshow": {
     "slide_type": ""
    },
    "tags": []
   },
   "source": [
    "`var` empirische Varianz"
   ]
  },
  {
   "cell_type": "code",
   "execution_count": 4,
   "id": "03a10e62-843d-4ec3-96c5-841d77908014",
   "metadata": {
    "editable": true,
    "slideshow": {
     "slide_type": "fragment"
    },
    "tags": []
   },
   "outputs": [
    {
     "data": {
      "text/plain": [
       "Gewicht    1.425833\n",
       "dtype: float64"
      ]
     },
     "execution_count": 4,
     "metadata": {},
     "output_type": "execute_result"
    }
   ],
   "source": [
    "maeuse.std()"
   ]
  },
  {
   "cell_type": "markdown",
   "id": "23ebbf7d-cbe1-4360-a906-48eb415096e4",
   "metadata": {
    "editable": true,
    "slideshow": {
     "slide_type": ""
    },
    "tags": []
   },
   "source": [
    "`std`  Stichprobenstreuung (engl.  \"sample standard deviation\")"
   ]
  },
  {
   "cell_type": "markdown",
   "id": "40ba898a-671e-4e1f-9d31-2e0357cc4a03",
   "metadata": {
    "editable": true,
    "slideshow": {
     "slide_type": "slide"
    },
    "tags": []
   },
   "source": [
    "## Stichprobenstreuung vs. Varianz\n",
    "\n",
    "* Der Vorteil der Stichprobenstreuung gegenüber der Varianz ist, dass die Stichprobenstreuung richtig skaliert\n",
    "* Das bedeutet folgendes: Wenn ich alle Daten mit 1000 multipliziere, dann\n",
    "  * multipliziert sich das arithmetische Mittel mit 1000\n",
    "  * multipliziert sich die Varianz mit 1000000\n",
    "  * multipliziert sich die Stichprobenstreuung mit 1000\n",
    "* Das bedeutet auch, dass die Stichprobenstreuung in derselben Einheit angegegeben wird wie die Daten\n",
    "\n",
    "\n",
    "\n"
   ]
  },
  {
   "cell_type": "markdown",
   "id": "2677a9ba-c756-4724-a693-3d79a7511ea9",
   "metadata": {
    "editable": true,
    "slideshow": {
     "slide_type": "slide"
    },
    "tags": []
   },
   "source": [
    "## Formeln für die Varianz\n",
    "\n",
    "* Die Definition ohne Pünktchen\n",
    "    \\begin{equation*}\n",
    "      s^2 = \\frac1{n-1} \\sum_{j=1}^n \\left(x_j - \\overline x \\right)^2\n",
    "    \\end{equation*}\n",
    "* Eine etwas einfachere Formel, deren Richtigkeit leicht nachgerechnet werden kann\n",
    "    \\begin{equation*}\n",
    "      s^2 = \\frac1{n-1} \\biggr( \\Bigr( \\sum_{j=1}^n x_j^2 \\Bigr) - n\n",
    "      {\\overline x}^2 \\biggr)\n",
    "    \\end{equation*}"
   ]
  },
  {
   "cell_type": "markdown",
   "id": "3bdb5023-c110-454e-897e-80331c9ef1f4",
   "metadata": {
    "editable": true,
    "slideshow": {
     "slide_type": "slide"
    },
    "tags": []
   },
   "source": [
    "## Warum $n - 1$ im Nenner?\n",
    "\n",
    "* $n-1$ ist die Zahl *Freiheitsgrade*\n",
    "* Das ist ein heuristisches Konzept:\n",
    "  * erstmal hat man pro Stichprobe einen Freiheitsgrad\n",
    "  * für jeden Wert, den man hilfsweise schätzen muss, wird ein Freiheitsgrad abgezogen\n",
    "* zur Berechnung der Varianz muss das arithmetische Mittel bestimmt werden:  also ein Freiheitgrad Abzug"
   ]
  },
  {
   "cell_type": "markdown",
   "id": "4904543d-f9ae-4b9a-a0f5-2baf4f1457ce",
   "metadata": {
    "editable": true,
    "slideshow": {
     "slide_type": "fragment"
    },
    "tags": []
   },
   "source": [
    "* Das bedeutet, dass man, wenn man für viele Datensätze die Varianz mit dieser Methode feststellt, im Mittel näher an der wahren Varianz ist, als wenn man den Nenner $n$ benutzt\n",
    "* Alle großen Software-Pakete machen das so "
   ]
  },
  {
   "cell_type": "markdown",
   "id": "15b52335-f5f2-419e-8356-fc5a38df9225",
   "metadata": {
    "editable": true,
    "slideshow": {
     "slide_type": "fragment"
    },
    "tags": []
   },
   "source": [
    "Software-Pakete:\n",
    "\n",
    "* `python` mit `pandas` und `scipy.stats`\n",
    "* `R`\n",
    "* `SPSS`"
   ]
  },
  {
   "cell_type": "markdown",
   "id": "240826c7-5203-4bec-9df2-8aab67cab794",
   "metadata": {
    "editable": true,
    "slideshow": {
     "slide_type": "slide"
    },
    "tags": []
   },
   "source": [
    "Wenn gewünscht, kann man von Nenner $n-1$ zu Nenner $n$ umschalten"
   ]
  },
  {
   "cell_type": "code",
   "execution_count": 5,
   "id": "1bdf3c58-ae52-4558-b42f-eeb06d4e183f",
   "metadata": {},
   "outputs": [
    {
     "data": {
      "text/plain": [
       "Gewicht    1.6264\n",
       "dtype: float64"
      ]
     },
     "execution_count": 5,
     "metadata": {},
     "output_type": "execute_result"
    }
   ],
   "source": [
    "maeuse.var(ddof=0)"
   ]
  },
  {
   "cell_type": "code",
   "execution_count": 6,
   "id": "d1272bd8-4f56-4352-b774-ff720a711eb3",
   "metadata": {},
   "outputs": [
    {
     "data": {
      "text/plain": [
       "Gewicht    2.033\n",
       "dtype: float64"
      ]
     },
     "execution_count": 6,
     "metadata": {},
     "output_type": "execute_result"
    }
   ],
   "source": [
    "maeuse.var()"
   ]
  },
  {
   "cell_type": "markdown",
   "id": "e6507abf-9ad6-465f-bfdb-261eb6c2da5d",
   "metadata": {},
   "source": [
    "`ddof` = delta degrees of freedom; das ist die Zahl, die man vom Stichprobenumfang abzieht, um die Zahl der Freiheitsgrade zu bekommen"
   ]
  },
  {
   "cell_type": "markdown",
   "id": "fe5cdb47-3aee-4b0a-bf43-4b7ecee8f34f",
   "metadata": {},
   "source": [
    "Achten Sie auf Ihren Taschenrechner!"
   ]
  },
  {
   "cell_type": "markdown",
   "id": "54349e05-fcd7-46b0-9904-43af95200a93",
   "metadata": {
    "editable": true,
    "slideshow": {
     "slide_type": "slide"
    },
    "tags": []
   },
   "source": [
    "## Zusammenfassungen mit `describe`"
   ]
  },
  {
   "cell_type": "code",
   "execution_count": 7,
   "id": "cec87616-1476-4f46-8e6b-b462242ff1b8",
   "metadata": {
    "editable": true,
    "slideshow": {
     "slide_type": ""
    },
    "tags": []
   },
   "outputs": [
    {
     "data": {
      "text/html": [
       "<div>\n",
       "<style scoped>\n",
       "    .dataframe tbody tr th:only-of-type {\n",
       "        vertical-align: middle;\n",
       "    }\n",
       "\n",
       "    .dataframe tbody tr th {\n",
       "        vertical-align: top;\n",
       "    }\n",
       "\n",
       "    .dataframe thead th {\n",
       "        text-align: right;\n",
       "    }\n",
       "</style>\n",
       "<table border=\"1\" class=\"dataframe\">\n",
       "  <thead>\n",
       "    <tr style=\"text-align: right;\">\n",
       "      <th></th>\n",
       "      <th>Gewicht</th>\n",
       "    </tr>\n",
       "  </thead>\n",
       "  <tbody>\n",
       "    <tr>\n",
       "      <th>count</th>\n",
       "      <td>5.000000</td>\n",
       "    </tr>\n",
       "    <tr>\n",
       "      <th>mean</th>\n",
       "      <td>20.640000</td>\n",
       "    </tr>\n",
       "    <tr>\n",
       "      <th>std</th>\n",
       "      <td>1.425833</td>\n",
       "    </tr>\n",
       "    <tr>\n",
       "      <th>min</th>\n",
       "      <td>19.000000</td>\n",
       "    </tr>\n",
       "    <tr>\n",
       "      <th>25%</th>\n",
       "      <td>19.800000</td>\n",
       "    </tr>\n",
       "    <tr>\n",
       "      <th>50%</th>\n",
       "      <td>20.400000</td>\n",
       "    </tr>\n",
       "    <tr>\n",
       "      <th>75%</th>\n",
       "      <td>21.300000</td>\n",
       "    </tr>\n",
       "    <tr>\n",
       "      <th>max</th>\n",
       "      <td>22.700000</td>\n",
       "    </tr>\n",
       "  </tbody>\n",
       "</table>\n",
       "</div>"
      ],
      "text/plain": [
       "         Gewicht\n",
       "count   5.000000\n",
       "mean   20.640000\n",
       "std     1.425833\n",
       "min    19.000000\n",
       "25%    19.800000\n",
       "50%    20.400000\n",
       "75%    21.300000\n",
       "max    22.700000"
      ]
     },
     "execution_count": 7,
     "metadata": {},
     "output_type": "execute_result"
    }
   ],
   "source": [
    "maeuse.describe()"
   ]
  },
  {
   "cell_type": "markdown",
   "id": "d451012e-20b1-45f5-9085-3576e2442088",
   "metadata": {},
   "source": [
    "* `count`: Anzahl\n",
    "* `mean`: arithmetisches Mittel\n",
    "* `std`: Stichprobenstreuung\n",
    "* `min`: kleinster Wert\n",
    "* `50%`: Median\n",
    "* `25%`, `75%`: Quartile  (s.u.)\n",
    "* `max`: größter Wert"
   ]
  },
  {
   "cell_type": "markdown",
   "id": "f2fa95ca-4828-42c9-ac5f-85561931f6bb",
   "metadata": {
    "editable": true,
    "slideshow": {
     "slide_type": "slide"
    },
    "tags": []
   },
   "source": [
    "Funktioniert auch für DataFrames"
   ]
  },
  {
   "cell_type": "code",
   "execution_count": 8,
   "id": "01a03fea-cb7a-4aa6-b193-087520239be0",
   "metadata": {},
   "outputs": [
    {
     "data": {
      "text/html": [
       "<div>\n",
       "<style scoped>\n",
       "    .dataframe tbody tr th:only-of-type {\n",
       "        vertical-align: middle;\n",
       "    }\n",
       "\n",
       "    .dataframe tbody tr th {\n",
       "        vertical-align: top;\n",
       "    }\n",
       "\n",
       "    .dataframe thead th {\n",
       "        text-align: right;\n",
       "    }\n",
       "</style>\n",
       "<table border=\"1\" class=\"dataframe\">\n",
       "  <thead>\n",
       "    <tr style=\"text-align: right;\">\n",
       "      <th></th>\n",
       "      <th>bill_length_mm</th>\n",
       "      <th>bill_depth_mm</th>\n",
       "      <th>flipper_length_mm</th>\n",
       "      <th>body_mass_g</th>\n",
       "    </tr>\n",
       "  </thead>\n",
       "  <tbody>\n",
       "    <tr>\n",
       "      <th>count</th>\n",
       "      <td>342.000000</td>\n",
       "      <td>342.000000</td>\n",
       "      <td>342.000000</td>\n",
       "      <td>342.000000</td>\n",
       "    </tr>\n",
       "    <tr>\n",
       "      <th>mean</th>\n",
       "      <td>43.921930</td>\n",
       "      <td>17.151170</td>\n",
       "      <td>200.915205</td>\n",
       "      <td>4201.754386</td>\n",
       "    </tr>\n",
       "    <tr>\n",
       "      <th>std</th>\n",
       "      <td>5.459584</td>\n",
       "      <td>1.974793</td>\n",
       "      <td>14.061714</td>\n",
       "      <td>801.954536</td>\n",
       "    </tr>\n",
       "    <tr>\n",
       "      <th>min</th>\n",
       "      <td>32.100000</td>\n",
       "      <td>13.100000</td>\n",
       "      <td>172.000000</td>\n",
       "      <td>2700.000000</td>\n",
       "    </tr>\n",
       "    <tr>\n",
       "      <th>25%</th>\n",
       "      <td>39.225000</td>\n",
       "      <td>15.600000</td>\n",
       "      <td>190.000000</td>\n",
       "      <td>3550.000000</td>\n",
       "    </tr>\n",
       "    <tr>\n",
       "      <th>50%</th>\n",
       "      <td>44.450000</td>\n",
       "      <td>17.300000</td>\n",
       "      <td>197.000000</td>\n",
       "      <td>4050.000000</td>\n",
       "    </tr>\n",
       "    <tr>\n",
       "      <th>75%</th>\n",
       "      <td>48.500000</td>\n",
       "      <td>18.700000</td>\n",
       "      <td>213.000000</td>\n",
       "      <td>4750.000000</td>\n",
       "    </tr>\n",
       "    <tr>\n",
       "      <th>max</th>\n",
       "      <td>59.600000</td>\n",
       "      <td>21.500000</td>\n",
       "      <td>231.000000</td>\n",
       "      <td>6300.000000</td>\n",
       "    </tr>\n",
       "  </tbody>\n",
       "</table>\n",
       "</div>"
      ],
      "text/plain": [
       "       bill_length_mm  bill_depth_mm  flipper_length_mm  body_mass_g\n",
       "count      342.000000     342.000000         342.000000   342.000000\n",
       "mean        43.921930      17.151170         200.915205  4201.754386\n",
       "std          5.459584       1.974793          14.061714   801.954536\n",
       "min         32.100000      13.100000         172.000000  2700.000000\n",
       "25%         39.225000      15.600000         190.000000  3550.000000\n",
       "50%         44.450000      17.300000         197.000000  4050.000000\n",
       "75%         48.500000      18.700000         213.000000  4750.000000\n",
       "max         59.600000      21.500000         231.000000  6300.000000"
      ]
     },
     "execution_count": 8,
     "metadata": {},
     "output_type": "execute_result"
    }
   ],
   "source": [
    "df = sns.load_dataset(\"penguins\")\n",
    "df.describe()"
   ]
  },
  {
   "cell_type": "markdown",
   "id": "de7f2e46-a4e3-4d7b-8c29-b02517279551",
   "metadata": {
    "editable": true,
    "slideshow": {
     "slide_type": ""
    },
    "tags": []
   },
   "source": [
    "* Spalten, die kategorielle Daten enthalten, werden ausgelassen\n",
    "* bei `count` sind die `NaN` nicht mitgezählt"
   ]
  },
  {
   "cell_type": "markdown",
   "id": "c19cb4d2-532a-4695-973e-af4df23afe45",
   "metadata": {
    "editable": true,
    "slideshow": {
     "slide_type": "slide"
    },
    "tags": []
   },
   "source": [
    "## Quartile"
   ]
  },
  {
   "cell_type": "markdown",
   "id": "39ebf69d-5fe6-4c1d-a589-51739add18da",
   "metadata": {
    "editable": true,
    "slideshow": {
     "slide_type": "fragment"
    },
    "tags": []
   },
   "source": [
    "* Das Quartil $Q_1$ ist als derjenige Wert definiert, unter dem 25% und über dem 75% der Messwerte liegen\n",
    "* Das Quartil $Q_3$ ist als derjenige Wert definiert, über dem 25% und unter dem 75% der Messwerte liegen\n",
    "* Das Quartil $Q_2$ ist der Median"
   ]
  },
  {
   "cell_type": "markdown",
   "id": "a283f042-8196-409e-bcba-4c87c100f93c",
   "metadata": {
    "editable": true,
    "slideshow": {
     "slide_type": ""
    },
    "tags": []
   },
   "source": [
    "* Bei den Schnabellängen: $Q_1 = 39.225$ und $Q_3 = 48.5$"
   ]
  },
  {
   "cell_type": "markdown",
   "id": "2c6e08d5-9586-4ae2-b213-cbfa6d2673ff",
   "metadata": {
    "editable": true,
    "slideshow": {
     "slide_type": "fragment"
    },
    "tags": []
   },
   "source": [
    "#### Beispielgrafik\n",
    "\n",
    "die vier Viertel sind unterschiedlich gefärbt\n",
    "\n",
    "![Image](./bilder/quartile.png)"
   ]
  },
  {
   "cell_type": "markdown",
   "id": "ee39a72c-81bc-42d9-a0aa-1742064f292b",
   "metadata": {
    "editable": true,
    "slideshow": {
     "slide_type": "slide"
    },
    "tags": []
   },
   "source": [
    "## Zusammenhang zwischen Quartilen und Quantilen\n",
    "\n",
    "* Allgemeiner ist für $q$ zwischen $0$ und $1$ das $q$-*Quantil* derjenige Wert, so dass der Anteil der Messwerte unterhalb dieses Wertes gleich $q$ und der Anteil oberhalb gleich $1-q$ ist\n",
    "* Wenn $q$ in Prozent ausgedrückt wird, dann spricht man auch von *Perzentilen*"
   ]
  },
  {
   "cell_type": "markdown",
   "id": "d3d48e30-08da-4ff9-9670-772d2a1bd37b",
   "metadata": {
    "editable": true,
    "slideshow": {
     "slide_type": ""
    },
    "tags": []
   },
   "source": [
    "|Quartil     |Quantil      |\n",
    "|------------|-------------|\n",
    "|1. Quartil  | 25%-Quantil |\n",
    "|Median      | 50%-Quantil |\n",
    "|3. Quartil  | 75%-Quantil | "
   ]
  },
  {
   "cell_type": "markdown",
   "id": "d4b16a4e-0815-4bb3-9d55-c49bb0a1f91d",
   "metadata": {
    "editable": true,
    "slideshow": {
     "slide_type": "fragment"
    },
    "tags": []
   },
   "source": [
    "Beispiel\n",
    "\n",
    "* Leute, die zu den reichsten 1% der Bevölkerung gehören, haben ein Einkommen oberhalb des 99%-Quantils"
   ]
  },
  {
   "cell_type": "markdown",
   "id": "f314698c-3812-4c83-8a99-f5b5345a1141",
   "metadata": {
    "editable": true,
    "slideshow": {
     "slide_type": "slide"
    },
    "tags": []
   },
   "source": [
    "# Interquartilabstand\n",
    "\n",
    "* Der Interquartilabstand ist definiert als\n",
    "  $$\n",
    "      \\text{IQR} = Q_3 - Q_1\n",
    "  $$\n",
    "* Der Interquartilabstand ist ein robustes Maß für die Streuung"
   ]
  },
  {
   "cell_type": "markdown",
   "id": "30b2e4c3-0508-46ed-8daf-d91c0a3a81d1",
   "metadata": {
    "editable": true,
    "slideshow": {
     "slide_type": "fragment"
    },
    "tags": []
   },
   "source": [
    "Berechnung des Interquartilabstands"
   ]
  },
  {
   "cell_type": "code",
   "execution_count": 9,
   "id": "b20e59cb-56e6-45dd-af8f-e8582044dc5d",
   "metadata": {
    "editable": true,
    "slideshow": {
     "slide_type": ""
    },
    "tags": []
   },
   "outputs": [
    {
     "data": {
      "text/plain": [
       "count     342.000000\n",
       "mean     4201.754386\n",
       "std       801.954536\n",
       "min      2700.000000\n",
       "25%      3550.000000\n",
       "50%      4050.000000\n",
       "75%      4750.000000\n",
       "max      6300.000000\n",
       "Name: body_mass_g, dtype: float64"
      ]
     },
     "execution_count": 9,
     "metadata": {},
     "output_type": "execute_result"
    }
   ],
   "source": [
    "body = df.body_mass_g.describe()\n",
    "body"
   ]
  },
  {
   "cell_type": "code",
   "execution_count": 10,
   "id": "6e6c0113-49a1-4c18-b10d-b6b0245aafc9",
   "metadata": {
    "editable": true,
    "slideshow": {
     "slide_type": ""
    },
    "tags": []
   },
   "outputs": [
    {
     "data": {
      "text/plain": [
       "1200.0"
      ]
     },
     "execution_count": 10,
     "metadata": {},
     "output_type": "execute_result"
    }
   ],
   "source": [
    "body['75%'] - body['25%']"
   ]
  },
  {
   "cell_type": "markdown",
   "id": "8b7704c7-9cd3-4d9e-abbc-9dbab2eb2ca9",
   "metadata": {
    "editable": true,
    "slideshow": {
     "slide_type": "slide"
    },
    "tags": []
   },
   "source": [
    "# Box-Whisker-Plots"
   ]
  },
  {
   "cell_type": "code",
   "execution_count": 11,
   "id": "02679f08-c0bc-403a-9cb0-9103b1537bb0",
   "metadata": {
    "editable": true,
    "slideshow": {
     "slide_type": ""
    },
    "tags": []
   },
   "outputs": [
    {
     "data": {
      "image/png": "[encoded data removed]",
      "text/plain": [
       "<Figure size 640x480 with 1 Axes>"
      ]
     },
     "metadata": {},
     "output_type": "display_data"
    }
   ],
   "source": [
    "sns.boxplot(df, x=\"species\", y=\"body_mass_g\");"
   ]
  },
  {
   "cell_type": "markdown",
   "id": "41d87639-d7a3-4776-8066-5059252d93fc",
   "metadata": {
    "editable": true,
    "slideshow": {
     "slide_type": "slide"
    },
    "tags": []
   },
   "source": [
    "Ein Boxplot, auch Box-Whisker-Plot genannt, zeigt von unten nach oben\n",
    "\n",
    "* untere Einzelpunkte\n",
    "* unterster Datenpunkt, der kein Einzelpunkt ist\n",
    "* $Q_1$\n",
    "* Median\n",
    "* $Q_3$\n",
    "* oberster Datenpunkt, der kein Einzelpunkt ist\n",
    "* obere Einzelpunkte\n",
    "\n",
    "Einzelpunkte sind solche, die weiter als 1.5 Interquartilabstände von $Q_1$ bzw. $Q_3$ weg sind"
   ]
  },
  {
   "cell_type": "markdown",
   "id": "65fdb00f-3558-40fb-94bb-aee25a42ab7b",
   "metadata": {
    "editable": true,
    "slideshow": {
     "slide_type": "slide"
    },
    "tags": []
   },
   "source": [
    "Manchmal werden die Einzelpunkte als \"Ausreißer\" bezeichnet.   Das kann man aber nicht so einfach gleichsetzen."
   ]
  },
  {
   "cell_type": "code",
   "execution_count": 12,
   "id": "0ad37dc5-6e88-4611-8ff2-5d0ec02d1ea3",
   "metadata": {
    "editable": true,
    "slideshow": {
     "slide_type": ""
    },
    "tags": []
   },
   "outputs": [],
   "source": [
    "maeuse2 = pd.DataFrame()\n",
    "maeuse2['Gewicht'] = [21.3, 19.8, 20.4, 19.0, 22.7, 287] "
   ]
  },
  {
   "cell_type": "code",
   "execution_count": 13,
   "id": "6bda8cc5-837d-49c2-aab3-40199d10c3f8",
   "metadata": {
    "editable": true,
    "slideshow": {
     "slide_type": ""
    },
    "tags": []
   },
   "outputs": [
    {
     "data": {
      "image/png": "[encoded data removed]",
      "text/plain": [
       "<Figure size 640x480 with 1 Axes>"
      ]
     },
     "metadata": {},
     "output_type": "display_data"
    }
   ],
   "source": [
    "sns.boxplot(maeuse2.Gewicht);"
   ]
  },
  {
   "cell_type": "markdown",
   "id": "f4d13c04-5046-4690-acef-fa199dd13a0a",
   "metadata": {
    "editable": true,
    "slideshow": {
     "slide_type": ""
    },
    "tags": []
   },
   "source": [
    "Das ist wirklich ein Ausreißer (engl. \"outlier\")"
   ]
  },
  {
   "cell_type": "markdown",
   "id": "97786412-3efe-41bd-83a8-ff40ed0516f3",
   "metadata": {
    "editable": true,
    "slideshow": {
     "slide_type": "slide"
    },
    "tags": []
   },
   "source": [
    "# Erläuterungen zu Python und Pandas"
   ]
  },
  {
   "cell_type": "markdown",
   "id": "97c5fef9-8199-442d-ad22-ae150bc58bea",
   "metadata": {
    "editable": true,
    "slideshow": {
     "slide_type": "slide"
    },
    "tags": []
   },
   "source": [
    "## Klammern\n",
    "\n",
    "### eckige Klammern"
   ]
  },
  {
   "cell_type": "markdown",
   "id": "1bd5c278-8c12-4f22-87ba-502873ee9cab",
   "metadata": {
    "editable": true,
    "slideshow": {
     "slide_type": ""
    },
    "tags": []
   },
   "source": [
    "für die Auswahl eines Elements aus einer Sammlung:\n",
    "\n",
    "Einige Beispiele"
   ]
  },
  {
   "cell_type": "code",
   "execution_count": 14,
   "id": "6aaf9070-88c0-4701-aa2d-750e43414a10",
   "metadata": {
    "editable": true,
    "slideshow": {
     "slide_type": ""
    },
    "tags": []
   },
   "outputs": [],
   "source": [
    "liste = ['Elephant', 'Rhinozeros', 'Spitzmaus']"
   ]
  },
  {
   "cell_type": "code",
   "execution_count": 15,
   "id": "a25305ab-0028-4f01-8f10-31078d4d42bb",
   "metadata": {},
   "outputs": [
    {
     "data": {
      "text/plain": [
       "'Elephant'"
      ]
     },
     "execution_count": 15,
     "metadata": {},
     "output_type": "execute_result"
    }
   ],
   "source": [
    "liste[0]"
   ]
  },
  {
   "cell_type": "code",
   "execution_count": 16,
   "id": "e762995d-d249-43ae-8ed8-27adfdce621f",
   "metadata": {
    "editable": true,
    "slideshow": {
     "slide_type": "slide"
    },
    "tags": []
   },
   "outputs": [
    {
     "data": {
      "text/plain": [
       "0      3750.0\n",
       "1      3800.0\n",
       "2      3250.0\n",
       "3         NaN\n",
       "4      3450.0\n",
       "        ...  \n",
       "339       NaN\n",
       "340    4850.0\n",
       "341    5750.0\n",
       "342    5200.0\n",
       "343    5400.0\n",
       "Name: body_mass_g, Length: 344, dtype: float64"
      ]
     },
     "execution_count": 16,
     "metadata": {},
     "output_type": "execute_result"
    }
   ],
   "source": [
    "df = sns.load_dataset('penguins')\n",
    "df['body_mass_g']"
   ]
  },
  {
   "cell_type": "code",
   "execution_count": 17,
   "id": "1e087dfa-3e26-4024-9312-20a8c5e0134f",
   "metadata": {},
   "outputs": [
    {
     "data": {
      "text/plain": [
       "species                 Adelie\n",
       "island               Torgersen\n",
       "bill_length_mm            36.7\n",
       "bill_depth_mm             19.3\n",
       "flipper_length_mm        193.0\n",
       "body_mass_g             3450.0\n",
       "sex                     Female\n",
       "Name: 4, dtype: object"
      ]
     },
     "execution_count": 17,
     "metadata": {},
     "output_type": "execute_result"
    }
   ],
   "source": [
    "df.loc[4]"
   ]
  },
  {
   "cell_type": "markdown",
   "id": "3988487b-c8d0-4e33-b780-f93110c0c54a",
   "metadata": {
    "editable": true,
    "slideshow": {
     "slide_type": "slide"
    },
    "tags": []
   },
   "source": [
    "### Runde Klammern\n",
    "\n",
    "#### Funktionsausrufe"
   ]
  },
  {
   "cell_type": "code",
   "execution_count": 18,
   "id": "27bc7f10-1a2a-4dcf-873c-b3a74359b26b",
   "metadata": {
    "editable": true,
    "slideshow": {
     "slide_type": ""
    },
    "tags": []
   },
   "outputs": [
    {
     "data": {
      "text/plain": [
       "0.6931471805599453"
      ]
     },
     "execution_count": 18,
     "metadata": {},
     "output_type": "execute_result"
    }
   ],
   "source": [
    "np.log(2)"
   ]
  },
  {
   "cell_type": "code",
   "execution_count": 19,
   "id": "8855eca7-a4c7-480f-999b-484694d40432",
   "metadata": {},
   "outputs": [
    {
     "data": {
      "text/plain": [
       "4050.0"
      ]
     },
     "execution_count": 19,
     "metadata": {},
     "output_type": "execute_result"
    }
   ],
   "source": [
    "df.body_mass_g.median()"
   ]
  },
  {
   "cell_type": "markdown",
   "id": "8d262178-989b-4835-a099-f8a3da90499e",
   "metadata": {
    "editable": true,
    "jp-MarkdownHeadingCollapsed": true,
    "slideshow": {
     "slide_type": "fragment"
    },
    "tags": []
   },
   "source": [
    "#### Ausführungsreihenfolge"
   ]
  },
  {
   "cell_type": "markdown",
   "id": "940495c0-b9b8-412d-bca0-674e017dc7cf",
   "metadata": {
    "editable": true,
    "slideshow": {
     "slide_type": ""
    },
    "tags": []
   },
   "source": [
    "#### "
   ]
  },
  {
   "cell_type": "code",
   "execution_count": 20,
   "id": "2c6f19aa-fc09-4290-a190-746e38350188",
   "metadata": {
    "editable": true,
    "slideshow": {
     "slide_type": ""
    },
    "tags": []
   },
   "outputs": [
    {
     "data": {
      "text/plain": [
       "10"
      ]
     },
     "execution_count": 20,
     "metadata": {},
     "output_type": "execute_result"
    }
   ],
   "source": [
    "2 * 3+4"
   ]
  },
  {
   "cell_type": "code",
   "execution_count": 21,
   "id": "24fd544b-d1f7-47ef-98cc-56109f8bd74c",
   "metadata": {},
   "outputs": [
    {
     "data": {
      "text/plain": [
       "14"
      ]
     },
     "execution_count": 21,
     "metadata": {},
     "output_type": "execute_result"
    }
   ],
   "source": [
    "2 * (3+4)"
   ]
  },
  {
   "cell_type": "markdown",
   "id": "19bb8fb1-7b09-472e-9218-28d6661ecf73",
   "metadata": {
    "editable": true,
    "slideshow": {
     "slide_type": "slide"
    },
    "tags": []
   },
   "source": [
    "### Beispiel aus Lektion 5 mit beiden Sorten Klammern"
   ]
  },
  {
   "cell_type": "code",
   "execution_count": 24,
   "id": "735d1f6a-ca3e-4db9-ad71-a4d001f6bc2f",
   "metadata": {
    "editable": true,
    "slideshow": {
     "slide_type": ""
    },
    "tags": []
   },
   "outputs": [
    {
     "data": {
      "text/html": [
       "<div>\n",
       "<style scoped>\n",
       "    .dataframe tbody tr th:only-of-type {\n",
       "        vertical-align: middle;\n",
       "    }\n",
       "\n",
       "    .dataframe tbody tr th {\n",
       "        vertical-align: top;\n",
       "    }\n",
       "\n",
       "    .dataframe thead th {\n",
       "        text-align: right;\n",
       "    }\n",
       "</style>\n",
       "<table border=\"1\" class=\"dataframe\">\n",
       "  <thead>\n",
       "    <tr style=\"text-align: right;\">\n",
       "      <th></th>\n",
       "      <th>species</th>\n",
       "      <th>island</th>\n",
       "      <th>bill_length_mm</th>\n",
       "      <th>bill_depth_mm</th>\n",
       "      <th>flipper_length_mm</th>\n",
       "      <th>body_mass_g</th>\n",
       "      <th>sex</th>\n",
       "    </tr>\n",
       "  </thead>\n",
       "  <tbody>\n",
       "    <tr>\n",
       "      <th>42</th>\n",
       "      <td>Adelie</td>\n",
       "      <td>Dream</td>\n",
       "      <td>36.0</td>\n",
       "      <td>18.5</td>\n",
       "      <td>186.0</td>\n",
       "      <td>3100.0</td>\n",
       "      <td>Female</td>\n",
       "    </tr>\n",
       "    <tr>\n",
       "      <th>48</th>\n",
       "      <td>Adelie</td>\n",
       "      <td>Dream</td>\n",
       "      <td>36.0</td>\n",
       "      <td>17.9</td>\n",
       "      <td>190.0</td>\n",
       "      <td>3450.0</td>\n",
       "      <td>Female</td>\n",
       "    </tr>\n",
       "    <tr>\n",
       "      <th>90</th>\n",
       "      <td>Adelie</td>\n",
       "      <td>Dream</td>\n",
       "      <td>35.7</td>\n",
       "      <td>18.0</td>\n",
       "      <td>202.0</td>\n",
       "      <td>3550.0</td>\n",
       "      <td>Female</td>\n",
       "    </tr>\n",
       "    <tr>\n",
       "      <th>92</th>\n",
       "      <td>Adelie</td>\n",
       "      <td>Dream</td>\n",
       "      <td>34.0</td>\n",
       "      <td>17.1</td>\n",
       "      <td>185.0</td>\n",
       "      <td>3400.0</td>\n",
       "      <td>Female</td>\n",
       "    </tr>\n",
       "    <tr>\n",
       "      <th>98</th>\n",
       "      <td>Adelie</td>\n",
       "      <td>Dream</td>\n",
       "      <td>33.1</td>\n",
       "      <td>16.1</td>\n",
       "      <td>178.0</td>\n",
       "      <td>2900.0</td>\n",
       "      <td>Female</td>\n",
       "    </tr>\n",
       "    <tr>\n",
       "      <th>136</th>\n",
       "      <td>Adelie</td>\n",
       "      <td>Dream</td>\n",
       "      <td>35.6</td>\n",
       "      <td>17.5</td>\n",
       "      <td>191.0</td>\n",
       "      <td>3175.0</td>\n",
       "      <td>Female</td>\n",
       "    </tr>\n",
       "    <tr>\n",
       "      <th>142</th>\n",
       "      <td>Adelie</td>\n",
       "      <td>Dream</td>\n",
       "      <td>32.1</td>\n",
       "      <td>15.5</td>\n",
       "      <td>188.0</td>\n",
       "      <td>3050.0</td>\n",
       "      <td>Female</td>\n",
       "    </tr>\n",
       "    <tr>\n",
       "      <th>148</th>\n",
       "      <td>Adelie</td>\n",
       "      <td>Dream</td>\n",
       "      <td>36.0</td>\n",
       "      <td>17.8</td>\n",
       "      <td>195.0</td>\n",
       "      <td>3450.0</td>\n",
       "      <td>Female</td>\n",
       "    </tr>\n",
       "    <tr>\n",
       "      <th>150</th>\n",
       "      <td>Adelie</td>\n",
       "      <td>Dream</td>\n",
       "      <td>36.0</td>\n",
       "      <td>17.1</td>\n",
       "      <td>187.0</td>\n",
       "      <td>3700.0</td>\n",
       "      <td>Female</td>\n",
       "    </tr>\n",
       "  </tbody>\n",
       "</table>\n",
       "</div>"
      ],
      "text/plain": [
       "    species island  bill_length_mm  bill_depth_mm  flipper_length_mm  \\\n",
       "42   Adelie  Dream            36.0           18.5              186.0   \n",
       "48   Adelie  Dream            36.0           17.9              190.0   \n",
       "90   Adelie  Dream            35.7           18.0              202.0   \n",
       "92   Adelie  Dream            34.0           17.1              185.0   \n",
       "98   Adelie  Dream            33.1           16.1              178.0   \n",
       "136  Adelie  Dream            35.6           17.5              191.0   \n",
       "142  Adelie  Dream            32.1           15.5              188.0   \n",
       "148  Adelie  Dream            36.0           17.8              195.0   \n",
       "150  Adelie  Dream            36.0           17.1              187.0   \n",
       "\n",
       "     body_mass_g     sex  \n",
       "42        3100.0  Female  \n",
       "48        3450.0  Female  \n",
       "90        3550.0  Female  \n",
       "92        3400.0  Female  \n",
       "98        2900.0  Female  \n",
       "136       3175.0  Female  \n",
       "142       3050.0  Female  \n",
       "148       3450.0  Female  \n",
       "150       3700.0  Female  "
      ]
     },
     "execution_count": 24,
     "metadata": {},
     "output_type": "execute_result"
    }
   ],
   "source": [
    "df[(df.island=='Dream') & (df.sex=='Female') & (df.bill_length_mm <= 36)]"
   ]
  },
  {
   "cell_type": "markdown",
   "id": "6485f55d-c8cc-4823-969a-0cdd0eaccdf9",
   "metadata": {
    "editable": true,
    "slideshow": {
     "slide_type": ""
    },
    "tags": []
   },
   "source": [
    "* eckige Klammern:  Auswahl von Zeilen mit den gesuchten Eigenschaften\n",
    "* runde Klammern:   erzwingen Vorrang des Vergleichsoperators `==` vor dem logischen Operator `&`"
   ]
  }
 ],
 "metadata": {
  "celltoolbar": "Slideshow",
  "kernelspec": {
   "display_name": "Python 3 (ipykernel)",
   "language": "python",
   "name": "python3"
  },
  "language_info": {
   "codemirror_mode": {
    "name": "ipython",
    "version": 3
   },
   "file_extension": ".py",
   "mimetype": "text/x-python",
   "name": "python",
   "nbconvert_exporter": "python",
   "pygments_lexer": "ipython3",
   "version": "3.13.7"
  }
 },
 "nbformat": 4,
 "nbformat_minor": 5
}
