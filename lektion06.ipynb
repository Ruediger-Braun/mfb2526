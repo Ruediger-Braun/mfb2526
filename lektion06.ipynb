{
 "cells": [
  {
   "cell_type": "markdown",
   "id": "e01baa24",
   "metadata": {
    "editable": true,
    "slideshow": {
     "slide_type": "slide"
    },
    "tags": []
   },
   "source": [
    "# Mathematik für Biologiestudierende\n",
    "\n",
    "Wintersemester 2025/26\n",
    "\n",
    "29. Oktober 2025\n",
    "\n",
    "&copy; 2025 Prof. Dr. Rüdiger W. Braun "
   ]
  },
  {
   "cell_type": "markdown",
   "id": "4534c659-2e7d-4d0a-83a1-fd080b8c99b8",
   "metadata": {
    "editable": true,
    "slideshow": {
     "slide_type": "slide"
    },
    "tags": []
   },
   "source": [
    "## Wiederholung (interaktiv)"
   ]
  },
  {
   "cell_type": "markdown",
   "id": "f73f7d1c-fa5c-4589-9910-e219bf69838d",
   "metadata": {
    "editable": true,
    "slideshow": {
     "slide_type": ""
    },
    "tags": []
   },
   "source": [
    "Gehen Sie auf die Website\n",
    "\n",
    "* https://pingo.coactum.de\n",
    "\n",
    "und geben Sie folgende Zugangsnummer ein\n",
    "\n",
    "* **670719**\n",
    "\n",
    "oder scannen Sie den QR-Code\n",
    "\n",
    "![QR-Code](bilder/qr02.png)\n"
   ]
  },
  {
   "cell_type": "markdown",
   "id": "d7cdc1a0-6e21-4975-b8d5-f4ab38b81cd6",
   "metadata": {
    "editable": true,
    "slideshow": {
     "slide_type": "slide"
    },
    "tags": []
   },
   "source": [
    "## Themen heute\n",
    "\n",
    "* Streuungsparameter\n",
    "* Quartile\n",
    "* Box-Whisker Plots\n",
    "* Python und Pandas:  Verwendung von Klammern"
   ]
  },
  {
   "cell_type": "code",
   "execution_count": 1,
   "id": "35b514cd-b450-4bf4-a8b7-e244c729be22",
   "metadata": {
    "editable": true,
    "slideshow": {
     "slide_type": "slide"
    },
    "tags": []
   },
   "outputs": [],
   "source": [
    "import numpy as np\n",
    "np.set_printoptions(legacy='1.21')\n",
    "import seaborn as sns\n",
    "sns.set_theme()\n",
    "sns.set_context('talk')\n",
    "import pandas as pd"
   ]
  },
  {
   "cell_type": "markdown",
   "id": "e1ac2a2b-917f-4edc-b5b3-2b314d52113e",
   "metadata": {
    "editable": true,
    "slideshow": {
     "slide_type": "slide"
    },
    "tags": []
   },
   "source": [
    "# Streuungsparameter"
   ]
  },
  {
   "cell_type": "markdown",
   "id": "ed41611b-8739-48fb-a600-1e86852c8ff2",
   "metadata": {
    "editable": true,
    "slideshow": {
     "slide_type": "fragment"
    },
    "tags": []
   },
   "source": [
    "## Empirische Varianz und Stichprobenstreuung\n",
    "\n",
    "* Beim Stichprobenumfang $n$ seien $x_1, x_2, x_3, \\dots, x_n$ die Messwerte, dann ist das *empirische Varianz* gleich\n",
    "    \\begin{equation*}\n",
    "      s^2 = \\frac{(x_1-\\overline x)^2 + (x_2-\\overline x)^2 +\n",
    "        (x_3-\\overline x)^2 + \\dots + (x_n-\\overline x)^2}{n-1}\n",
    "    \\end{equation*}\n",
    "    Dabei ist $\\overline x$ das arithmetische Mittel\n",
    "* Die empirische Varianz wird mit $s^2$ bezeichnet.  "
   ]
  },
  {
   "cell_type": "markdown",
   "id": "194b67a5-01a9-452b-9c1f-377ff05295e1",
   "metadata": {
    "editable": true,
    "slideshow": {
     "slide_type": "fragment"
    },
    "tags": []
   },
   "source": [
    "* Die Zahl $s$ heißt *empirische Standardabweichung* oder\n",
    "    *Stichprobenstreuung*\n",
    "* Die Stichprobenstreuung ist also die Quadratwurzel der empirischen Varianz"
   ]
  },
  {
   "cell_type": "markdown",
   "id": "5bb99e71-a6e5-4723-9f22-6023f829bfc0",
   "metadata": {
    "editable": true,
    "slideshow": {
     "slide_type": "slide"
    },
    "tags": []
   },
   "source": [
    "## Konkrete Rechnung\n",
    "\n",
    "Bei fünf Proben wurden die folgenden Massen in [g] gewogen: \n",
    "\n",
    "| Nummer | 1      | 2      | 3     | 4      | 5   |\n",
    "|--------|--------|--------|-------|--------|-----|\n",
    "| Masse  | 1.1    | 1.3    | 1.6   | 1.3    | 2.0 |\n",
    "\n",
    "$$\\displaystyle \\sum_{j=1}^5 x_j = 7.3g$$\n",
    "$$\\overline x = \\frac{7.3g}5 = 1.46g$$\n",
    "$$\\sum_{j=1}^5 (x_j-\\overline x)^2 = 0.4920g^2$$\n",
    "$$s^2 = \\frac{0.4920g^2}4 = 0.1230g^2 \\quad\\text{und}\\quad\n",
    "s = \\sqrt{0.1230g^2} = 0.3507g$$"
   ]
  },
  {
   "cell_type": "code",
   "execution_count": 2,
   "id": "2bcd45cc-568a-4ac8-be47-17cc2441ca55",
   "metadata": {
    "editable": true,
    "slideshow": {
     "slide_type": "slide"
    },
    "tags": []
   },
   "outputs": [
    {
     "data": {
      "text/html": [
       "<div>\n",
       "<style scoped>\n",
       "    .dataframe tbody tr th:only-of-type {\n",
       "        vertical-align: middle;\n",
       "    }\n",
       "\n",
       "    .dataframe tbody tr th {\n",
       "        vertical-align: top;\n",
       "    }\n",
       "\n",
       "    .dataframe thead th {\n",
       "        text-align: right;\n",
       "    }\n",
       "</style>\n",
       "<table border=\"1\" class=\"dataframe\">\n",
       "  <thead>\n",
       "    <tr style=\"text-align: right;\">\n",
       "      <th></th>\n",
       "      <th>Gewicht</th>\n",
       "    </tr>\n",
       "  </thead>\n",
       "  <tbody>\n",
       "    <tr>\n",
       "      <th>0</th>\n",
       "      <td>21.3</td>\n",
       "    </tr>\n",
       "    <tr>\n",
       "      <th>1</th>\n",
       "      <td>19.8</td>\n",
       "    </tr>\n",
       "    <tr>\n",
       "      <th>2</th>\n",
       "      <td>20.4</td>\n",
       "    </tr>\n",
       "    <tr>\n",
       "      <th>3</th>\n",
       "      <td>19.0</td>\n",
       "    </tr>\n",
       "    <tr>\n",
       "      <th>4</th>\n",
       "      <td>22.7</td>\n",
       "    </tr>\n",
       "  </tbody>\n",
       "</table>\n",
       "</div>"
      ],
      "text/plain": [
       "   Gewicht\n",
       "0     21.3\n",
       "1     19.8\n",
       "2     20.4\n",
       "3     19.0\n",
       "4     22.7"
      ]
     },
     "execution_count": 2,
     "metadata": {},
     "output_type": "execute_result"
    }
   ],
   "source": [
    "maeuse = pd.DataFrame()\n",
    "maeuse['Gewicht'] = [21.3, 19.8, 20.4, 19.0, 22.7]\n",
    "maeuse"
   ]
  },
  {
   "cell_type": "code",
   "execution_count": 3,
   "id": "0747519e-94ef-488f-abbf-5ea5173bbbb6",
   "metadata": {
    "editable": true,
    "slideshow": {
     "slide_type": "fragment"
    },
    "tags": []
   },
   "outputs": [
    {
     "data": {
      "text/plain": [
       "Gewicht    2.033\n",
       "dtype: float64"
      ]
     },
     "execution_count": 3,
     "metadata": {},
     "output_type": "execute_result"
    }
   ],
   "source": [
    "maeuse.var()"
   ]
  },
  {
   "cell_type": "markdown",
   "id": "2f1c3a24-9e10-4bbd-92ba-571b609e7a4c",
   "metadata": {
    "editable": true,
    "slideshow": {
     "slide_type": ""
    },
    "tags": []
   },
   "source": [
    "`var` empirische Varianz"
   ]
  },
  {
   "cell_type": "code",
   "execution_count": 4,
   "id": "03a10e62-843d-4ec3-96c5-841d77908014",
   "metadata": {
    "editable": true,
    "slideshow": {
     "slide_type": "fragment"
    },
    "tags": []
   },
   "outputs": [
    {
     "data": {
      "text/plain": [
       "Gewicht    1.425833\n",
       "dtype: float64"
      ]
     },
     "execution_count": 4,
     "metadata": {},
     "output_type": "execute_result"
    }
   ],
   "source": [
    "maeuse.std()"
   ]
  },
  {
   "cell_type": "markdown",
   "id": "23ebbf7d-cbe1-4360-a906-48eb415096e4",
   "metadata": {
    "editable": true,
    "slideshow": {
     "slide_type": ""
    },
    "tags": []
   },
   "source": [
    "`std`  Stichprobenstreuung (engl.  \"sample standard deviation\")"
   ]
  },
  {
   "cell_type": "markdown",
   "id": "40ba898a-671e-4e1f-9d31-2e0357cc4a03",
   "metadata": {
    "editable": true,
    "slideshow": {
     "slide_type": "slide"
    },
    "tags": []
   },
   "source": [
    "## Stichprobenstreuung vs. Varianz\n",
    "\n",
    "* Der Vorteil der Stichprobenstreuung gegenüber der Varianz ist, dass die Stichprobenstreuung richtig skaliert\n",
    "* Das bedeutet folgendes: Wenn ich alle Daten mit 1000 multipliziere, dann\n",
    "  * multipliziert sich das arithmetische Mittel mit 1000\n",
    "  * multipliziert sich die Varianz mit 1000000\n",
    "  * multipliziert sich die Stichprobenstreuung mit 1000\n",
    "* Das bedeutet auch, dass die Stichprobenstreuung in derselben Einheit angegegeben wird wie die Daten\n",
    "\n",
    "\n",
    "\n"
   ]
  },
  {
   "cell_type": "markdown",
   "id": "2677a9ba-c756-4724-a693-3d79a7511ea9",
   "metadata": {
    "editable": true,
    "slideshow": {
     "slide_type": "slide"
    },
    "tags": []
   },
   "source": [
    "## Formeln für die Varianz\n",
    "\n",
    "* Die Definition ohne Pünktchen\n",
    "    \\begin{equation*}\n",
    "      s^2 = \\frac1{n-1} \\sum_{j=1}^n \\left(x_j - \\overline x \\right)^2\n",
    "    \\end{equation*}\n",
    "* Eine etwas einfachere Formel, deren Richtigkeit leicht nachgerechnet werden kann\n",
    "    \\begin{equation*}\n",
    "      s^2 = \\frac1{n-1} \\biggr( \\Bigr( \\sum_{j=1}^n x_j^2 \\Bigr) - n\n",
    "      {\\overline x}^2 \\biggr)\n",
    "    \\end{equation*}"
   ]
  },
  {
   "cell_type": "markdown",
   "id": "3bdb5023-c110-454e-897e-80331c9ef1f4",
   "metadata": {
    "editable": true,
    "slideshow": {
     "slide_type": "slide"
    },
    "tags": []
   },
   "source": [
    "## Warum $n - 1$ im Nenner?\n",
    "\n",
    "* $n-1$ ist die Zahl *Freiheitsgrade*\n",
    "* Das ist ein heuristisches Konzept:\n",
    "  * erstmal hat man pro Stichprobe einen Freiheitsgrad\n",
    "  * für jeden Wert, den man hilfsweise schätzen muss, wird ein Freiheitsgrad abgezogen\n",
    "* zur Berechnung der Varianz muss das arithmetische Mittel bestimmt werden:  also ein Freiheitgrad Abzug"
   ]
  },
  {
   "cell_type": "markdown",
   "id": "4904543d-f9ae-4b9a-a0f5-2baf4f1457ce",
   "metadata": {
    "editable": true,
    "slideshow": {
     "slide_type": "fragment"
    },
    "tags": []
   },
   "source": [
    "* Das bedeutet, dass man, wenn man für viele Datensätze die Varianz mit dieser Methode feststellt, im Mittel näher an der wahren Varianz ist, als wenn man den Nenner $n$ benutzt\n",
    "* Alle großen Software-Pakete machen das so "
   ]
  },
  {
   "cell_type": "markdown",
   "id": "15b52335-f5f2-419e-8356-fc5a38df9225",
   "metadata": {
    "editable": true,
    "slideshow": {
     "slide_type": "fragment"
    },
    "tags": []
   },
   "source": [
    "Software-Pakete:\n",
    "\n",
    "* `python` mit `pandas` und `scipy.stats`\n",
    "* `R`\n",
    "* `SPSS`"
   ]
  },
  {
   "cell_type": "markdown",
   "id": "240826c7-5203-4bec-9df2-8aab67cab794",
   "metadata": {
    "editable": true,
    "slideshow": {
     "slide_type": "slide"
    },
    "tags": []
   },
   "source": [
    "Wenn gewünscht, kann man von Nenner $n-1$ zu Nenner $n$ umschalten"
   ]
  },
  {
   "cell_type": "code",
   "execution_count": 5,
   "id": "1bdf3c58-ae52-4558-b42f-eeb06d4e183f",
   "metadata": {},
   "outputs": [
    {
     "data": {
      "text/plain": [
       "Gewicht    1.6264\n",
       "dtype: float64"
      ]
     },
     "execution_count": 5,
     "metadata": {},
     "output_type": "execute_result"
    }
   ],
   "source": [
    "maeuse.var(ddof=0)"
   ]
  },
  {
   "cell_type": "code",
   "execution_count": 6,
   "id": "d1272bd8-4f56-4352-b774-ff720a711eb3",
   "metadata": {},
   "outputs": [
    {
     "data": {
      "text/plain": [
       "Gewicht    2.033\n",
       "dtype: float64"
      ]
     },
     "execution_count": 6,
     "metadata": {},
     "output_type": "execute_result"
    }
   ],
   "source": [
    "maeuse.var()"
   ]
  },
  {
   "cell_type": "markdown",
   "id": "e6507abf-9ad6-465f-bfdb-261eb6c2da5d",
   "metadata": {},
   "source": [
    "`ddof` = delta degrees of freedom; das ist die Zahl, die man vom Stichprobenumfang abzieht, um die Zahl der Freiheitsgrade zu bekommen"
   ]
  },
  {
   "cell_type": "markdown",
   "id": "fe5cdb47-3aee-4b0a-bf43-4b7ecee8f34f",
   "metadata": {},
   "source": [
    "Achten Sie auf Ihren Taschenrechner!"
   ]
  },
  {
   "cell_type": "markdown",
   "id": "54349e05-fcd7-46b0-9904-43af95200a93",
   "metadata": {
    "editable": true,
    "slideshow": {
     "slide_type": "slide"
    },
    "tags": []
   },
   "source": [
    "## Zusammenfassungen mit `describe`"
   ]
  },
  {
   "cell_type": "code",
   "execution_count": 7,
   "id": "cec87616-1476-4f46-8e6b-b462242ff1b8",
   "metadata": {
    "editable": true,
    "slideshow": {
     "slide_type": ""
    },
    "tags": []
   },
   "outputs": [
    {
     "data": {
      "text/html": [
       "<div>\n",
       "<style scoped>\n",
       "    .dataframe tbody tr th:only-of-type {\n",
       "        vertical-align: middle;\n",
       "    }\n",
       "\n",
       "    .dataframe tbody tr th {\n",
       "        vertical-align: top;\n",
       "    }\n",
       "\n",
       "    .dataframe thead th {\n",
       "        text-align: right;\n",
       "    }\n",
       "</style>\n",
       "<table border=\"1\" class=\"dataframe\">\n",
       "  <thead>\n",
       "    <tr style=\"text-align: right;\">\n",
       "      <th></th>\n",
       "      <th>Gewicht</th>\n",
       "    </tr>\n",
       "  </thead>\n",
       "  <tbody>\n",
       "    <tr>\n",
       "      <th>count</th>\n",
       "      <td>5.000000</td>\n",
       "    </tr>\n",
       "    <tr>\n",
       "      <th>mean</th>\n",
       "      <td>20.640000</td>\n",
       "    </tr>\n",
       "    <tr>\n",
       "      <th>std</th>\n",
       "      <td>1.425833</td>\n",
       "    </tr>\n",
       "    <tr>\n",
       "      <th>min</th>\n",
       "      <td>19.000000</td>\n",
       "    </tr>\n",
       "    <tr>\n",
       "      <th>25%</th>\n",
       "      <td>19.800000</td>\n",
       "    </tr>\n",
       "    <tr>\n",
       "      <th>50%</th>\n",
       "      <td>20.400000</td>\n",
       "    </tr>\n",
       "    <tr>\n",
       "      <th>75%</th>\n",
       "      <td>21.300000</td>\n",
       "    </tr>\n",
       "    <tr>\n",
       "      <th>max</th>\n",
       "      <td>22.700000</td>\n",
       "    </tr>\n",
       "  </tbody>\n",
       "</table>\n",
       "</div>"
      ],
      "text/plain": [
       "         Gewicht\n",
       "count   5.000000\n",
       "mean   20.640000\n",
       "std     1.425833\n",
       "min    19.000000\n",
       "25%    19.800000\n",
       "50%    20.400000\n",
       "75%    21.300000\n",
       "max    22.700000"
      ]
     },
     "execution_count": 7,
     "metadata": {},
     "output_type": "execute_result"
    }
   ],
   "source": [
    "maeuse.describe()"
   ]
  },
  {
   "cell_type": "markdown",
   "id": "d451012e-20b1-45f5-9085-3576e2442088",
   "metadata": {},
   "source": [
    "* `count`: Anzahl\n",
    "* `mean`: arithmetisches Mittel\n",
    "* `std`: Stichprobenstreuung\n",
    "* `min`: kleinster Wert\n",
    "* `50%`: Median\n",
    "* `25%`, `75%`: Quartile  (s.u.)\n",
    "* `max`: größter Wert"
   ]
  },
  {
   "cell_type": "markdown",
   "id": "f2fa95ca-4828-42c9-ac5f-85561931f6bb",
   "metadata": {
    "editable": true,
    "slideshow": {
     "slide_type": "slide"
    },
    "tags": []
   },
   "source": [
    "Funktioniert auch für DataFrames"
   ]
  },
  {
   "cell_type": "code",
   "execution_count": 8,
   "id": "01a03fea-cb7a-4aa6-b193-087520239be0",
   "metadata": {},
   "outputs": [
    {
     "data": {
      "text/html": [
       "<div>\n",
       "<style scoped>\n",
       "    .dataframe tbody tr th:only-of-type {\n",
       "        vertical-align: middle;\n",
       "    }\n",
       "\n",
       "    .dataframe tbody tr th {\n",
       "        vertical-align: top;\n",
       "    }\n",
       "\n",
       "    .dataframe thead th {\n",
       "        text-align: right;\n",
       "    }\n",
       "</style>\n",
       "<table border=\"1\" class=\"dataframe\">\n",
       "  <thead>\n",
       "    <tr style=\"text-align: right;\">\n",
       "      <th></th>\n",
       "      <th>bill_length_mm</th>\n",
       "      <th>bill_depth_mm</th>\n",
       "      <th>flipper_length_mm</th>\n",
       "      <th>body_mass_g</th>\n",
       "    </tr>\n",
       "  </thead>\n",
       "  <tbody>\n",
       "    <tr>\n",
       "      <th>count</th>\n",
       "      <td>342.000000</td>\n",
       "      <td>342.000000</td>\n",
       "      <td>342.000000</td>\n",
       "      <td>342.000000</td>\n",
       "    </tr>\n",
       "    <tr>\n",
       "      <th>mean</th>\n",
       "      <td>43.921930</td>\n",
       "      <td>17.151170</td>\n",
       "      <td>200.915205</td>\n",
       "      <td>4201.754386</td>\n",
       "    </tr>\n",
       "    <tr>\n",
       "      <th>std</th>\n",
       "      <td>5.459584</td>\n",
       "      <td>1.974793</td>\n",
       "      <td>14.061714</td>\n",
       "      <td>801.954536</td>\n",
       "    </tr>\n",
       "    <tr>\n",
       "      <th>min</th>\n",
       "      <td>32.100000</td>\n",
       "      <td>13.100000</td>\n",
       "      <td>172.000000</td>\n",
       "      <td>2700.000000</td>\n",
       "    </tr>\n",
       "    <tr>\n",
       "      <th>25%</th>\n",
       "      <td>39.225000</td>\n",
       "      <td>15.600000</td>\n",
       "      <td>190.000000</td>\n",
       "      <td>3550.000000</td>\n",
       "    </tr>\n",
       "    <tr>\n",
       "      <th>50%</th>\n",
       "      <td>44.450000</td>\n",
       "      <td>17.300000</td>\n",
       "      <td>197.000000</td>\n",
       "      <td>4050.000000</td>\n",
       "    </tr>\n",
       "    <tr>\n",
       "      <th>75%</th>\n",
       "      <td>48.500000</td>\n",
       "      <td>18.700000</td>\n",
       "      <td>213.000000</td>\n",
       "      <td>4750.000000</td>\n",
       "    </tr>\n",
       "    <tr>\n",
       "      <th>max</th>\n",
       "      <td>59.600000</td>\n",
       "      <td>21.500000</td>\n",
       "      <td>231.000000</td>\n",
       "      <td>6300.000000</td>\n",
       "    </tr>\n",
       "  </tbody>\n",
       "</table>\n",
       "</div>"
      ],
      "text/plain": [
       "       bill_length_mm  bill_depth_mm  flipper_length_mm  body_mass_g\n",
       "count      342.000000     342.000000         342.000000   342.000000\n",
       "mean        43.921930      17.151170         200.915205  4201.754386\n",
       "std          5.459584       1.974793          14.061714   801.954536\n",
       "min         32.100000      13.100000         172.000000  2700.000000\n",
       "25%         39.225000      15.600000         190.000000  3550.000000\n",
       "50%         44.450000      17.300000         197.000000  4050.000000\n",
       "75%         48.500000      18.700000         213.000000  4750.000000\n",
       "max         59.600000      21.500000         231.000000  6300.000000"
      ]
     },
     "execution_count": 8,
     "metadata": {},
     "output_type": "execute_result"
    }
   ],
   "source": [
    "df = sns.load_dataset(\"penguins\")\n",
    "df.describe()"
   ]
  },
  {
   "cell_type": "markdown",
   "id": "de7f2e46-a4e3-4d7b-8c29-b02517279551",
   "metadata": {
    "editable": true,
    "slideshow": {
     "slide_type": ""
    },
    "tags": []
   },
   "source": [
    "* Spalten, die kategorielle Daten enthalten, werden ausgelassen\n",
    "* bei `count` sind die `NaN` nicht mitgezählt"
   ]
  },
  {
   "cell_type": "markdown",
   "id": "c19cb4d2-532a-4695-973e-af4df23afe45",
   "metadata": {
    "editable": true,
    "slideshow": {
     "slide_type": "slide"
    },
    "tags": []
   },
   "source": [
    "## Quartile"
   ]
  },
  {
   "cell_type": "markdown",
   "id": "39ebf69d-5fe6-4c1d-a589-51739add18da",
   "metadata": {
    "editable": true,
    "slideshow": {
     "slide_type": "fragment"
    },
    "tags": []
   },
   "source": [
    "* Das Quartil $Q_1$ ist als derjenige Wert definiert, unter dem 25% und über dem 75% der Messwerte liegen\n",
    "* Das Quartil $Q_3$ ist als derjenige Wert definiert, über dem 25% und unter dem 75% der Messwerte liegen\n",
    "* Das Quartil $Q_2$ ist der Median"
   ]
  },
  {
   "cell_type": "markdown",
   "id": "a283f042-8196-409e-bcba-4c87c100f93c",
   "metadata": {
    "editable": true,
    "slideshow": {
     "slide_type": ""
    },
    "tags": []
   },
   "source": [
    "* Bei den Schnabellängen: $Q_1 = 39.225$ und $Q_3 = 48.5$"
   ]
  },
  {
   "cell_type": "markdown",
   "id": "2c6e08d5-9586-4ae2-b213-cbfa6d2673ff",
   "metadata": {
    "editable": true,
    "slideshow": {
     "slide_type": "fragment"
    },
    "tags": []
   },
   "source": [
    "#### Beispielgrafik\n",
    "\n",
    "die vier Viertel sind unterschiedlich gefärbt\n",
    "\n",
    "![Image](./bilder/quartile.png)"
   ]
  },
  {
   "cell_type": "markdown",
   "id": "ee39a72c-81bc-42d9-a0aa-1742064f292b",
   "metadata": {
    "editable": true,
    "slideshow": {
     "slide_type": "slide"
    },
    "tags": []
   },
   "source": [
    "## Zusammenhang zwischen Quartilen und Quantilen\n",
    "\n",
    "* Allgemeiner ist für $q$ zwischen $0$ und $1$ das $q$-*Quantil* derjenige Wert, so dass der Anteil der Messwerte unterhalb dieses Wertes gleich $q$ und der Anteil oberhalb gleich $1-q$ ist\n",
    "* Wenn $q$ in Prozent ausgedrückt wird, dann spricht man auch von *Perzentilen*"
   ]
  },
  {
   "cell_type": "markdown",
   "id": "d3d48e30-08da-4ff9-9670-772d2a1bd37b",
   "metadata": {
    "editable": true,
    "slideshow": {
     "slide_type": ""
    },
    "tags": []
   },
   "source": [
    "|Quartil     |Quantil      |\n",
    "|------------|-------------|\n",
    "|1. Quartil  | 25%-Quantil |\n",
    "|Median      | 50%-Quantil |\n",
    "|3. Quartil  | 75%-Quantil | "
   ]
  },
  {
   "cell_type": "markdown",
   "id": "d4b16a4e-0815-4bb3-9d55-c49bb0a1f91d",
   "metadata": {
    "editable": true,
    "slideshow": {
     "slide_type": "fragment"
    },
    "tags": []
   },
   "source": [
    "Beispiel\n",
    "\n",
    "* Leute, die zu den reichsten 1% der Bevölkerung gehören, haben ein Einkommen oberhalb des 99%-Quantils"
   ]
  },
  {
   "cell_type": "markdown",
   "id": "f314698c-3812-4c83-8a99-f5b5345a1141",
   "metadata": {
    "editable": true,
    "slideshow": {
     "slide_type": "slide"
    },
    "tags": []
   },
   "source": [
    "# Interquartilabstand\n",
    "\n",
    "* Der Interquartilabstand ist definiert als\n",
    "  $$\n",
    "      \\text{IQR} = Q_3 - Q_1\n",
    "  $$\n",
    "* Der Interquartilabstand ist ein robustes Maß für die Streuung"
   ]
  },
  {
   "cell_type": "markdown",
   "id": "30b2e4c3-0508-46ed-8daf-d91c0a3a81d1",
   "metadata": {
    "editable": true,
    "slideshow": {
     "slide_type": "slide"
    },
    "tags": []
   },
   "source": [
    "Berechnung des Interquartilabstands"
   ]
  },
  {
   "cell_type": "code",
   "execution_count": 9,
   "id": "b20e59cb-56e6-45dd-af8f-e8582044dc5d",
   "metadata": {
    "editable": true,
    "slideshow": {
     "slide_type": ""
    },
    "tags": []
   },
   "outputs": [
    {
     "data": {
      "text/plain": [
       "count     342.000000\n",
       "mean     4201.754386\n",
       "std       801.954536\n",
       "min      2700.000000\n",
       "25%      3550.000000\n",
       "50%      4050.000000\n",
       "75%      4750.000000\n",
       "max      6300.000000\n",
       "Name: body_mass_g, dtype: float64"
      ]
     },
     "execution_count": 9,
     "metadata": {},
     "output_type": "execute_result"
    }
   ],
   "source": [
    "body = df.body_mass_g.describe()\n",
    "body"
   ]
  },
  {
   "cell_type": "code",
   "execution_count": 10,
   "id": "6e6c0113-49a1-4c18-b10d-b6b0245aafc9",
   "metadata": {
    "editable": true,
    "slideshow": {
     "slide_type": ""
    },
    "tags": []
   },
   "outputs": [
    {
     "data": {
      "text/plain": [
       "1200.0"
      ]
     },
     "execution_count": 10,
     "metadata": {},
     "output_type": "execute_result"
    }
   ],
   "source": [
    "body['75%'] - body['25%']"
   ]
  },
  {
   "cell_type": "markdown",
   "id": "8b7704c7-9cd3-4d9e-abbc-9dbab2eb2ca9",
   "metadata": {
    "editable": true,
    "slideshow": {
     "slide_type": "slide"
    },
    "tags": []
   },
   "source": [
    "# Box-Whisker-Plots"
   ]
  },
  {
   "cell_type": "code",
   "execution_count": 11,
   "id": "02679f08-c0bc-403a-9cb0-9103b1537bb0",
   "metadata": {
    "editable": true,
    "slideshow": {
     "slide_type": ""
    },
    "tags": []
   },
   "outputs": [
    {
     "data": {
      "image/png": "[encoded data removed]",
      "text/plain": [
       "<Figure size 640x480 with 1 Axes>"
      ]
     },
     "metadata": {},
     "output_type": "display_data"
    }
   ],
   "source": [
    "sns.boxplot(df, x=\"species\", y=\"body_mass_g\");"
   ]
  },
  {
   "cell_type": "markdown",
   "id": "41d87639-d7a3-4776-8066-5059252d93fc",
   "metadata": {
    "editable": true,
    "slideshow": {
     "slide_type": "slide"
    },
    "tags": []
   },
   "source": [
    "Ein Boxplot, auch Box-Whisker-Plot genannt, zeigt von unten nach oben\n",
    "\n",
    "* untere Einzelpunkte\n",
    "* unterster Datenpunkt, der kein Einzelpunkt ist\n",
    "* $Q_1$\n",
    "* Median\n",
    "* $Q_3$\n",
    "* oberster Datenpunkt, der kein Einzelpunkt ist\n",
    "* obere Einzelpunkte\n",
    "\n",
    "Einzelpunkte sind solche, die weiter als 1.5 Interquartilabstände von $Q_1$ bzw. $Q_3$ weg sind"
   ]
  },
  {
   "cell_type": "markdown",
   "id": "65fdb00f-3558-40fb-94bb-aee25a42ab7b",
   "metadata": {
    "editable": true,
    "slideshow": {
     "slide_type": "slide"
    },
    "tags": []
   },
   "source": [
    "Manchmal werden die Einzelpunkte als \"Ausreißer\" bezeichnet.   Das kann man aber nicht so einfach gleichsetzen."
   ]
  },
  {
   "cell_type": "code",
   "execution_count": 12,
   "id": "0ad37dc5-6e88-4611-8ff2-5d0ec02d1ea3",
   "metadata": {
    "editable": true,
    "slideshow": {
     "slide_type": ""
    },
    "tags": []
   },
   "outputs": [],
   "source": [
    "maeuse2 = pd.DataFrame()\n",
    "maeuse2['Gewicht'] = [21.3, 19.8, 20.4, 19.0, 22.7, 287] "
   ]
  },
  {
   "cell_type": "code",
   "execution_count": 13,
   "id": "6bda8cc5-837d-49c2-aab3-40199d10c3f8",
   "metadata": {
    "editable": true,
    "slideshow": {
     "slide_type": ""
    },
    "tags": []
   },
   "outputs": [
    {
     "data": {
      "image/png": "[encoded data removed]",
      "text/plain": [
       "<Figure size 640x480 with 1 Axes>"
      ]
     },
     "metadata": {},
     "output_type": "display_data"
    }
   ],
   "source": [
    "sns.boxplot(maeuse2.Gewicht);"
   ]
  },
  {
   "cell_type": "markdown",
   "id": "f4d13c04-5046-4690-acef-fa199dd13a0a",
   "metadata": {
    "editable": true,
    "slideshow": {
     "slide_type": ""
    },
    "tags": []
   },
   "source": [
    "Das ist wirklich ein Ausreißer (engl. \"outlier\")"
   ]
  }
 ],
 "metadata": {
  "celltoolbar": "Slideshow",
  "kernelspec": {
   "display_name": "Python 3 (ipykernel)",
   "language": "python",
   "name": "python3"
  },
  "language_info": {
   "codemirror_mode": {
    "name": "ipython",
    "version": 3
   },
   "file_extension": ".py",
   "mimetype": "text/x-python",
   "name": "python",
   "nbconvert_exporter": "python",
   "pygments_lexer": "ipython3",
   "version": "3.13.7"
  }
 },
 "nbformat": 4,
 "nbformat_minor": 5
}
