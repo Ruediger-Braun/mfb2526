{
 "cells": [
  {
   "cell_type": "markdown",
   "id": "e01baa24",
   "metadata": {
    "editable": true,
    "slideshow": {
     "slide_type": "slide"
    },
    "tags": []
   },
   "source": [
    "# Mathematik für Biologiestudierende\n",
    "\n",
    "Wintersemester 2025/26\n",
    "\n",
    "22. Oktober 2025\n",
    "\n",
    "&copy; 2025 Prof. Dr. Rüdiger W. Braun "
   ]
  },
  {
   "cell_type": "markdown",
   "id": "4534c659-2e7d-4d0a-83a1-fd080b8c99b8",
   "metadata": {
    "editable": true,
    "slideshow": {
     "slide_type": "slide"
    },
    "tags": []
   },
   "source": [
    "## Wiederholung (interaktiv)"
   ]
  },
  {
   "cell_type": "markdown",
   "id": "f73f7d1c-fa5c-4589-9910-e219bf69838d",
   "metadata": {
    "editable": true,
    "slideshow": {
     "slide_type": ""
    },
    "tags": []
   },
   "source": [
    "Gehen Sie auf die Website\n",
    "\n",
    "* https://pingo.coactum.de\n",
    "\n",
    "und geben Sie folgende Zugangsnummer ein\n",
    "\n",
    "* **670719**\n",
    "\n",
    "oder scannen Sie den QR-Code\n",
    "\n",
    "![QR-Code](bilder/qr02.png)\n"
   ]
  },
  {
   "cell_type": "markdown",
   "id": "d7cdc1a0-6e21-4975-b8d5-f4ab38b81cd6",
   "metadata": {
    "editable": true,
    "slideshow": {
     "slide_type": "slide"
    },
    "tags": []
   },
   "source": [
    "## Themen heute\n",
    "\n",
    "* Merkmale\n",
    "* Zufallsstichproben\n",
    "* Histogramme"
   ]
  },
  {
   "cell_type": "markdown",
   "id": "b8bd7b3b-a018-4446-b3d1-9943332a38d2",
   "metadata": {
    "editable": true,
    "slideshow": {
     "slide_type": "slide"
    },
    "tags": []
   },
   "source": [
    "# Merkmale"
   ]
  },
  {
   "cell_type": "markdown",
   "id": "c346e33b-9a34-45ee-9750-4537541b6627",
   "metadata": {
    "editable": true,
    "slideshow": {
     "slide_type": "slide"
    },
    "tags": []
   },
   "source": [
    "# Grundbegriffe\n",
    "\n",
    "* die Elemente der Grundgesamtheit sind Träger von Merkmalen\n",
    "* die Merkmale haben verschiedene Ausprägungen\n",
    "* jedes Element der Grundgesamtheit besitzt für jedes Merkmal nur eine Ausprägung"
   ]
  },
  {
   "cell_type": "markdown",
   "id": "24861a58-5b51-4d29-806e-0714676dd785",
   "metadata": {
    "editable": true,
    "slideshow": {
     "slide_type": "fragment"
    },
    "tags": []
   },
   "source": [
    "## Typen von Merkmalen\n",
    "  \n",
    "* *Quantitatives Merkmal:*\n",
    "\n",
    "    zahlenmäßig erfassbar; Zahlenwerte besitzen Bedeutung\n",
    "    \n",
    "    unterteilt in\n",
    "\n",
    "    * *stetiges Merkmal:*\n",
    "\n",
    "      Zahlenwerte variieren kontinuierlich (z.B. Gewicht, gemessene Zeit)\n",
    "      </p>\n",
    "      \n",
    "    * *diskretes Merkmal:*\n",
    "\n",
    "      Skala ohne Zwischenwerte (z.B. Anzahl, Zeit in Tagen)\n",
    "      </p>\n",
    "    \n",
    "* *Qualitatives Merkmal:*\n",
    "\n",
    "    alle anderen"
   ]
  },
  {
   "cell_type": "markdown",
   "id": "2a1c0564-4ced-4f5f-88f4-8c51a218360d",
   "metadata": {
    "editable": true,
    "slideshow": {
     "slide_type": "slide"
    },
    "tags": []
   },
   "source": [
    "## Beispiele zu den Grundbegriffen\n",
    "  \n",
    "Grundgesamtheit: alle Bäume einer Baumschule\n",
    "\n",
    "* Merkmal: Art (qualitatives Merkmal) \n",
    "    \n",
    "  Ausprägung:  Fichte\n",
    "  </p>\n",
    "\n",
    "* Merkmal: Größe (quantitativ stetiges Merkmal) \n",
    "  \n",
    "  Ausprägung: 3.38m\n",
    "  \n",
    "  </p>\n",
    "  \n",
    "* Merkmal:  Pflanzdatum (quantitativ diskretes Merkmal) \n",
    "    \n",
    "  Ausprägung: 9.10.2003\n",
    "\n"
   ]
  },
  {
   "cell_type": "markdown",
   "id": "e6526b17-0b21-440a-91f7-3c981a1cc573",
   "metadata": {
    "editable": true,
    "slideshow": {
     "slide_type": "slide"
    },
    "tags": []
   },
   "source": [
    "### Matrikelnummer\n",
    "\n",
    "Ist die Matrikelnummer ein quantitatives oder ein qualitatives Merkmal?"
   ]
  },
  {
   "cell_type": "markdown",
   "id": "89ea2098-dfe4-4a32-a7d7-189f97a99f7f",
   "metadata": {
    "editable": true,
    "slideshow": {
     "slide_type": "fragment"
    },
    "tags": []
   },
   "source": [
    "Antwort:  Qualitatives Merkmal"
   ]
  },
  {
   "cell_type": "markdown",
   "id": "9fb95732-6074-4e54-9b5a-cc64ea0d52b4",
   "metadata": {
    "editable": true,
    "slideshow": {
     "slide_type": "slide"
    },
    "tags": []
   },
   "source": [
    "## Darstellung von Merkmalen in Python\n",
    "\n",
    "* Ausprägungen qualitativer Merkmale werden als kategorielle Daten bezeichnet\n",
    "* sie werden als Zeichenketten (string) dargestellt\n",
    "* Beispiel `species = \"Adelie\"`"
   ]
  },
  {
   "cell_type": "markdown",
   "id": "a46c0954-bd83-4548-aba0-c35a3ed75bc4",
   "metadata": {
    "editable": true,
    "slideshow": {
     "slide_type": "fragment"
    },
    "tags": []
   },
   "source": [
    "* Zeichenketten werden in Anführungszeichen oder in Apostrophe eingeschlossen\n",
    "* Beide Darstellungen sind gleichwertig"
   ]
  },
  {
   "cell_type": "code",
   "execution_count": 9,
   "id": "2375cd20-6f1b-4f2d-b8b9-e2bfbf471ef4",
   "metadata": {},
   "outputs": [
    {
     "data": {
      "text/plain": [
       "\"The professor's favorite language is Python\""
      ]
     },
     "execution_count": 9,
     "metadata": {},
     "output_type": "execute_result"
    }
   ],
   "source": [
    "text = \"The professor's favorite language is Python\"\n",
    "text"
   ]
  },
  {
   "cell_type": "markdown",
   "id": "3cbb32cb-5f3d-4c9c-96f3-bfdfdbf14c23",
   "metadata": {
    "editable": true,
    "slideshow": {
     "slide_type": "slide"
    },
    "tags": []
   },
   "source": [
    "* diskrete quantitative Merkmale werden als ganze Zahlen (integer) dargestellt\n",
    "* Beispiel `anzahl = 17`"
   ]
  },
  {
   "cell_type": "markdown",
   "id": "02540e9a-b1ae-44c7-b150-b2873b7ff18e",
   "metadata": {
    "editable": true,
    "slideshow": {
     "slide_type": "fragment"
    },
    "tags": []
   },
   "source": [
    "* kontinuierliche quantitative Merkmale werden als Gleitkommazahlen (float) dargestellt\n",
    "* Beispiel `gewicht = 4.880`"
   ]
  },
  {
   "cell_type": "markdown",
   "id": "a191eba6-a1fe-410a-b643-a1d1b2f7c781",
   "metadata": {
    "editable": true,
    "slideshow": {
     "slide_type": "fragment"
    },
    "tags": []
   },
   "source": [
    "* Der Unterschied zwischen einer Gleitkommazahl und einer ganzen Zahl ist, dass die Gleitkommazahl einen Dezimalpunkt enthält, die ganze Zahl nicht\n",
    "* Python kann ganze Zahlen exakt darstellen, Gleitkommazahlen nur näherungsweise\n",
    "* Letzteres ist die Ursache der Rundungsfehler"
   ]
  },
  {
   "cell_type": "markdown",
   "id": "6ac66a2a-67d0-48a3-947a-5c04ac697b47",
   "metadata": {
    "editable": true,
    "slideshow": {
     "slide_type": "fragment"
    },
    "tags": []
   },
   "source": [
    "* Der Dezimaltrenner in Python ist der Punkt"
   ]
  },
  {
   "cell_type": "markdown",
   "id": "d258a3ed-530f-4ef3-8b5a-be87874fda2b",
   "metadata": {
    "editable": true,
    "slideshow": {
     "slide_type": "slide"
    },
    "tags": []
   },
   "source": [
    "# Stichproben\n",
    "\n",
    "* Eine *Stichprobe* ist eine **zufällig** gewonnene Teilmenge aus der zu untersuchenden Grundgesamtheit\n",
    "* Der *Stichprobenumfang* ist die Anzahl der Elemente in der Stichprobe\n",
    "* Die *Daten* sind die beobachteten Ausprägungen des Merkmals bzw. der Merkmale\n",
    "* Die Erfassung der Daten geschieht in der *Urliste*, auch *Protokoll* genannt"
   ]
  },
  {
   "cell_type": "markdown",
   "id": "9e176f62-6f56-445c-834e-9aa11500df77",
   "metadata": {
    "editable": true,
    "slideshow": {
     "slide_type": ""
    },
    "tags": []
   },
   "source": [
    "* Die Urliste ist unveränderlich"
   ]
  },
  {
   "cell_type": "markdown",
   "id": "2260c05f-6bdb-4e9b-9d76-0fd2962fdd79",
   "metadata": {
    "editable": true,
    "slideshow": {
     "slide_type": "slide"
    },
    "tags": []
   },
   "source": [
    "# Zufall"
   ]
  },
  {
   "cell_type": "markdown",
   "id": "c59d158e-0c60-4329-988e-7ec600a5c781",
   "metadata": {
    "editable": true,
    "slideshow": {
     "slide_type": "fragment"
    },
    "tags": []
   },
   "source": [
    "* Zufall bedeutet für uns: Das nächste Element ist nicht vorhersehbar\n",
    "* Zufällige Auswahl ist nicht einfach.  Man verwendet\n",
    "  \n",
    "  * Würfel\n",
    "  * Zufallsgenerator \n",
    "  * und früher sogar gedruckte Zufallstafeln"
   ]
  },
  {
   "cell_type": "markdown",
   "id": "52ca8917-9497-4685-ba80-0b7a1fe958e1",
   "metadata": {
    "editable": true,
    "slideshow": {
     "slide_type": "fragment"
    },
    "tags": []
   },
   "source": [
    "* weil der Computer eine deterministische Maschine ist, sind die in den verschiedenen Programmiersprachen verfügbaren Zufallsgeneratoren in Wahrheit Pseudozufallsgeneratoren, berechnen also Zahlenfolgen, die für den Beobachter unvorhersehbar sind\n",
    "\n",
    "* die Pseudozufallsgeneratoren der gängigen Programmiersprachen reichen für Versuchsplanung und Modellbildung völlig aus"
   ]
  },
  {
   "cell_type": "markdown",
   "id": "ed07e476-a27c-4418-95e0-a76a77df9423",
   "metadata": {
    "editable": true,
    "slideshow": {
     "slide_type": "slide"
    },
    "tags": []
   },
   "source": [
    "## Zufallsgeneratoren in Python"
   ]
  },
  {
   "cell_type": "markdown",
   "id": "3ed53914-e292-4d71-a051-eb530cc741f4",
   "metadata": {
    "editable": true,
    "slideshow": {
     "slide_type": "slide"
    },
    "tags": []
   },
   "source": [
    "Zuerst die Importe, die wir in der letzten Stunde auch schon hatten"
   ]
  },
  {
   "cell_type": "code",
   "execution_count": 17,
   "id": "35b514cd-b450-4bf4-a8b7-e244c729be22",
   "metadata": {},
   "outputs": [],
   "source": [
    "import numpy as np\n",
    "np.set_printoptions(legacy='1.21')\n",
    "import seaborn as sns\n",
    "sns.set_theme()\n",
    "sns.set_context('talk')\n",
    "import pandas as pd"
   ]
  },
  {
   "cell_type": "code",
   "execution_count": 18,
   "id": "9e09d6c0-6558-4d4c-b5cb-1f4082ae8967",
   "metadata": {
    "editable": true,
    "slideshow": {
     "slide_type": "slide"
    },
    "tags": []
   },
   "outputs": [],
   "source": [
    "rng = np.random.default_rng()"
   ]
  },
  {
   "cell_type": "markdown",
   "id": "c0cad407-f496-4b94-9f3b-7d985dcc7c18",
   "metadata": {},
   "source": [
    "Zufallsgenerator, englisch \"random number generator\""
   ]
  },
  {
   "cell_type": "code",
   "execution_count": 19,
   "id": "e5fa7c26-6af2-4ea0-94a7-ed313ae77db6",
   "metadata": {
    "editable": true,
    "slideshow": {
     "slide_type": "fragment"
    },
    "tags": []
   },
   "outputs": [
    {
     "data": {
      "text/plain": [
       "0.6794500106735398"
      ]
     },
     "execution_count": 19,
     "metadata": {},
     "output_type": "execute_result"
    }
   ],
   "source": [
    "rng.random()"
   ]
  },
  {
   "cell_type": "markdown",
   "id": "bd8746fd-52ee-46cd-8a8e-9736b1d99153",
   "metadata": {},
   "source": [
    "zufällige Gleitkommazahl zwischen 0 und 1"
   ]
  },
  {
   "cell_type": "code",
   "execution_count": 22,
   "id": "b95b29aa-018a-48aa-91b7-706015e1a423",
   "metadata": {},
   "outputs": [
    {
     "data": {
      "text/plain": [
       "0.32667043559205156"
      ]
     },
     "execution_count": 22,
     "metadata": {},
     "output_type": "execute_result"
    }
   ],
   "source": [
    "rng.random()"
   ]
  },
  {
   "cell_type": "code",
   "execution_count": 24,
   "id": "8d869cd5-8a6a-4d38-9b58-b204b59bc74d",
   "metadata": {},
   "outputs": [
    {
     "data": {
      "text/plain": [
       "0.6995224738108239"
      ]
     },
     "execution_count": 24,
     "metadata": {},
     "output_type": "execute_result"
    }
   ],
   "source": [
    "rng.random()"
   ]
  },
  {
   "cell_type": "code",
   "execution_count": 25,
   "id": "c063a012-2ee3-4a65-b0bb-a59a028a40de",
   "metadata": {},
   "outputs": [
    {
     "data": {
      "text/plain": [
       "array([0.07395228, 0.45763486, 0.32370623, 0.78058146, 0.67916668])"
      ]
     },
     "execution_count": 25,
     "metadata": {},
     "output_type": "execute_result"
    }
   ],
   "source": [
    "rng.random(size=5)"
   ]
  },
  {
   "cell_type": "code",
   "execution_count": 31,
   "id": "6505b3c2-0feb-4d42-927d-528cb161bcfc",
   "metadata": {
    "editable": true,
    "slideshow": {
     "slide_type": "slide"
    },
    "tags": []
   },
   "outputs": [
    {
     "data": {
      "text/plain": [
       "18"
      ]
     },
     "execution_count": 31,
     "metadata": {},
     "output_type": "execute_result"
    }
   ],
   "source": [
    "rng.integers(10, 20)"
   ]
  },
  {
   "cell_type": "markdown",
   "id": "434d8757-cff0-4842-b5e6-e0c15d13fe7d",
   "metadata": {},
   "source": [
    "`rng.integers(n, m)` zufällige ganze Zahl zwischen n (eingeschlossen) und m (ausgeschlossen)"
   ]
  },
  {
   "cell_type": "code",
   "execution_count": 48,
   "id": "0efbeeb6-b5ee-4be7-9c4e-91e0d60bcf50",
   "metadata": {
    "editable": true,
    "slideshow": {
     "slide_type": "slide"
    },
    "tags": []
   },
   "outputs": [
    {
     "data": {
      "text/plain": [
       "array([ 0,  1,  4,  9, 16, 25, 36, 49, 64, 81])"
      ]
     },
     "execution_count": 48,
     "metadata": {},
     "output_type": "execute_result"
    }
   ],
   "source": [
    "liste = np.arange(10)**2\n",
    "liste"
   ]
  },
  {
   "cell_type": "code",
   "execution_count": 49,
   "id": "3d01cf9a-9d04-418d-86af-6a130d9e9fe3",
   "metadata": {},
   "outputs": [
    {
     "data": {
      "text/plain": [
       "array([25,  1, 49,  4, 49,  9, 49, 81, 81,  4, 25, 16,  4, 36, 64])"
      ]
     },
     "execution_count": 49,
     "metadata": {},
     "output_type": "execute_result"
    }
   ],
   "source": [
    "rng.choice(liste, 15)"
   ]
  },
  {
   "cell_type": "markdown",
   "id": "2b8838d1-d875-4b7a-81aa-cd0b30fe0374",
   "metadata": {},
   "source": [
    "`rng.choice` zufällige Auswahl von Elementen aus einer Liste, Wiederholungen zulässig"
   ]
  },
  {
   "cell_type": "code",
   "execution_count": 50,
   "id": "0c606532-7607-49f5-8f8e-4be8d48fd295",
   "metadata": {},
   "outputs": [
    {
     "data": {
      "text/plain": [
       "array([ 9, 64,  0, 81, 25, 16,  1, 36,  4, 49])"
      ]
     },
     "execution_count": 50,
     "metadata": {},
     "output_type": "execute_result"
    }
   ],
   "source": [
    "rng.choice(liste, 10, replace=False)"
   ]
  },
  {
   "cell_type": "markdown",
   "id": "0ad98634-6f0f-42d6-9f5f-9bdfc0481fcb",
   "metadata": {},
   "source": [
    "mit `replace = False` werden Wiederholungen verboten"
   ]
  },
  {
   "cell_type": "markdown",
   "id": "a341ea1c-3e84-4a80-a2f1-eab28643bb92",
   "metadata": {
    "editable": true,
    "slideshow": {
     "slide_type": "slide"
    },
    "tags": []
   },
   "source": [
    "## Seeding"
   ]
  },
  {
   "cell_type": "code",
   "execution_count": 51,
   "id": "eb5cae8a-f80d-43f7-b1b0-1706f252c62a",
   "metadata": {
    "editable": true,
    "slideshow": {
     "slide_type": ""
    },
    "tags": []
   },
   "outputs": [],
   "source": [
    "rng = np.random.default_rng(1234)"
   ]
  },
  {
   "cell_type": "code",
   "execution_count": 52,
   "id": "f044e0cc-76a0-4037-a9dc-97914b4ffc06",
   "metadata": {},
   "outputs": [
    {
     "data": {
      "text/plain": [
       "array([9, 9, 9, 4, 2])"
      ]
     },
     "execution_count": 52,
     "metadata": {},
     "output_type": "execute_result"
    }
   ],
   "source": [
    "rng.integers(1, 10, size=5)"
   ]
  },
  {
   "cell_type": "code",
   "execution_count": 53,
   "id": "a86748db-2b0e-4731-ac3d-162996376a80",
   "metadata": {},
   "outputs": [
    {
     "data": {
      "text/plain": [
       "array([9, 1, 3, 2, 3])"
      ]
     },
     "execution_count": 53,
     "metadata": {},
     "output_type": "execute_result"
    }
   ],
   "source": [
    "rng.integers(1, 10, size=5)"
   ]
  },
  {
   "cell_type": "code",
   "execution_count": 54,
   "id": "b4b00c72-7fd7-43a4-8f7f-2ec113d73de3",
   "metadata": {},
   "outputs": [],
   "source": [
    "rng = np.random.default_rng(1234)"
   ]
  },
  {
   "cell_type": "code",
   "execution_count": 55,
   "id": "5f8c7320-4812-4cfe-b07e-003f7b4f3b81",
   "metadata": {},
   "outputs": [
    {
     "data": {
      "text/plain": [
       "array([9, 9, 9, 4, 2])"
      ]
     },
     "execution_count": 55,
     "metadata": {},
     "output_type": "execute_result"
    }
   ],
   "source": [
    "rng.integers(1, 10, size=5)"
   ]
  },
  {
   "cell_type": "markdown",
   "id": "f8a94692-ac66-4ccc-92ab-f7b2db6f48c4",
   "metadata": {
    "editable": true,
    "slideshow": {
     "slide_type": "fragment"
    },
    "tags": []
   },
   "source": [
    "Wozu soll das gut sein?"
   ]
  },
  {
   "cell_type": "markdown",
   "id": "03023fc0-a2f6-4540-b971-ac9473eeb151",
   "metadata": {},
   "source": [
    "* um beim Test von Programmen definierte Ausgangslagen zu haben"
   ]
  },
  {
   "cell_type": "markdown",
   "id": "e7b8e2a1-4626-40ae-ac2d-af10bceddb69",
   "metadata": {
    "editable": true,
    "slideshow": {
     "slide_type": "slide"
    },
    "tags": []
   },
   "source": [
    "## Beispiel zur Versuchsplanung\n",
    "\n",
    "Folgendes Experiment:\n",
    "\n",
    "* 25 Fische zufällig ausgewählt"
   ]
  },
  {
   "cell_type": "markdown",
   "id": "ee478fca-0c66-46e6-90bf-6c4c3f0895c5",
   "metadata": {
    "editable": true,
    "slideshow": {
     "slide_type": "fragment"
    },
    "tags": []
   },
   "source": [
    "* Fische lernen, in einem Labyrinth Futter zu suchen; Zeit wird gemessen"
   ]
  },
  {
   "cell_type": "markdown",
   "id": "4b42e140-ac8d-488f-b4a5-fbc8efd41ae8",
   "metadata": {
    "editable": true,
    "slideshow": {
     "slide_type": "fragment"
    },
    "tags": []
   },
   "source": [
    "* die Fische werden an 25 Artgenossen verfüttert"
   ]
  },
  {
   "cell_type": "markdown",
   "id": "9e432fe8-bc5e-4c16-bb81-3384e6ad6f8e",
   "metadata": {
    "editable": true,
    "slideshow": {
     "slide_type": "fragment"
    },
    "tags": []
   },
   "source": [
    "* die Artgenossen sollen im selben Labyrinth Futter suchen; Zeit wird gemessen"
   ]
  },
  {
   "cell_type": "markdown",
   "id": "22829a04-f03a-4f63-82a5-e471b22a4795",
   "metadata": {
    "editable": true,
    "slideshow": {
     "slide_type": "fragment"
    },
    "tags": []
   },
   "source": [
    "* die neuen Fische sind schneller"
   ]
  },
  {
   "cell_type": "markdown",
   "id": "f5adf817-6373-4c0d-a296-0c5b4c2322fb",
   "metadata": {
    "editable": true,
    "slideshow": {
     "slide_type": ""
    },
    "tags": []
   },
   "source": [
    "* Nobelpreis?"
   ]
  },
  {
   "cell_type": "markdown",
   "id": "8f1376d4-7468-47ba-8afe-2e0082c1a0e1",
   "metadata": {
    "editable": true,
    "slideshow": {
     "slide_type": ""
    },
    "tags": []
   },
   "source": []
  },
  {
   "cell_type": "markdown",
   "id": "e09c1b09-7652-403f-bf19-a69ba809c0c7",
   "metadata": {},
   "source": []
  },
  {
   "cell_type": "markdown",
   "id": "f8cd446c-8626-4c6e-822a-12b34bc6b687",
   "metadata": {},
   "source": []
  },
  {
   "cell_type": "markdown",
   "id": "bd776c39-bcbc-4498-af06-8b57ad638cda",
   "metadata": {},
   "source": []
  },
  {
   "cell_type": "markdown",
   "id": "db9071cd-955e-4a60-a9e4-c564f5f58426",
   "metadata": {},
   "source": []
  },
  {
   "cell_type": "markdown",
   "id": "5ad8e84c-cb94-4859-bc35-e57f0ba66b21",
   "metadata": {},
   "source": []
  },
  {
   "cell_type": "markdown",
   "id": "ee1c3733-debb-48ef-9bc1-b8794fd43905",
   "metadata": {
    "editable": true,
    "slideshow": {
     "slide_type": ""
    },
    "tags": []
   },
   "source": []
  },
  {
   "cell_type": "markdown",
   "id": "faa8fa49-3124-4251-aa0d-4b5d4b16df94",
   "metadata": {
    "editable": true,
    "slideshow": {
     "slide_type": "slide"
    },
    "tags": []
   },
   "source": [
    "# Grafiken\n",
    "\n",
    "* Balkendiagramm:  Für jeden möglichen Wert ein Balken, der die Anzahl anzeigt\n",
    "* Histogramm:  Wie Balkendiagramm, aber Werte werden vorher in Klassen zusammengefasst\n",
    "\n",
    "  Bei Stichprobenumfang $n$: Anzahl der Klassen ungefähr $\\sqrt n$\n",
    "* Tortendiagramm:  Anteile an der Gesamtpopulation werden grafisch dargestellt"
   ]
  },
  {
   "cell_type": "markdown",
   "id": "398cdf0c-e766-493e-8c79-175a0b4e29c4",
   "metadata": {
    "editable": true,
    "slideshow": {
     "slide_type": "slide"
    },
    "tags": []
   },
   "source": [
    "### Beispiel Pinguine"
   ]
  },
  {
   "cell_type": "code",
   "execution_count": 82,
   "id": "de8a63df-24f2-4ef7-a081-8a0dc18303c8",
   "metadata": {
    "editable": true,
    "slideshow": {
     "slide_type": ""
    },
    "tags": []
   },
   "outputs": [
    {
     "data": {
      "text/html": [
       "<div>\n",
       "<style scoped>\n",
       "    .dataframe tbody tr th:only-of-type {\n",
       "        vertical-align: middle;\n",
       "    }\n",
       "\n",
       "    .dataframe tbody tr th {\n",
       "        vertical-align: top;\n",
       "    }\n",
       "\n",
       "    .dataframe thead th {\n",
       "        text-align: right;\n",
       "    }\n",
       "</style>\n",
       "<table border=\"1\" class=\"dataframe\">\n",
       "  <thead>\n",
       "    <tr style=\"text-align: right;\">\n",
       "      <th></th>\n",
       "      <th>species</th>\n",
       "      <th>island</th>\n",
       "      <th>bill_length_mm</th>\n",
       "      <th>bill_depth_mm</th>\n",
       "      <th>flipper_length_mm</th>\n",
       "      <th>body_mass_g</th>\n",
       "      <th>sex</th>\n",
       "    </tr>\n",
       "  </thead>\n",
       "  <tbody>\n",
       "    <tr>\n",
       "      <th>0</th>\n",
       "      <td>Adelie</td>\n",
       "      <td>Torgersen</td>\n",
       "      <td>39.1</td>\n",
       "      <td>18.7</td>\n",
       "      <td>181.0</td>\n",
       "      <td>3750.0</td>\n",
       "      <td>Male</td>\n",
       "    </tr>\n",
       "    <tr>\n",
       "      <th>1</th>\n",
       "      <td>Adelie</td>\n",
       "      <td>Torgersen</td>\n",
       "      <td>39.5</td>\n",
       "      <td>17.4</td>\n",
       "      <td>186.0</td>\n",
       "      <td>3800.0</td>\n",
       "      <td>Female</td>\n",
       "    </tr>\n",
       "    <tr>\n",
       "      <th>2</th>\n",
       "      <td>Adelie</td>\n",
       "      <td>Torgersen</td>\n",
       "      <td>40.3</td>\n",
       "      <td>18.0</td>\n",
       "      <td>195.0</td>\n",
       "      <td>3250.0</td>\n",
       "      <td>Female</td>\n",
       "    </tr>\n",
       "    <tr>\n",
       "      <th>3</th>\n",
       "      <td>Adelie</td>\n",
       "      <td>Torgersen</td>\n",
       "      <td>NaN</td>\n",
       "      <td>NaN</td>\n",
       "      <td>NaN</td>\n",
       "      <td>NaN</td>\n",
       "      <td>NaN</td>\n",
       "    </tr>\n",
       "    <tr>\n",
       "      <th>4</th>\n",
       "      <td>Adelie</td>\n",
       "      <td>Torgersen</td>\n",
       "      <td>36.7</td>\n",
       "      <td>19.3</td>\n",
       "      <td>193.0</td>\n",
       "      <td>3450.0</td>\n",
       "      <td>Female</td>\n",
       "    </tr>\n",
       "    <tr>\n",
       "      <th>...</th>\n",
       "      <td>...</td>\n",
       "      <td>...</td>\n",
       "      <td>...</td>\n",
       "      <td>...</td>\n",
       "      <td>...</td>\n",
       "      <td>...</td>\n",
       "      <td>...</td>\n",
       "    </tr>\n",
       "    <tr>\n",
       "      <th>339</th>\n",
       "      <td>Gentoo</td>\n",
       "      <td>Biscoe</td>\n",
       "      <td>NaN</td>\n",
       "      <td>NaN</td>\n",
       "      <td>NaN</td>\n",
       "      <td>NaN</td>\n",
       "      <td>NaN</td>\n",
       "    </tr>\n",
       "    <tr>\n",
       "      <th>340</th>\n",
       "      <td>Gentoo</td>\n",
       "      <td>Biscoe</td>\n",
       "      <td>46.8</td>\n",
       "      <td>14.3</td>\n",
       "      <td>215.0</td>\n",
       "      <td>4850.0</td>\n",
       "      <td>Female</td>\n",
       "    </tr>\n",
       "    <tr>\n",
       "      <th>341</th>\n",
       "      <td>Gentoo</td>\n",
       "      <td>Biscoe</td>\n",
       "      <td>50.4</td>\n",
       "      <td>15.7</td>\n",
       "      <td>222.0</td>\n",
       "      <td>5750.0</td>\n",
       "      <td>Male</td>\n",
       "    </tr>\n",
       "    <tr>\n",
       "      <th>342</th>\n",
       "      <td>Gentoo</td>\n",
       "      <td>Biscoe</td>\n",
       "      <td>45.2</td>\n",
       "      <td>14.8</td>\n",
       "      <td>212.0</td>\n",
       "      <td>5200.0</td>\n",
       "      <td>Female</td>\n",
       "    </tr>\n",
       "    <tr>\n",
       "      <th>343</th>\n",
       "      <td>Gentoo</td>\n",
       "      <td>Biscoe</td>\n",
       "      <td>49.9</td>\n",
       "      <td>16.1</td>\n",
       "      <td>213.0</td>\n",
       "      <td>5400.0</td>\n",
       "      <td>Male</td>\n",
       "    </tr>\n",
       "  </tbody>\n",
       "</table>\n",
       "<p>344 rows × 7 columns</p>\n",
       "</div>"
      ],
      "text/plain": [
       "    species     island  bill_length_mm  bill_depth_mm  flipper_length_mm  \\\n",
       "0    Adelie  Torgersen            39.1           18.7              181.0   \n",
       "1    Adelie  Torgersen            39.5           17.4              186.0   \n",
       "2    Adelie  Torgersen            40.3           18.0              195.0   \n",
       "3    Adelie  Torgersen             NaN            NaN                NaN   \n",
       "4    Adelie  Torgersen            36.7           19.3              193.0   \n",
       "..      ...        ...             ...            ...                ...   \n",
       "339  Gentoo     Biscoe             NaN            NaN                NaN   \n",
       "340  Gentoo     Biscoe            46.8           14.3              215.0   \n",
       "341  Gentoo     Biscoe            50.4           15.7              222.0   \n",
       "342  Gentoo     Biscoe            45.2           14.8              212.0   \n",
       "343  Gentoo     Biscoe            49.9           16.1              213.0   \n",
       "\n",
       "     body_mass_g     sex  \n",
       "0         3750.0    Male  \n",
       "1         3800.0  Female  \n",
       "2         3250.0  Female  \n",
       "3            NaN     NaN  \n",
       "4         3450.0  Female  \n",
       "..           ...     ...  \n",
       "339          NaN     NaN  \n",
       "340       4850.0  Female  \n",
       "341       5750.0    Male  \n",
       "342       5200.0  Female  \n",
       "343       5400.0    Male  \n",
       "\n",
       "[344 rows x 7 columns]"
      ]
     },
     "execution_count": 82,
     "metadata": {},
     "output_type": "execute_result"
    }
   ],
   "source": [
    "df = sns.load_dataset(\"penguins\")\n",
    "df"
   ]
  },
  {
   "cell_type": "markdown",
   "id": "d43b251a-bce7-4e6e-bd60-5443d8104610",
   "metadata": {
    "editable": true,
    "slideshow": {
     "slide_type": "subslide"
    },
    "tags": []
   },
   "source": [
    "## Histogramm"
   ]
  },
  {
   "cell_type": "code",
   "execution_count": 83,
   "id": "722e44d7-9bfa-4b1f-968d-026c489bb382",
   "metadata": {
    "editable": true,
    "slideshow": {
     "slide_type": ""
    },
    "tags": []
   },
   "outputs": [
    {
     "data": {
      "image/png": "[encoded data removed]",
      "text/plain": [
       "<Figure size 500x500 with 1 Axes>"
      ]
     },
     "metadata": {},
     "output_type": "display_data"
    }
   ],
   "source": [
    "sns.displot(df, x='flipper_length_mm');"
   ]
  },
  {
   "cell_type": "markdown",
   "id": "0f4dfca7-6963-401c-950c-7ea0eb474316",
   "metadata": {
    "editable": true,
    "slideshow": {
     "slide_type": "slide"
    },
    "tags": []
   },
   "source": [
    "Die Anzahl der Fächer (bins) kann eingestellt werden"
   ]
  },
  {
   "cell_type": "code",
   "execution_count": 84,
   "id": "346180b9-f560-4768-a6cf-b32cb255ec4b",
   "metadata": {
    "editable": true,
    "slideshow": {
     "slide_type": ""
    },
    "tags": []
   },
   "outputs": [
    {
     "data": {
      "image/png": "[encoded data removed]",
      "text/plain": [
       "<Figure size 500x500 with 1 Axes>"
      ]
     },
     "metadata": {},
     "output_type": "display_data"
    }
   ],
   "source": [
    "sns.displot(df, x='flipper_length_mm', bins=20);"
   ]
  },
  {
   "cell_type": "markdown",
   "id": "b22869ed-d2a5-4d6e-a6d8-aa2985ce7143",
   "metadata": {
    "editable": true,
    "slideshow": {
     "slide_type": "slide"
    },
    "tags": []
   },
   "source": [
    "Alternativ kann auch die Breite der Fächer eingestellt werden"
   ]
  },
  {
   "cell_type": "code",
   "execution_count": 85,
   "id": "b013f01b-df1c-48fd-8a81-d7e29c33796b",
   "metadata": {
    "editable": true,
    "slideshow": {
     "slide_type": ""
    },
    "tags": []
   },
   "outputs": [
    {
     "data": {
      "image/png": "[encoded data removed]",
      "text/plain": [
       "<Figure size 640x480 with 1 Axes>"
      ]
     },
     "metadata": {},
     "output_type": "display_data"
    }
   ],
   "source": [
    "sns.histplot(df, x='flipper_length_mm', binwidth=2.5);"
   ]
  },
  {
   "cell_type": "markdown",
   "id": "44987427-af0d-49a3-be98-fa104346b513",
   "metadata": {
    "editable": true,
    "slideshow": {
     "slide_type": "slide"
    },
    "tags": []
   },
   "source": [
    "## Balkendiagramm"
   ]
  },
  {
   "cell_type": "markdown",
   "id": "7fecb5ad-6f88-4e06-a9c7-278c8bfab8fb",
   "metadata": {
    "editable": true,
    "slideshow": {
     "slide_type": ""
    },
    "tags": []
   },
   "source": [
    "Bei qualitativen Merkmalen spricht man von kategoriellen Daten.  Zählt man die Vorkommen, erhält man ein Balkendiagramm."
   ]
  },
  {
   "cell_type": "code",
   "execution_count": 86,
   "id": "788e95fb-b0bf-4125-b329-f62abe49562d",
   "metadata": {
    "editable": true,
    "slideshow": {
     "slide_type": ""
    },
    "tags": []
   },
   "outputs": [
    {
     "data": {
      "image/png": "[encoded data removed]",
      "text/plain": [
       "<Figure size 500x500 with 1 Axes>"
      ]
     },
     "metadata": {},
     "output_type": "display_data"
    }
   ],
   "source": [
    "sns.displot(df, x='species');"
   ]
  },
  {
   "cell_type": "markdown",
   "id": "e49a0065-d0c3-4891-aa8e-a33da89771bd",
   "metadata": {
    "editable": true,
    "slideshow": {
     "slide_type": "slide"
    },
    "tags": []
   },
   "source": [
    "### Pinguine\n",
    "\n",
    "|Adelie Pinguin |Zügelpinguin      |Eselspinguin   |\n",
    "|:-------------:|:----------------:|:-------------:|\n",
    "|Adelie penguin |Chinstrap penguin |Gentoo penguin |\n",
    "|<img src=\"https://upload.wikimedia.org/wikipedia/commons/thumb/7/7a/Antarctic%2C_adelie_penguin_%28js%29_57.jpg/250px-Antarctic%2C_adelie_penguin_%28js%29_57.jpg\" alt=\"Adeliepinguin\" width=\"200px\"/>|<img src=\"https://upload.wikimedia.org/wikipedia/commons/thumb/c/cd/Chinstrap_Penguin.jpg/330px-Chinstrap_Penguin.jpg\" alt=\"Zügelpinguin\" width=\"205px\">|<img src=\"https://upload.wikimedia.org/wikipedia/commons/thumb/b/be/Pygoscelis_papua.jpg/250px-Pygoscelis_papua.jpg\" alt=\"Eselspinguin\" width=\"225px\">    |"
   ]
  },
  {
   "cell_type": "code",
   "execution_count": 87,
   "id": "d2b814cb-e9b8-4782-ad15-0bfb0c9458c8",
   "metadata": {
    "editable": true,
    "slideshow": {
     "slide_type": "slide"
    },
    "tags": []
   },
   "outputs": [
    {
     "data": {
      "image/png": "[encoded data removed]",
      "text/plain": [
       "<Figure size 1500x500 with 3 Axes>"
      ]
     },
     "metadata": {},
     "output_type": "display_data"
    }
   ],
   "source": [
    "\n",
    "sns.displot(df, col='island', x='species');"
   ]
  },
  {
   "cell_type": "code",
   "execution_count": 88,
   "id": "e05bcaac-7ad3-4393-88af-6f9ac9cef77c",
   "metadata": {
    "editable": true,
    "slideshow": {
     "slide_type": "slide"
    },
    "tags": []
   },
   "outputs": [
    {
     "data": {
      "image/png": "[encoded data removed]",
      "text/plain": [
       "<Figure size 1659x500 with 3 Axes>"
      ]
     },
     "metadata": {},
     "output_type": "display_data"
    }
   ],
   "source": [
    "sns.displot(df, col='island', x='species', hue='sex', multiple=\"stack\");\n",
    "#sns.displot(df, col='island', x='species', hue='sex');"
   ]
  },
  {
   "cell_type": "markdown",
   "id": "836f26aa-50b2-4a40-9852-92d6fbd750d9",
   "metadata": {
    "editable": true,
    "slideshow": {
     "slide_type": "slide"
    },
    "tags": []
   },
   "source": [
    "## `displot`\n",
    "\n",
    "`displot(df, x, col, hue, binwidth)`  \n",
    "\n",
    "* df:  DataFrame\n",
    "* x: Variable auf der x-Achse, deren Elemente gezählt werden sollen, quantitativ oder kategoriell\n",
    "* col: für jeden Wert dieser Variable wird ein Bild gezeichnet, kategoriell (optional)\n",
    "* hue: Unterteilung der Zählung, durch Farben ausgedrückt, kategoriell (optional)\n",
    "* binwidth: Breite der Fächer (optional)\n",
    "* bins: Anzahl der Fächer (alternativ zu binwidth, optional)\n",
    "\n",
    "Die Angaben für `x`, `col` und `hue` beziehen sich auf Spaltennamen des DataFrame, sie werden in Anführungszeichen gesetzt"
   ]
  },
  {
   "cell_type": "code",
   "execution_count": 92,
   "id": "82f5ec2f-e2e8-40af-8f96-283f73b25dd5",
   "metadata": {
    "editable": true,
    "slideshow": {
     "slide_type": "slide"
    },
    "tags": []
   },
   "outputs": [
    {
     "data": {
      "image/png": "[encoded data removed]",
      "text/plain": [
       "<Figure size 680.625x500 with 1 Axes>"
      ]
     },
     "metadata": {},
     "output_type": "display_data"
    }
   ],
   "source": [
    "sns.displot(df, x='bill_length_mm', y='bill_depth_mm', hue='species');"
   ]
  },
  {
   "cell_type": "markdown",
   "id": "e309ff31-ec5b-4a10-97e6-89a5d3839105",
   "metadata": {
    "editable": true,
    "slideshow": {
     "slide_type": ""
    },
    "tags": []
   },
   "source": [
    "`displot(df, x, y, col, hue, binwidth)` \n",
    "\n",
    "* wie oben, aber y ist ebenfalls eine Variable \n",
    "* Häufgkeiten werden durch Farbintensitäten dargestellt"
   ]
  },
  {
   "cell_type": "markdown",
   "id": "dd9c78da-fa6e-48c2-b82c-f4fec082679d",
   "metadata": {
    "editable": true,
    "slideshow": {
     "slide_type": ""
    },
    "tags": []
   },
   "source": [
    "Fotos:\n",
    "* Adelie Pinguin: https://commons.wikimedia.org/wiki/User:Jerzystrzelecki\n",
    "* Zügelpinguin: https://www.flickr.com/people/9464116@N08\n",
    "* Eselspinguin: https://commons.wikimedia.org/wiki/User:Stan_Shebs"
   ]
  },
  {
   "cell_type": "code",
   "execution_count": null,
   "id": "5e37d857-ceea-4759-bb30-cf416c9b2a91",
   "metadata": {
    "editable": true,
    "slideshow": {
     "slide_type": ""
    },
    "tags": []
   },
   "outputs": [],
   "source": []
  }
 ],
 "metadata": {
  "celltoolbar": "Slideshow",
  "kernelspec": {
   "display_name": "Python 3 (ipykernel)",
   "language": "python",
   "name": "python3"
  },
  "language_info": {
   "codemirror_mode": {
    "name": "ipython",
    "version": 3
   },
   "file_extension": ".py",
   "mimetype": "text/x-python",
   "name": "python",
   "nbconvert_exporter": "python",
   "pygments_lexer": "ipython3",
   "version": "3.13.7"
  }
 },
 "nbformat": 4,
 "nbformat_minor": 5
}
