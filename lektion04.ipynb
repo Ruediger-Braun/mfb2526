{
 "cells": [
  {
   "cell_type": "markdown",
   "id": "e01baa24",
   "metadata": {
    "editable": true,
    "slideshow": {
     "slide_type": "slide"
    },
    "tags": []
   },
   "source": [
    "# Mathematik für Biologiestudierende\n",
    "\n",
    "Wintersemester 2025/26\n",
    "\n",
    "22. Oktober 2025\n",
    "\n",
    "&copy; 2025 Prof. Dr. Rüdiger W. Braun "
   ]
  },
  {
   "cell_type": "markdown",
   "id": "4534c659-2e7d-4d0a-83a1-fd080b8c99b8",
   "metadata": {
    "editable": true,
    "slideshow": {
     "slide_type": "slide"
    },
    "tags": []
   },
   "source": [
    "## Wiederholung (interaktiv)"
   ]
  },
  {
   "cell_type": "markdown",
   "id": "f73f7d1c-fa5c-4589-9910-e219bf69838d",
   "metadata": {
    "editable": true,
    "slideshow": {
     "slide_type": ""
    },
    "tags": []
   },
   "source": [
    "Gehen Sie auf die Website\n",
    "\n",
    "* https://pingo.coactum.de\n",
    "\n",
    "und geben Sie folgende Zugangsnummer ein\n",
    "\n",
    "* **670719**\n",
    "\n",
    "oder scannen Sie den QR-Code\n",
    "\n",
    "![QR-Code](bilder/qr02.png)\n"
   ]
  },
  {
   "cell_type": "markdown",
   "id": "d7cdc1a0-6e21-4975-b8d5-f4ab38b81cd6",
   "metadata": {
    "editable": true,
    "slideshow": {
     "slide_type": "slide"
    },
    "tags": []
   },
   "source": [
    "## Themen heute\n",
    "\n",
    "* Merkmale\n",
    "* Zufallsstichproben"
   ]
  },
  {
   "cell_type": "markdown",
   "id": "b8bd7b3b-a018-4446-b3d1-9943332a38d2",
   "metadata": {
    "editable": true,
    "slideshow": {
     "slide_type": "slide"
    },
    "tags": []
   },
   "source": [
    "# Merkmale"
   ]
  },
  {
   "cell_type": "markdown",
   "id": "c346e33b-9a34-45ee-9750-4537541b6627",
   "metadata": {
    "editable": true,
    "slideshow": {
     "slide_type": "slide"
    },
    "tags": []
   },
   "source": [
    "# Grundbegriffe\n",
    "\n",
    "* die Elemente der Grundgesamtheit sind Träger von Merkmalen\n",
    "* die Merkmale haben verschiedene Ausprägungen\n",
    "* jedes Element der Grundgesamtheit besitzt für jedes Merkmal nur eine Ausprägung"
   ]
  },
  {
   "cell_type": "markdown",
   "id": "24861a58-5b51-4d29-806e-0714676dd785",
   "metadata": {
    "editable": true,
    "slideshow": {
     "slide_type": "slide"
    },
    "tags": []
   },
   "source": [
    "## Typen von Merkmalen\n",
    "  \n",
    "* *Quantitatives Merkmal:*\n",
    "\n",
    "    zahlenmäßig erfassbar; Zahlenwerte besitzen Bedeutung\n",
    "    \n",
    "    unterteilt in\n",
    "\n",
    "    * *stetiges Merkmal:*\n",
    "\n",
    "      Zahlenwerte variieren kontinuierlich (z.B. Gewicht, gemessene Zeit)\n",
    "      </p>\n",
    "      \n",
    "    * *diskretes Merkmal:*\n",
    "\n",
    "      Skala ohne Zwischenwerte (z.B. Anzahl, Zeit in Tagen)\n",
    "      </p>\n",
    "    \n",
    "* *Qualitatives Merkmal:*\n",
    "\n",
    "    alle anderen"
   ]
  },
  {
   "cell_type": "markdown",
   "id": "2a1c0564-4ced-4f5f-88f4-8c51a218360d",
   "metadata": {
    "editable": true,
    "slideshow": {
     "slide_type": "slide"
    },
    "tags": []
   },
   "source": [
    "## Beispiele zu den Grundbegriffen\n",
    "  \n",
    "Grundgesamtheit: alle Bäume einer Baumschule\n",
    "\n",
    "* Merkmal: Art (qualitatives Merkmal) \n",
    "    \n",
    "  Ausprägung:  Fichte\n",
    "  </p>\n",
    "\n",
    "* Merkmal: Größe (quantitativ stetiges Merkmal) \n",
    "  \n",
    "  Ausprägung: 3.38m\n",
    "  \n",
    "  </p>\n",
    "  \n",
    "* Merkmal:  Pflanzdatum (quantitativ diskretes Merkmal) \n",
    "    \n",
    "  Ausprägung: 9.10.2003\n",
    "\n"
   ]
  },
  {
   "cell_type": "markdown",
   "id": "e6526b17-0b21-440a-91f7-3c981a1cc573",
   "metadata": {
    "editable": true,
    "slideshow": {
     "slide_type": "slide"
    },
    "tags": []
   },
   "source": [
    "### Matrikelnummer\n",
    "\n",
    "Ist die Matrikelnummer ein quantitatives oder ein qualitatives Merkmal?"
   ]
  },
  {
   "cell_type": "markdown",
   "id": "89ea2098-dfe4-4a32-a7d7-189f97a99f7f",
   "metadata": {
    "editable": true,
    "slideshow": {
     "slide_type": "fragment"
    },
    "tags": []
   },
   "source": [
    "Antwort:  Qualitatives Merkmal"
   ]
  },
  {
   "cell_type": "markdown",
   "id": "9fb95732-6074-4e54-9b5a-cc64ea0d52b4",
   "metadata": {
    "editable": true,
    "slideshow": {
     "slide_type": "slide"
    },
    "tags": []
   },
   "source": [
    "## Darstellung von Merkmalen in Python\n",
    "\n",
    "* Ausprägungen qualitativer Merkmale werden als kategorielle Daten bezeichnet\n",
    "* sie werden als Zeichenketten (string) dargestellt\n",
    "* Beispiel `species = \"Adelie\"`"
   ]
  },
  {
   "cell_type": "markdown",
   "id": "a46c0954-bd83-4548-aba0-c35a3ed75bc4",
   "metadata": {
    "editable": true,
    "slideshow": {
     "slide_type": "fragment"
    },
    "tags": []
   },
   "source": [
    "* Zeichenketten werden in Anführungszeichen oder in Apostrophe eingeschlossen\n",
    "* Beide Darstellungen sind gleichwertig"
   ]
  },
  {
   "cell_type": "markdown",
   "id": "3cbb32cb-5f3d-4c9c-96f3-bfdfdbf14c23",
   "metadata": {
    "editable": true,
    "slideshow": {
     "slide_type": "slide"
    },
    "tags": []
   },
   "source": [
    "* diskrete quantitative Merkmale werden als ganze Zahlen (integer) dargestellt\n",
    "* Beispiel `anzahl = 17`"
   ]
  },
  {
   "cell_type": "markdown",
   "id": "02540e9a-b1ae-44c7-b150-b2873b7ff18e",
   "metadata": {
    "editable": true,
    "slideshow": {
     "slide_type": "fragment"
    },
    "tags": []
   },
   "source": [
    "* kontinuierliche quantitative Merkmale werden als Gleitkommazahlen (float) dargestellt\n",
    "* Beispiel `gewicht = 4.880`"
   ]
  },
  {
   "cell_type": "markdown",
   "id": "a191eba6-a1fe-410a-b643-a1d1b2f7c781",
   "metadata": {
    "editable": true,
    "slideshow": {
     "slide_type": "fragment"
    },
    "tags": []
   },
   "source": [
    "* Der Unterschied zwischen einer Gleitkommazahl und einer ganzen Zahl ist, dass die Gleitkommazahl einen Dezimalpunkt enthält, die ganze Zahl nicht\n",
    "* Python kann ganze Zahlen exakt darstellen, Gleitkommazahlen nur näherungsweise\n",
    "* Letzteres ist die Ursache der Rundungsfehler"
   ]
  },
  {
   "cell_type": "markdown",
   "id": "6ac66a2a-67d0-48a3-947a-5c04ac697b47",
   "metadata": {
    "editable": true,
    "slideshow": {
     "slide_type": "fragment"
    },
    "tags": []
   },
   "source": [
    "* Der Dezimaltrenner in Python ist der Punkt"
   ]
  },
  {
   "cell_type": "markdown",
   "id": "d258a3ed-530f-4ef3-8b5a-be87874fda2b",
   "metadata": {
    "editable": true,
    "slideshow": {
     "slide_type": "slide"
    },
    "tags": []
   },
   "source": [
    "# Stichproben\n",
    "\n",
    "* Eine *Stichprobe* ist eine **zufällig** gewonnene Teilmenge aus der zu untersuchenden Grundgesamtheit\n",
    "* Der *Stichprobenumfang* ist die Anzahl der Elemente in der Stichprobe\n",
    "* Die *Daten* sind die beobachteten Ausprägungen des Merkmals bzw. der Merkmale\n",
    "* Die Erfassung der Daten geschieht in der *Urliste*, auch *Protokoll* genannt"
   ]
  },
  {
   "cell_type": "markdown",
   "id": "9e176f62-6f56-445c-834e-9aa11500df77",
   "metadata": {
    "editable": true,
    "slideshow": {
     "slide_type": ""
    },
    "tags": []
   },
   "source": [
    "* Die Urliste ist unveränderlich"
   ]
  },
  {
   "cell_type": "markdown",
   "id": "2260c05f-6bdb-4e9b-9d76-0fd2962fdd79",
   "metadata": {
    "editable": true,
    "slideshow": {
     "slide_type": "slide"
    },
    "tags": []
   },
   "source": [
    "# Zufall"
   ]
  },
  {
   "cell_type": "markdown",
   "id": "c59d158e-0c60-4329-988e-7ec600a5c781",
   "metadata": {
    "editable": true,
    "slideshow": {
     "slide_type": "fragment"
    },
    "tags": []
   },
   "source": [
    "* Zufall bedeutet für uns: Das nächste Element ist nicht vorhersehbar\n",
    "* Zufällige Auswahl ist nicht einfach.  Man verwendet\n",
    "  \n",
    "  * Würfel\n",
    "  * Zufallsgenerator \n",
    "  * und früher sogar gedruckte Zufallstafeln"
   ]
  },
  {
   "cell_type": "markdown",
   "id": "52ca8917-9497-4685-ba80-0b7a1fe958e1",
   "metadata": {
    "editable": true,
    "slideshow": {
     "slide_type": "fragment"
    },
    "tags": []
   },
   "source": [
    "* weil der Computer eine deterministische Maschine ist, sind die in den verschiedenen Programmiersprachen verfügbaren Zufallsgeneratoren in Wahrheit Pseudozufallsgeneratoren, berechnen also Zahlenfolgen, die für den Beobachter unvorhersehbar sind\n",
    "\n",
    "* die Pseudozufallsgeneratoren der gängigen Programmiersprachen reichen für Versuchsplanung und Modellbildung völlig aus"
   ]
  },
  {
   "cell_type": "markdown",
   "id": "ed07e476-a27c-4418-95e0-a76a77df9423",
   "metadata": {
    "editable": true,
    "slideshow": {
     "slide_type": "slide"
    },
    "tags": []
   },
   "source": [
    "## Zufallsgeneratoren in Python"
   ]
  },
  {
   "cell_type": "markdown",
   "id": "3ed53914-e292-4d71-a051-eb530cc741f4",
   "metadata": {
    "editable": true,
    "slideshow": {
     "slide_type": "slide"
    },
    "tags": []
   },
   "source": [
    "Zuerst die Importe, die wir in der letzten Stunde auch schon hatten"
   ]
  },
  {
   "cell_type": "code",
   "execution_count": 1,
   "id": "35b514cd-b450-4bf4-a8b7-e244c729be22",
   "metadata": {},
   "outputs": [],
   "source": [
    "import numpy as np\n",
    "np.set_printoptions(legacy='1.21')\n",
    "import seaborn as sns\n",
    "sns.set_theme()\n",
    "sns.set_context('talk')\n",
    "import pandas as pd"
   ]
  },
  {
   "cell_type": "code",
   "execution_count": 2,
   "id": "9e09d6c0-6558-4d4c-b5cb-1f4082ae8967",
   "metadata": {
    "editable": true,
    "slideshow": {
     "slide_type": "slide"
    },
    "tags": []
   },
   "outputs": [],
   "source": [
    "rng = np.random.default_rng()"
   ]
  },
  {
   "cell_type": "markdown",
   "id": "c0cad407-f496-4b94-9f3b-7d985dcc7c18",
   "metadata": {},
   "source": [
    "Zufallsgenerator, englisch \"random number generator\""
   ]
  },
  {
   "cell_type": "code",
   "execution_count": 3,
   "id": "e5fa7c26-6af2-4ea0-94a7-ed313ae77db6",
   "metadata": {
    "editable": true,
    "slideshow": {
     "slide_type": "fragment"
    },
    "tags": []
   },
   "outputs": [
    {
     "data": {
      "text/plain": [
       "0.041428591327625774"
      ]
     },
     "execution_count": 3,
     "metadata": {},
     "output_type": "execute_result"
    }
   ],
   "source": [
    "rng.random()"
   ]
  },
  {
   "cell_type": "markdown",
   "id": "bd8746fd-52ee-46cd-8a8e-9736b1d99153",
   "metadata": {},
   "source": [
    "zufällige Gleitkommazahl zwischen 0 und 1"
   ]
  },
  {
   "cell_type": "code",
   "execution_count": 4,
   "id": "b95b29aa-018a-48aa-91b7-706015e1a423",
   "metadata": {
    "editable": true,
    "slideshow": {
     "slide_type": "fragment"
    },
    "tags": []
   },
   "outputs": [
    {
     "data": {
      "text/plain": [
       "0.2481135223215747"
      ]
     },
     "execution_count": 4,
     "metadata": {},
     "output_type": "execute_result"
    }
   ],
   "source": [
    "rng.random()"
   ]
  },
  {
   "cell_type": "code",
   "execution_count": 5,
   "id": "8d869cd5-8a6a-4d38-9b58-b204b59bc74d",
   "metadata": {},
   "outputs": [
    {
     "data": {
      "text/plain": [
       "0.4225754568000326"
      ]
     },
     "execution_count": 5,
     "metadata": {},
     "output_type": "execute_result"
    }
   ],
   "source": [
    "rng.random()"
   ]
  },
  {
   "cell_type": "code",
   "execution_count": 6,
   "id": "c063a012-2ee3-4a65-b0bb-a59a028a40de",
   "metadata": {},
   "outputs": [
    {
     "data": {
      "text/plain": [
       "array([0.92790557, 0.33496595, 0.70976623, 0.39711929, 0.89596318])"
      ]
     },
     "execution_count": 6,
     "metadata": {},
     "output_type": "execute_result"
    }
   ],
   "source": [
    "rng.random(size=5)"
   ]
  },
  {
   "cell_type": "code",
   "execution_count": 7,
   "id": "6505b3c2-0feb-4d42-927d-528cb161bcfc",
   "metadata": {
    "editable": true,
    "slideshow": {
     "slide_type": "slide"
    },
    "tags": []
   },
   "outputs": [
    {
     "data": {
      "text/plain": [
       "13"
      ]
     },
     "execution_count": 7,
     "metadata": {},
     "output_type": "execute_result"
    }
   ],
   "source": [
    "rng.integers(10, 20)"
   ]
  },
  {
   "cell_type": "markdown",
   "id": "434d8757-cff0-4842-b5e6-e0c15d13fe7d",
   "metadata": {},
   "source": [
    "`rng.integers(n, m)` zufällige ganze Zahl zwischen n (eingeschlossen) und m (ausgeschlossen)"
   ]
  },
  {
   "cell_type": "code",
   "execution_count": 8,
   "id": "0efbeeb6-b5ee-4be7-9c4e-91e0d60bcf50",
   "metadata": {
    "editable": true,
    "slideshow": {
     "slide_type": "slide"
    },
    "tags": []
   },
   "outputs": [
    {
     "data": {
      "text/plain": [
       "array([ 0,  1,  4,  9, 16, 25, 36, 49, 64, 81])"
      ]
     },
     "execution_count": 8,
     "metadata": {},
     "output_type": "execute_result"
    }
   ],
   "source": [
    "liste = np.arange(10)**2\n",
    "liste"
   ]
  },
  {
   "cell_type": "code",
   "execution_count": 9,
   "id": "3d01cf9a-9d04-418d-86af-6a130d9e9fe3",
   "metadata": {},
   "outputs": [
    {
     "data": {
      "text/plain": [
       "array([ 4, 16,  1, 49,  9,  4,  9, 36,  4, 49, 36, 64, 49, 25, 36])"
      ]
     },
     "execution_count": 9,
     "metadata": {},
     "output_type": "execute_result"
    }
   ],
   "source": [
    "rng.choice(liste, 15)"
   ]
  },
  {
   "cell_type": "markdown",
   "id": "2b8838d1-d875-4b7a-81aa-cd0b30fe0374",
   "metadata": {},
   "source": [
    "`rng.choice` zufällige Auswahl von Elementen aus einer Liste, Wiederholungen zulässig"
   ]
  },
  {
   "cell_type": "code",
   "execution_count": 10,
   "id": "0c606532-7607-49f5-8f8e-4be8d48fd295",
   "metadata": {
    "editable": true,
    "slideshow": {
     "slide_type": "fragment"
    },
    "tags": []
   },
   "outputs": [
    {
     "data": {
      "text/plain": [
       "array([ 0,  4, 64, 49, 16, 81, 36,  9, 25,  1])"
      ]
     },
     "execution_count": 10,
     "metadata": {},
     "output_type": "execute_result"
    }
   ],
   "source": [
    "rng.choice(liste, 10, replace=False)"
   ]
  },
  {
   "cell_type": "markdown",
   "id": "0ad98634-6f0f-42d6-9f5f-9bdfc0481fcb",
   "metadata": {
    "editable": true,
    "slideshow": {
     "slide_type": ""
    },
    "tags": []
   },
   "source": [
    "mit `replace = False` werden Wiederholungen verboten"
   ]
  },
  {
   "cell_type": "markdown",
   "id": "a341ea1c-3e84-4a80-a2f1-eab28643bb92",
   "metadata": {
    "editable": true,
    "slideshow": {
     "slide_type": "slide"
    },
    "tags": []
   },
   "source": [
    "## Seeding"
   ]
  },
  {
   "cell_type": "code",
   "execution_count": 11,
   "id": "eb5cae8a-f80d-43f7-b1b0-1706f252c62a",
   "metadata": {
    "editable": true,
    "slideshow": {
     "slide_type": ""
    },
    "tags": []
   },
   "outputs": [],
   "source": [
    "rng = np.random.default_rng(1234)"
   ]
  },
  {
   "cell_type": "markdown",
   "id": "207c7d93-53d6-471b-9925-41308da83c32",
   "metadata": {
    "editable": true,
    "slideshow": {
     "slide_type": ""
    },
    "tags": []
   },
   "source": [
    "1234 ist das `seed`"
   ]
  },
  {
   "cell_type": "code",
   "execution_count": 12,
   "id": "f044e0cc-76a0-4037-a9dc-97914b4ffc06",
   "metadata": {
    "editable": true,
    "slideshow": {
     "slide_type": ""
    },
    "tags": []
   },
   "outputs": [
    {
     "data": {
      "text/plain": [
       "array([19, 19, 19,  8,  4])"
      ]
     },
     "execution_count": 12,
     "metadata": {},
     "output_type": "execute_result"
    }
   ],
   "source": [
    "rng.integers(1, 20, size=5)"
   ]
  },
  {
   "cell_type": "code",
   "execution_count": 13,
   "id": "a86748db-2b0e-4731-ac3d-162996376a80",
   "metadata": {
    "editable": true,
    "slideshow": {
     "slide_type": ""
    },
    "tags": []
   },
   "outputs": [
    {
     "data": {
      "text/plain": [
       "array([18,  2,  5,  3,  7])"
      ]
     },
     "execution_count": 13,
     "metadata": {},
     "output_type": "execute_result"
    }
   ],
   "source": [
    "rng.integers(1, 20, size=5)"
   ]
  },
  {
   "cell_type": "code",
   "execution_count": 14,
   "id": "b4b00c72-7fd7-43a4-8f7f-2ec113d73de3",
   "metadata": {
    "editable": true,
    "slideshow": {
     "slide_type": "fragment"
    },
    "tags": []
   },
   "outputs": [],
   "source": [
    "rng = np.random.default_rng(1234)"
   ]
  },
  {
   "cell_type": "code",
   "execution_count": 15,
   "id": "5f8c7320-4812-4cfe-b07e-003f7b4f3b81",
   "metadata": {
    "editable": true,
    "slideshow": {
     "slide_type": ""
    },
    "tags": []
   },
   "outputs": [
    {
     "data": {
      "text/plain": [
       "array([19, 19, 19,  8,  4])"
      ]
     },
     "execution_count": 15,
     "metadata": {},
     "output_type": "execute_result"
    }
   ],
   "source": [
    "rng.integers(1, 20, size=5)"
   ]
  },
  {
   "cell_type": "markdown",
   "id": "f8a94692-ac66-4ccc-92ab-f7b2db6f48c4",
   "metadata": {
    "editable": true,
    "slideshow": {
     "slide_type": "fragment"
    },
    "tags": []
   },
   "source": [
    "Wozu soll das gut sein?"
   ]
  },
  {
   "cell_type": "markdown",
   "id": "03023fc0-a2f6-4540-b971-ac9473eeb151",
   "metadata": {},
   "source": [
    "* um beim Test von Programmen definierte Ausgangslagen zu haben"
   ]
  },
  {
   "cell_type": "markdown",
   "id": "e7b8e2a1-4626-40ae-ac2d-af10bceddb69",
   "metadata": {
    "editable": true,
    "slideshow": {
     "slide_type": "slide"
    },
    "tags": []
   },
   "source": [
    "## Beispiel zur Versuchsplanung\n",
    "\n",
    "Folgendes Experiment:\n",
    "\n",
    "* 25 Fische zufällig ausgewählt"
   ]
  },
  {
   "cell_type": "markdown",
   "id": "ee478fca-0c66-46e6-90bf-6c4c3f0895c5",
   "metadata": {
    "editable": true,
    "slideshow": {
     "slide_type": "fragment"
    },
    "tags": []
   },
   "source": [
    "* Fische lernen, in einem Labyrinth Futter zu suchen; Zeit wird gemessen"
   ]
  },
  {
   "cell_type": "markdown",
   "id": "4b42e140-ac8d-488f-b4a5-fbc8efd41ae8",
   "metadata": {
    "editable": true,
    "slideshow": {
     "slide_type": "fragment"
    },
    "tags": []
   },
   "source": [
    "* die Fische werden an 25 Artgenossen verfüttert"
   ]
  },
  {
   "cell_type": "markdown",
   "id": "9e432fe8-bc5e-4c16-bb81-3384e6ad6f8e",
   "metadata": {
    "editable": true,
    "slideshow": {
     "slide_type": "fragment"
    },
    "tags": []
   },
   "source": [
    "* die Artgenossen sollen im selben Labyrinth Futter suchen; Zeit wird gemessen"
   ]
  },
  {
   "cell_type": "markdown",
   "id": "22829a04-f03a-4f63-82a5-e471b22a4795",
   "metadata": {
    "editable": true,
    "slideshow": {
     "slide_type": "fragment"
    },
    "tags": []
   },
   "source": [
    "* die neuen Fische sind schneller"
   ]
  },
  {
   "cell_type": "markdown",
   "id": "f5adf817-6373-4c0d-a296-0c5b4c2322fb",
   "metadata": {
    "editable": true,
    "slideshow": {
     "slide_type": "fragment"
    },
    "tags": []
   },
   "source": [
    "* Nobelpreis?"
   ]
  }
 ],
 "metadata": {
  "celltoolbar": "Slideshow",
  "kernelspec": {
   "display_name": "Python 3 (ipykernel)",
   "language": "python",
   "name": "python3"
  },
  "language_info": {
   "codemirror_mode": {
    "name": "ipython",
    "version": 3
   },
   "file_extension": ".py",
   "mimetype": "text/x-python",
   "name": "python",
   "nbconvert_exporter": "python",
   "pygments_lexer": "ipython3",
   "version": "3.13.7"
  }
 },
 "nbformat": 4,
 "nbformat_minor": 5
}
