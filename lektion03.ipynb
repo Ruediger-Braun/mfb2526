{
 "cells": [
  {
   "cell_type": "markdown",
   "id": "e01baa24",
   "metadata": {
    "editable": true,
    "slideshow": {
     "slide_type": "slide"
    },
    "tags": []
   },
   "source": [
    "# Mathematik für Biologiestudierende\n",
    "\n",
    "Wintersemester 2025/26\n",
    "\n",
    "21. Oktober 2025\n",
    "\n",
    "&copy; 2025 Prof. Dr. Rüdiger W. Braun "
   ]
  },
  {
   "cell_type": "markdown",
   "id": "4534c659-2e7d-4d0a-83a1-fd080b8c99b8",
   "metadata": {
    "editable": true,
    "slideshow": {
     "slide_type": "slide"
    },
    "tags": []
   },
   "source": [
    "## Wiederholung (interaktiv)"
   ]
  },
  {
   "cell_type": "markdown",
   "id": "f73f7d1c-fa5c-4589-9910-e219bf69838d",
   "metadata": {
    "editable": true,
    "slideshow": {
     "slide_type": ""
    },
    "tags": []
   },
   "source": [
    "Gehen Sie auf die Website\n",
    "\n",
    "* https://pingo.coactum.de\n",
    "\n",
    "und geben Sie folgende Zugangsnummer ein\n",
    "\n",
    "* **670719**\n",
    "\n",
    "oder scannen Sie den QR-Code\n",
    "\n",
    "![QR-Code](bilder/qr02.png)\n"
   ]
  },
  {
   "cell_type": "markdown",
   "id": "d7cdc1a0-6e21-4975-b8d5-f4ab38b81cd6",
   "metadata": {
    "editable": true,
    "slideshow": {
     "slide_type": "slide"
    },
    "tags": []
   },
   "source": [
    "## Themen heute\n",
    "\n",
    "* Installation\n",
    "* Exponentialfunktion mit Python\n",
    "* Punktgrafiken\n",
    "* Liniengrafiken"
   ]
  },
  {
   "cell_type": "markdown",
   "id": "4e5c2395-6b7f-4679-82f1-c81169f5d9ce",
   "metadata": {
    "editable": true,
    "slideshow": {
     "slide_type": "slide"
    },
    "tags": []
   },
   "source": [
    "# Statistik mit Python"
   ]
  },
  {
   "cell_type": "markdown",
   "id": "fa12b60f-f9d7-4cfa-8e1f-37c6b562830d",
   "metadata": {
    "editable": true,
    "slideshow": {
     "slide_type": "slide"
    },
    "tags": []
   },
   "source": [
    "Installationshinweise auf https://www.math.uni-duesseldorf.de/~internet/bio2526/software.html"
   ]
  },
  {
   "cell_type": "code",
   "execution_count": 1,
   "id": "bf3aca3c-c22a-4dc8-8e46-197443a4b573",
   "metadata": {
    "editable": true,
    "slideshow": {
     "slide_type": "slide"
    },
    "tags": []
   },
   "outputs": [
    {
     "data": {
      "text/plain": [
       "121931812224"
      ]
     },
     "execution_count": 1,
     "metadata": {},
     "output_type": "execute_result"
    }
   ],
   "source": [
    "123456 * 987654"
   ]
  },
  {
   "cell_type": "code",
   "execution_count": 2,
   "id": "e4b2dee3-19a6-4cd8-a882-98351f841be8",
   "metadata": {},
   "outputs": [
    {
     "data": {
      "text/plain": [
       "7.333333333333333"
      ]
     },
     "execution_count": 2,
     "metadata": {},
     "output_type": "execute_result"
    }
   ],
   "source": [
    "88/12"
   ]
  },
  {
   "cell_type": "markdown",
   "id": "3d527f8b-b1a1-4ae3-95aa-53ba884f8130",
   "metadata": {
    "editable": true,
    "slideshow": {
     "slide_type": "fragment"
    },
    "tags": []
   },
   "source": [
    "* Addition `+`\n",
    "* Subtraktion `-`\n",
    "* Multiplikation `*`\n",
    "* Division `/`\n",
    "* Potenz `**`"
   ]
  },
  {
   "cell_type": "code",
   "execution_count": 3,
   "id": "96047cf0-2012-47d9-80e9-ca6172d7fdad",
   "metadata": {
    "editable": true,
    "slideshow": {
     "slide_type": "fragment"
    },
    "tags": []
   },
   "outputs": [
    {
     "data": {
      "text/plain": [
       "1024"
      ]
     },
     "execution_count": 3,
     "metadata": {},
     "output_type": "execute_result"
    }
   ],
   "source": [
    "2**10"
   ]
  },
  {
   "cell_type": "code",
   "execution_count": 4,
   "id": "e151e7aa-4287-4a6a-9254-783448a7bbe1",
   "metadata": {
    "editable": true,
    "slideshow": {
     "slide_type": "slide"
    },
    "tags": []
   },
   "outputs": [],
   "source": [
    "import numpy as np"
   ]
  },
  {
   "cell_type": "markdown",
   "id": "69a04651-32b8-4a96-aadb-f84a0062563a",
   "metadata": {
    "editable": true,
    "slideshow": {
     "slide_type": ""
    },
    "tags": []
   },
   "source": [
    "* Es gibt mindestens fünf Implementierungen von $\\exp$ in Python\n",
    "* Daher müssen die benötigten Bibiotheken explizit geladen werden"
   ]
  },
  {
   "cell_type": "code",
   "execution_count": 5,
   "id": "4698b731-f703-4a00-a0b8-41113d59d5a1",
   "metadata": {
    "editable": true,
    "slideshow": {
     "slide_type": "fragment"
    },
    "tags": []
   },
   "outputs": [],
   "source": [
    "np.set_printoptions(legacy='1.21')"
   ]
  },
  {
   "cell_type": "code",
   "execution_count": 6,
   "id": "1693d96a-ff41-4388-a925-e8b859266d05",
   "metadata": {
    "editable": true,
    "slideshow": {
     "slide_type": ""
    },
    "tags": []
   },
   "outputs": [
    {
     "data": {
      "text/plain": [
       "7.38905609893065"
      ]
     },
     "execution_count": 6,
     "metadata": {},
     "output_type": "execute_result"
    }
   ],
   "source": [
    "np.exp(2)"
   ]
  },
  {
   "cell_type": "markdown",
   "id": "b9aa065d-1137-42b5-a34e-287567b4bd39",
   "metadata": {
    "editable": true,
    "slideshow": {
     "slide_type": "fragment"
    },
    "tags": []
   },
   "source": [
    "Der Logarithmus wird aufgerufen als "
   ]
  },
  {
   "cell_type": "code",
   "execution_count": 7,
   "id": "58a6658a-bdd0-414d-b376-f47e570e7723",
   "metadata": {},
   "outputs": [
    {
     "data": {
      "text/plain": [
       "1.9999999866111924"
      ]
     },
     "execution_count": 7,
     "metadata": {},
     "output_type": "execute_result"
    }
   ],
   "source": [
    "np.log(7.389056)"
   ]
  },
  {
   "cell_type": "code",
   "execution_count": 8,
   "id": "7317bb44-9fec-464e-830d-eb97011eeea2",
   "metadata": {
    "editable": true,
    "slideshow": {
     "slide_type": ""
    },
    "tags": []
   },
   "outputs": [
    {
     "data": {
      "text/plain": [
       "2.0"
      ]
     },
     "execution_count": 8,
     "metadata": {},
     "output_type": "execute_result"
    }
   ],
   "source": [
    "np.log(7.38905609893065)"
   ]
  },
  {
   "cell_type": "markdown",
   "id": "bb99110f-787a-4467-afca-dce43376b469",
   "metadata": {
    "editable": true,
    "slideshow": {
     "slide_type": "slide"
    },
    "tags": []
   },
   "source": [
    "Die Art der ausgewählten Zelle kann geändert werden\n",
    "\n",
    "* Markdown:  Text\n",
    "* Code:  Programmcode\n",
    "\n",
    "jeweils Ausführung durch `<Umschalt>`-`<Eingabe>` oder \"$\\blacktriangleright$ Run\" aus der Werkzeugleiste"
   ]
  },
  {
   "cell_type": "markdown",
   "id": "49382b2c-7476-4627-a328-fa8c1f996450",
   "metadata": {
    "editable": true,
    "slideshow": {
     "slide_type": "slide"
    },
    "tags": []
   },
   "source": [
    "* in dieser Vorlesung benutzen wir Python als \"erweiterten Taschenrechner\"\n",
    "* Programmierung ist nicht unser Thema"
   ]
  },
  {
   "cell_type": "markdown",
   "id": "cd8090b0-05d6-429f-8936-6385e94cdc98",
   "metadata": {
    "editable": true,
    "slideshow": {
     "slide_type": "slide"
    },
    "tags": []
   },
   "source": [
    "# Plots"
   ]
  },
  {
   "cell_type": "markdown",
   "id": "9687cdea-410d-47ae-a1f1-1f91cb683f47",
   "metadata": {
    "editable": true,
    "slideshow": {
     "slide_type": "slide"
    },
    "tags": []
   },
   "source": [
    "Wir schauen uns die Daten aus dem Beispiel \"Bakterien\" an"
   ]
  },
  {
   "cell_type": "code",
   "execution_count": 9,
   "id": "8ee1dafc-dc24-4bb0-99e0-a35413eb61c6",
   "metadata": {
    "editable": true,
    "slideshow": {
     "slide_type": ""
    },
    "tags": []
   },
   "outputs": [
    {
     "data": {
      "text/plain": [
       "array([0, 1, 2, 3, 4, 5, 6, 7])"
      ]
     },
     "execution_count": 9,
     "metadata": {},
     "output_type": "execute_result"
    }
   ],
   "source": [
    "np.arange(8)"
   ]
  },
  {
   "cell_type": "markdown",
   "id": "8adf27c5-39d7-4086-993e-34627a11dd27",
   "metadata": {
    "editable": true,
    "slideshow": {
     "slide_type": ""
    },
    "tags": []
   },
   "source": [
    "* `np.arange`: Bereich (engl. range) von Zahlen\n",
    "* Python beginnt Zählungen bei 0\n",
    "* hat so viele Elemente, wie angegeben (also 8)"
   ]
  },
  {
   "cell_type": "markdown",
   "id": "fdd5e942-eee4-4dcd-86a2-49955102c75f",
   "metadata": {
    "editable": true,
    "slideshow": {
     "slide_type": "fragment"
    },
    "tags": []
   },
   "source": [
    "* `np.array`:  Liste von beliebigen Elementen"
   ]
  },
  {
   "cell_type": "code",
   "execution_count": 10,
   "id": "92a41591-84ad-4cda-8863-5c11a16bd879",
   "metadata": {
    "editable": true,
    "slideshow": {
     "slide_type": "slide"
    },
    "tags": []
   },
   "outputs": [],
   "source": [
    "zeit = np.arange(8)"
   ]
  },
  {
   "cell_type": "markdown",
   "id": "2de44977-89cc-4801-bc4d-87aab5c85d5e",
   "metadata": {
    "editable": true,
    "slideshow": {
     "slide_type": ""
    },
    "tags": []
   },
   "source": [
    "* die Liste wird unter dem Namen `zeit` gespeichert\n",
    "* `zeit` bezeichnet man als *Variable*"
   ]
  },
  {
   "cell_type": "markdown",
   "id": "d8fa055c-80e0-4f26-a803-59c3fe896154",
   "metadata": {
    "editable": true,
    "slideshow": {
     "slide_type": "fragment"
    },
    "tags": []
   },
   "source": [
    "* der Variablen `zeit` wird die Liste `np.arange(8)` zugewiesen"
   ]
  },
  {
   "cell_type": "markdown",
   "id": "7c43dd73-ed72-4157-be07-adbe50681f03",
   "metadata": {
    "editable": true,
    "slideshow": {
     "slide_type": "fragment"
    },
    "tags": []
   },
   "source": [
    "* der Inhalt der Variablen wird nicht automatisch ausgegeben\n",
    "* das müssen wir anfordern"
   ]
  },
  {
   "cell_type": "code",
   "execution_count": 11,
   "id": "0fa1354d-9b4b-48a0-9884-88c4735514cb",
   "metadata": {
    "editable": true,
    "slideshow": {
     "slide_type": "fragment"
    },
    "tags": []
   },
   "outputs": [
    {
     "data": {
      "text/plain": [
       "array([0, 1, 2, 3, 4, 5, 6, 7])"
      ]
     },
     "execution_count": 11,
     "metadata": {},
     "output_type": "execute_result"
    }
   ],
   "source": [
    "zeit"
   ]
  },
  {
   "cell_type": "markdown",
   "id": "224be2a9-8e37-4690-b7d8-e34e7cad5f0d",
   "metadata": {
    "editable": true,
    "slideshow": {
     "slide_type": "slide"
    },
    "tags": []
   },
   "source": [
    "Die Konzentrationen aus dem Beispiel von letztem Mittwoch"
   ]
  },
  {
   "cell_type": "code",
   "execution_count": 12,
   "id": "923f269a-693c-4eb9-9555-222842ca3112",
   "metadata": {
    "editable": true,
    "slideshow": {
     "slide_type": ""
    },
    "tags": []
   },
   "outputs": [
    {
     "data": {
      "text/plain": [
       "array([10000,  8500,  7225,  6141,  5220,  4437,  3771,  3206])"
      ]
     },
     "execution_count": 12,
     "metadata": {},
     "output_type": "execute_result"
    }
   ],
   "source": [
    "konzentration = np.array([10000, 8500,  7225, 6141, 5220, 4437, 3771, 3206])\n",
    "konzentration"
   ]
  },
  {
   "cell_type": "markdown",
   "id": "ae7b834e-f919-43e4-b218-575d16e46b30",
   "metadata": {
    "editable": true,
    "slideshow": {
     "slide_type": "slide"
    },
    "tags": []
   },
   "source": [
    "# `seaborn`"
   ]
  },
  {
   "cell_type": "markdown",
   "id": "f09f6502-d592-4d33-aeed-9273742da1ad",
   "metadata": {
    "editable": true,
    "slideshow": {
     "slide_type": ""
    },
    "tags": []
   },
   "source": [
    "Wir benutzen für Grafik die Bibliothek `seaborn`"
   ]
  },
  {
   "cell_type": "code",
   "execution_count": 13,
   "id": "3218ae3e-9410-4206-aac7-6ae214e003c4",
   "metadata": {
    "editable": true,
    "slideshow": {
     "slide_type": "slide"
    },
    "tags": []
   },
   "outputs": [],
   "source": [
    "import seaborn as sns"
   ]
  },
  {
   "cell_type": "code",
   "execution_count": 14,
   "id": "aee02127-ed1f-4cf4-8b1f-922f40d595fc",
   "metadata": {
    "editable": true,
    "slideshow": {
     "slide_type": "slide"
    },
    "tags": []
   },
   "outputs": [
    {
     "data": {
      "text/plain": [
       "<Axes: >"
      ]
     },
     "execution_count": 14,
     "metadata": {},
     "output_type": "execute_result"
    },
    {
     "data": {
      "image/png": "[encoded data removed]",
      "text/plain": [
       "<Figure size 640x480 with 1 Axes>"
      ]
     },
     "metadata": {},
     "output_type": "display_data"
    }
   ],
   "source": [
    "sns.scatterplot(x=zeit, y=konzentration)"
   ]
  },
  {
   "cell_type": "markdown",
   "id": "6cf73892-f72a-464f-ab9b-b9ce56585eda",
   "metadata": {
    "editable": true,
    "slideshow": {
     "slide_type": ""
    },
    "tags": []
   },
   "source": [
    "* `scatterplot`:  Grafik aus einzelnen Punkten\n",
    "* `lineplot`:  durchgezogene Linie"
   ]
  },
  {
   "cell_type": "markdown",
   "id": "851a76c2-8035-4a2e-a74a-287a51a41e35",
   "metadata": {
    "editable": true,
    "slideshow": {
     "slide_type": "slide"
    },
    "tags": []
   },
   "source": [
    "Wir wollen die Achsen beschriften\n",
    "\n",
    "Dazu geben wir als erstes dem Bild den Namen `ax` (von axis)"
   ]
  },
  {
   "cell_type": "code",
   "execution_count": 15,
   "id": "2c31a964-1d06-4689-a2ce-193dfaa16e20",
   "metadata": {
    "editable": true,
    "slideshow": {
     "slide_type": ""
    },
    "tags": []
   },
   "outputs": [
    {
     "data": {
      "image/png": "[encoded data removed]",
      "text/plain": [
       "<Figure size 640x480 with 1 Axes>"
      ]
     },
     "metadata": {},
     "output_type": "display_data"
    }
   ],
   "source": [
    "ax = sns.scatterplot(x=zeit, y=konzentration)"
   ]
  },
  {
   "cell_type": "code",
   "execution_count": 16,
   "id": "c97b1208-e46f-4542-959b-234ae7fbbe01",
   "metadata": {
    "editable": true,
    "slideshow": {
     "slide_type": ""
    },
    "tags": []
   },
   "outputs": [],
   "source": [
    "ax.set_xlabel(\"Zeit\")\n",
    "ax.set_ylabel(\"Konzentration\");"
   ]
  },
  {
   "cell_type": "markdown",
   "id": "da1edd24-d51b-437e-ba2e-d1f221da60ce",
   "metadata": {
    "editable": true,
    "slideshow": {
     "slide_type": "slide"
    },
    "tags": []
   },
   "source": [
    "* Das Semikolon am Ende der letzten Zeile bedeutet, dass die Zelle keine Ausgaben erzeugt\n",
    "* Die Zelle auch ohne das Semikolon nicht die Grafik zeigen\n",
    "* Die Ausgabe der Grafik muss explizit angefordert werden"
   ]
  },
  {
   "cell_type": "code",
   "execution_count": 17,
   "id": "def47c52-ae5c-4a1d-aa0e-5f44a04ee0ca",
   "metadata": {
    "editable": true,
    "scrolled": true,
    "slideshow": {
     "slide_type": ""
    },
    "tags": []
   },
   "outputs": [
    {
     "data": {
      "image/png": "[encoded data removed]",
      "text/plain": [
       "<Figure size 640x480 with 1 Axes>"
      ]
     },
     "execution_count": 17,
     "metadata": {},
     "output_type": "execute_result"
    }
   ],
   "source": [
    "ax.figure"
   ]
  },
  {
   "cell_type": "markdown",
   "id": "c5c5b155-84eb-4ee4-9ca1-0bb8b3370ded",
   "metadata": {
    "editable": true,
    "slideshow": {
     "slide_type": "slide"
    },
    "tags": []
   },
   "source": [
    "Jetzt malen wir noch die Kurve $10000 \\cdot e^{-0.1625\\cdot x}$ dazu."
   ]
  },
  {
   "cell_type": "markdown",
   "id": "693542fb-a8d7-4363-8a19-3022026a724a",
   "metadata": {
    "editable": true,
    "slideshow": {
     "slide_type": ""
    },
    "tags": []
   },
   "source": [
    "* Was ist eine Kurve in Python?\n",
    "* Wir könnten die Kurve als `scatterplot` aus sehr vielen Punkten machen\n",
    "* Zuerst machen wir die Punkte"
   ]
  },
  {
   "cell_type": "code",
   "execution_count": 18,
   "id": "4dac9775-7fc6-421f-a2ae-5022ccbc8a63",
   "metadata": {
    "editable": true,
    "slideshow": {
     "slide_type": "fragment"
    },
    "tags": []
   },
   "outputs": [],
   "source": [
    "x = np.linspace(0, 7, 100)"
   ]
  },
  {
   "cell_type": "markdown",
   "id": "d471a77a-5f0e-4a80-b15f-5549a9fb296d",
   "metadata": {
    "editable": true,
    "slideshow": {
     "slide_type": ""
    },
    "tags": []
   },
   "source": [
    "100 Zahlen zwischen 0 und 7 (äquidistant)"
   ]
  },
  {
   "cell_type": "code",
   "execution_count": 19,
   "id": "1569b8e3-0b4f-4c58-87ed-07abf8d46876",
   "metadata": {
    "editable": true,
    "slideshow": {
     "slide_type": ""
    },
    "tags": []
   },
   "outputs": [],
   "source": [
    "y = 10000*np.exp(-0.1625*x)"
   ]
  },
  {
   "cell_type": "markdown",
   "id": "9a2b5139-4c13-4350-a490-b225ea0db615",
   "metadata": {
    "editable": true,
    "slideshow": {
     "slide_type": ""
    },
    "tags": []
   },
   "source": [
    "`y` ist jetzt eine Liste mit den 100 zugehörigen Funktionswerten"
   ]
  },
  {
   "cell_type": "code",
   "execution_count": null,
   "id": "3d899da8-571e-4a4a-8786-32b7ea520e3d",
   "metadata": {
    "editable": true,
    "slideshow": {
     "slide_type": "slide"
    },
    "tags": []
   },
   "outputs": [],
   "source": []
  },
  {
   "cell_type": "code",
   "execution_count": 20,
   "id": "9e6e2997-c4bc-47dd-a980-d3271e50bf23",
   "metadata": {
    "editable": true,
    "slideshow": {
     "slide_type": "slide"
    },
    "tags": []
   },
   "outputs": [
    {
     "data": {
      "image/png": "[encoded data removed]",
      "text/plain": [
       "<Figure size 640x480 with 1 Axes>"
      ]
     },
     "metadata": {},
     "output_type": "display_data"
    }
   ],
   "source": [
    "sns.scatterplot(x=x, y=y);"
   ]
  },
  {
   "cell_type": "markdown",
   "id": "b19cb784-efbe-427f-9623-09a930f39ae6",
   "metadata": {
    "editable": true,
    "slideshow": {
     "slide_type": "slide"
    },
    "tags": []
   },
   "source": [
    "Wir wollen aber keine einzelnen Punkte"
   ]
  },
  {
   "cell_type": "code",
   "execution_count": 21,
   "id": "dd20a0c7-c243-448a-839a-602142569df1",
   "metadata": {
    "editable": true,
    "slideshow": {
     "slide_type": ""
    },
    "tags": []
   },
   "outputs": [
    {
     "data": {
      "image/png": "[encoded data removed]",
      "text/plain": [
       "<Figure size 640x480 with 1 Axes>"
      ]
     },
     "metadata": {},
     "output_type": "display_data"
    }
   ],
   "source": [
    "sns.lineplot(x=x, y=y);"
   ]
  },
  {
   "cell_type": "markdown",
   "id": "6cfc0de8-7a6a-4c01-a3c3-93f808a8d6ad",
   "metadata": {
    "editable": true,
    "slideshow": {
     "slide_type": "slide"
    },
    "tags": []
   },
   "source": [
    "Das malen wir jetzt in die andere Achse hinein"
   ]
  },
  {
   "cell_type": "code",
   "execution_count": 22,
   "id": "1fc24c02-7e72-4185-b2a0-9fde34afb704",
   "metadata": {
    "editable": true,
    "scrolled": true,
    "slideshow": {
     "slide_type": ""
    },
    "tags": []
   },
   "outputs": [
    {
     "data": {
      "image/png": "[encoded data removed]",
      "text/plain": [
       "<Figure size 640x480 with 1 Axes>"
      ]
     },
     "execution_count": 22,
     "metadata": {},
     "output_type": "execute_result"
    }
   ],
   "source": [
    "ax2 = sns.lineplot(x=x, y=y, ax=ax)\n",
    "ax2.figure"
   ]
  },
  {
   "cell_type": "markdown",
   "id": "c86c1cd8-f80c-4c40-aa99-942f5b596d94",
   "metadata": {
    "editable": true,
    "slideshow": {
     "slide_type": "slide"
    },
    "tags": []
   },
   "source": [
    "Es gibt eine Unzahl von statistischen Zeichenfunktionen.  Die wichtigsten werde ich nach und nach vorstellen."
   ]
  },
  {
   "cell_type": "code",
   "execution_count": 23,
   "id": "e3e0620a-3ad6-4638-846a-244f9edb7faa",
   "metadata": {
    "editable": true,
    "slideshow": {
     "slide_type": "slide"
    },
    "tags": []
   },
   "outputs": [],
   "source": [
    "sns.set_theme()"
   ]
  },
  {
   "cell_type": "markdown",
   "id": "453ec7d0-8bb6-449b-acbe-5401ffecb63c",
   "metadata": {
    "editable": true,
    "slideshow": {
     "slide_type": ""
    },
    "tags": []
   },
   "source": [
    "* Damit schalten wir einen grauen Hintergrund mit weißem Gitter ein"
   ]
  },
  {
   "cell_type": "code",
   "execution_count": 24,
   "id": "008287ce-eb71-4894-bd9f-a45e17b31887",
   "metadata": {
    "editable": true,
    "slideshow": {
     "slide_type": "fragment"
    },
    "tags": []
   },
   "outputs": [],
   "source": [
    "sns.set_context('talk')"
   ]
  },
  {
   "cell_type": "markdown",
   "id": "033ae378-3d66-4651-9570-be55e76cbad2",
   "metadata": {
    "editable": true,
    "slideshow": {
     "slide_type": ""
    },
    "tags": []
   },
   "source": [
    "* Nur für die Vorlesung:  dickere Linien und größerer Zeichensatz"
   ]
  },
  {
   "cell_type": "markdown",
   "id": "c99ddb96-947d-46ec-b6d2-39568eefa812",
   "metadata": {
    "editable": true,
    "slideshow": {
     "slide_type": "slide"
    },
    "tags": []
   },
   "source": [
    "#### Zur Wiederholung eine Grafik zu  den Absorbationstiefen"
   ]
  },
  {
   "cell_type": "code",
   "execution_count": 25,
   "id": "922d991b-5323-466e-842b-0b5fb2c57002",
   "metadata": {
    "editable": true,
    "slideshow": {
     "slide_type": ""
    },
    "tags": []
   },
   "outputs": [],
   "source": [
    "tiefe = np.linspace(0, 24, 50)\n",
    "blau = np.exp(-0.03289*tiefe)"
   ]
  },
  {
   "cell_type": "code",
   "execution_count": 26,
   "id": "b83e6be9-5f88-4fd3-b487-0929844c69e6",
   "metadata": {
    "editable": true,
    "slideshow": {
     "slide_type": ""
    },
    "tags": []
   },
   "outputs": [],
   "source": [
    "gruen = np.exp(-.1151*tiefe)\n",
    "rot = np.exp(-.3466*tiefe)"
   ]
  },
  {
   "cell_type": "code",
   "execution_count": 27,
   "id": "b63274da-55ce-4fa6-bd28-9651b8f63875",
   "metadata": {
    "editable": true,
    "slideshow": {
     "slide_type": "slide"
    },
    "tags": []
   },
   "outputs": [
    {
     "data": {
      "image/png": "[encoded data removed]",
      "text/plain": [
       "<Figure size 640x480 with 1 Axes>"
      ]
     },
     "metadata": {},
     "output_type": "display_data"
    }
   ],
   "source": [
    "sns.lineplot(x=tiefe, y=blau, color='blue')\n",
    "sns.lineplot(x=tiefe, y=gruen, color='green')\n",
    "ax = sns.lineplot(x=tiefe, y=rot, color='red')\n",
    "ax.set_xlabel('Tiefe [m]')\n",
    "ax.set_ylabel('Anteil');"
   ]
  },
  {
   "cell_type": "markdown",
   "id": "16fbed0e-253e-4017-a502-544994977f90",
   "metadata": {
    "editable": true,
    "slideshow": {
     "slide_type": "slide"
    },
    "tags": []
   },
   "source": [
    "# Datensätze"
   ]
  },
  {
   "cell_type": "markdown",
   "id": "4e5cbed4-4078-4165-b932-210dec24f4dc",
   "metadata": {
    "editable": true,
    "slideshow": {
     "slide_type": "slide"
    },
    "tags": []
   },
   "source": [
    "## Tabellen\n",
    "\n",
    "Konstruktion einer Tabelle in Python\n",
    "\n",
    "* Zu Fuß, beispielsweise mit `np.array` wie im Beispiel zum Scatterplot\n",
    "* Einlesen einer Beispielsdatei aus `seaborn`\n",
    "* Einlesen einer Datei aus einem Tabellenkalkulationsprogramm"
   ]
  },
  {
   "cell_type": "markdown",
   "id": "bd6c5d76-b39f-41c1-b7c2-0c6b02c23018",
   "metadata": {
    "editable": true,
    "slideshow": {
     "slide_type": "slide"
    },
    "tags": []
   },
   "source": [
    "## Einlesen einer Beispielsdatei aus `seaborn`"
   ]
  },
  {
   "cell_type": "code",
   "execution_count": 28,
   "id": "1f5e7c1e-1ce2-48b8-8364-8fe7fccffb82",
   "metadata": {},
   "outputs": [],
   "source": [
    "df = sns.load_dataset(\"penguins\")"
   ]
  },
  {
   "cell_type": "markdown",
   "id": "dcbd24da-866f-4547-a4b4-1c33aadd05e2",
   "metadata": {},
   "source": [
    "`df` steht für \"Dataframe\""
   ]
  },
  {
   "cell_type": "code",
   "execution_count": 29,
   "id": "de85d4d6-8c68-44cd-9d18-bf0a62824433",
   "metadata": {},
   "outputs": [
    {
     "data": {
      "text/html": [
       "<div>\n",
       "<style scoped>\n",
       "    .dataframe tbody tr th:only-of-type {\n",
       "        vertical-align: middle;\n",
       "    }\n",
       "\n",
       "    .dataframe tbody tr th {\n",
       "        vertical-align: top;\n",
       "    }\n",
       "\n",
       "    .dataframe thead th {\n",
       "        text-align: right;\n",
       "    }\n",
       "</style>\n",
       "<table border=\"1\" class=\"dataframe\">\n",
       "  <thead>\n",
       "    <tr style=\"text-align: right;\">\n",
       "      <th></th>\n",
       "      <th>species</th>\n",
       "      <th>island</th>\n",
       "      <th>bill_length_mm</th>\n",
       "      <th>bill_depth_mm</th>\n",
       "      <th>flipper_length_mm</th>\n",
       "      <th>body_mass_g</th>\n",
       "      <th>sex</th>\n",
       "    </tr>\n",
       "  </thead>\n",
       "  <tbody>\n",
       "    <tr>\n",
       "      <th>0</th>\n",
       "      <td>Adelie</td>\n",
       "      <td>Torgersen</td>\n",
       "      <td>39.1</td>\n",
       "      <td>18.7</td>\n",
       "      <td>181.0</td>\n",
       "      <td>3750.0</td>\n",
       "      <td>Male</td>\n",
       "    </tr>\n",
       "    <tr>\n",
       "      <th>1</th>\n",
       "      <td>Adelie</td>\n",
       "      <td>Torgersen</td>\n",
       "      <td>39.5</td>\n",
       "      <td>17.4</td>\n",
       "      <td>186.0</td>\n",
       "      <td>3800.0</td>\n",
       "      <td>Female</td>\n",
       "    </tr>\n",
       "    <tr>\n",
       "      <th>2</th>\n",
       "      <td>Adelie</td>\n",
       "      <td>Torgersen</td>\n",
       "      <td>40.3</td>\n",
       "      <td>18.0</td>\n",
       "      <td>195.0</td>\n",
       "      <td>3250.0</td>\n",
       "      <td>Female</td>\n",
       "    </tr>\n",
       "    <tr>\n",
       "      <th>3</th>\n",
       "      <td>Adelie</td>\n",
       "      <td>Torgersen</td>\n",
       "      <td>NaN</td>\n",
       "      <td>NaN</td>\n",
       "      <td>NaN</td>\n",
       "      <td>NaN</td>\n",
       "      <td>NaN</td>\n",
       "    </tr>\n",
       "    <tr>\n",
       "      <th>4</th>\n",
       "      <td>Adelie</td>\n",
       "      <td>Torgersen</td>\n",
       "      <td>36.7</td>\n",
       "      <td>19.3</td>\n",
       "      <td>193.0</td>\n",
       "      <td>3450.0</td>\n",
       "      <td>Female</td>\n",
       "    </tr>\n",
       "    <tr>\n",
       "      <th>...</th>\n",
       "      <td>...</td>\n",
       "      <td>...</td>\n",
       "      <td>...</td>\n",
       "      <td>...</td>\n",
       "      <td>...</td>\n",
       "      <td>...</td>\n",
       "      <td>...</td>\n",
       "    </tr>\n",
       "    <tr>\n",
       "      <th>339</th>\n",
       "      <td>Gentoo</td>\n",
       "      <td>Biscoe</td>\n",
       "      <td>NaN</td>\n",
       "      <td>NaN</td>\n",
       "      <td>NaN</td>\n",
       "      <td>NaN</td>\n",
       "      <td>NaN</td>\n",
       "    </tr>\n",
       "    <tr>\n",
       "      <th>340</th>\n",
       "      <td>Gentoo</td>\n",
       "      <td>Biscoe</td>\n",
       "      <td>46.8</td>\n",
       "      <td>14.3</td>\n",
       "      <td>215.0</td>\n",
       "      <td>4850.0</td>\n",
       "      <td>Female</td>\n",
       "    </tr>\n",
       "    <tr>\n",
       "      <th>341</th>\n",
       "      <td>Gentoo</td>\n",
       "      <td>Biscoe</td>\n",
       "      <td>50.4</td>\n",
       "      <td>15.7</td>\n",
       "      <td>222.0</td>\n",
       "      <td>5750.0</td>\n",
       "      <td>Male</td>\n",
       "    </tr>\n",
       "    <tr>\n",
       "      <th>342</th>\n",
       "      <td>Gentoo</td>\n",
       "      <td>Biscoe</td>\n",
       "      <td>45.2</td>\n",
       "      <td>14.8</td>\n",
       "      <td>212.0</td>\n",
       "      <td>5200.0</td>\n",
       "      <td>Female</td>\n",
       "    </tr>\n",
       "    <tr>\n",
       "      <th>343</th>\n",
       "      <td>Gentoo</td>\n",
       "      <td>Biscoe</td>\n",
       "      <td>49.9</td>\n",
       "      <td>16.1</td>\n",
       "      <td>213.0</td>\n",
       "      <td>5400.0</td>\n",
       "      <td>Male</td>\n",
       "    </tr>\n",
       "  </tbody>\n",
       "</table>\n",
       "<p>344 rows × 7 columns</p>\n",
       "</div>"
      ],
      "text/plain": [
       "    species     island  bill_length_mm  bill_depth_mm  flipper_length_mm  \\\n",
       "0    Adelie  Torgersen            39.1           18.7              181.0   \n",
       "1    Adelie  Torgersen            39.5           17.4              186.0   \n",
       "2    Adelie  Torgersen            40.3           18.0              195.0   \n",
       "3    Adelie  Torgersen             NaN            NaN                NaN   \n",
       "4    Adelie  Torgersen            36.7           19.3              193.0   \n",
       "..      ...        ...             ...            ...                ...   \n",
       "339  Gentoo     Biscoe             NaN            NaN                NaN   \n",
       "340  Gentoo     Biscoe            46.8           14.3              215.0   \n",
       "341  Gentoo     Biscoe            50.4           15.7              222.0   \n",
       "342  Gentoo     Biscoe            45.2           14.8              212.0   \n",
       "343  Gentoo     Biscoe            49.9           16.1              213.0   \n",
       "\n",
       "     body_mass_g     sex  \n",
       "0         3750.0    Male  \n",
       "1         3800.0  Female  \n",
       "2         3250.0  Female  \n",
       "3            NaN     NaN  \n",
       "4         3450.0  Female  \n",
       "..           ...     ...  \n",
       "339          NaN     NaN  \n",
       "340       4850.0  Female  \n",
       "341       5750.0    Male  \n",
       "342       5200.0  Female  \n",
       "343       5400.0    Male  \n",
       "\n",
       "[344 rows x 7 columns]"
      ]
     },
     "execution_count": 29,
     "metadata": {},
     "output_type": "execute_result"
    }
   ],
   "source": [
    "df"
   ]
  },
  {
   "cell_type": "markdown",
   "id": "6d16d56e-d484-41ab-93e1-1c7bc0683882",
   "metadata": {
    "editable": true,
    "slideshow": {
     "slide_type": "slide"
    },
    "tags": []
   },
   "source": [
    "* Eselspinguine heißen englisch \"Gentoo penguins\"\n",
    "* \"bill\" ist der Schnabel\n",
    "* \"flipper\" der Flügel"
   ]
  },
  {
   "cell_type": "markdown",
   "id": "71465ae0-36ae-4055-bb22-f7330808bbf4",
   "metadata": {
    "editable": true,
    "slideshow": {
     "slide_type": "fragment"
    },
    "tags": []
   },
   "source": [
    "* `NaN` heißt \"not a number\", d.h. es liegen keine Daten vor"
   ]
  },
  {
   "cell_type": "markdown",
   "id": "ac739063-b614-4fa6-8779-7a161966b337",
   "metadata": {
    "editable": true,
    "slideshow": {
     "slide_type": "fragment"
    },
    "tags": []
   },
   "source": [
    "* `seaborn` enthält einige Dutzend Beispieldatensätze, um die verschiedenen Grafiken zu demonstrieren"
   ]
  },
  {
   "cell_type": "markdown",
   "id": "1177b372-3404-4faa-95bd-5307dd273015",
   "metadata": {
    "editable": true,
    "slideshow": {
     "slide_type": "slide"
    },
    "tags": []
   },
   "source": [
    "## Einlesen einer Datei mit gemessenen Daten"
   ]
  },
  {
   "cell_type": "code",
   "execution_count": 30,
   "id": "134993d5-7016-4910-bb4c-6eeca612a961",
   "metadata": {
    "editable": true,
    "slideshow": {
     "slide_type": "fragment"
    },
    "tags": []
   },
   "outputs": [],
   "source": [
    "import pandas as pd"
   ]
  },
  {
   "cell_type": "markdown",
   "id": "cf959635-f62f-4604-ac52-8c042e606077",
   "metadata": {
    "editable": true,
    "slideshow": {
     "slide_type": ""
    },
    "tags": []
   },
   "source": [
    "`pandas` ist die Bibliothek zur Tabellenbearbeitung"
   ]
  },
  {
   "cell_type": "code",
   "execution_count": 31,
   "id": "72bbf1e5-a4e8-4bb1-a412-ceeff8258833",
   "metadata": {
    "editable": true,
    "slideshow": {
     "slide_type": "slide"
    },
    "tags": []
   },
   "outputs": [
    {
     "data": {
      "text/html": [
       "<div>\n",
       "<style scoped>\n",
       "    .dataframe tbody tr th:only-of-type {\n",
       "        vertical-align: middle;\n",
       "    }\n",
       "\n",
       "    .dataframe tbody tr th {\n",
       "        vertical-align: top;\n",
       "    }\n",
       "\n",
       "    .dataframe thead th {\n",
       "        text-align: right;\n",
       "    }\n",
       "</style>\n",
       "<table border=\"1\" class=\"dataframe\">\n",
       "  <thead>\n",
       "    <tr style=\"text-align: right;\">\n",
       "      <th></th>\n",
       "      <th>Nr</th>\n",
       "      <th>Art</th>\n",
       "      <th>Länge</th>\n",
       "    </tr>\n",
       "  </thead>\n",
       "  <tbody>\n",
       "    <tr>\n",
       "      <th>0</th>\n",
       "      <td>1</td>\n",
       "      <td>gestreift</td>\n",
       "      <td>10.7</td>\n",
       "    </tr>\n",
       "    <tr>\n",
       "      <th>1</th>\n",
       "      <td>2</td>\n",
       "      <td>gestreift</td>\n",
       "      <td>10.0</td>\n",
       "    </tr>\n",
       "    <tr>\n",
       "      <th>2</th>\n",
       "      <td>3</td>\n",
       "      <td>gestreift</td>\n",
       "      <td>9.8</td>\n",
       "    </tr>\n",
       "    <tr>\n",
       "      <th>3</th>\n",
       "      <td>4</td>\n",
       "      <td>gestreift</td>\n",
       "      <td>10.3</td>\n",
       "    </tr>\n",
       "    <tr>\n",
       "      <th>4</th>\n",
       "      <td>5</td>\n",
       "      <td>gestreift</td>\n",
       "      <td>10.3</td>\n",
       "    </tr>\n",
       "    <tr>\n",
       "      <th>...</th>\n",
       "      <td>...</td>\n",
       "      <td>...</td>\n",
       "      <td>...</td>\n",
       "    </tr>\n",
       "    <tr>\n",
       "      <th>115</th>\n",
       "      <td>116</td>\n",
       "      <td>blau</td>\n",
       "      <td>12.1</td>\n",
       "    </tr>\n",
       "    <tr>\n",
       "      <th>116</th>\n",
       "      <td>117</td>\n",
       "      <td>blau</td>\n",
       "      <td>12.5</td>\n",
       "    </tr>\n",
       "    <tr>\n",
       "      <th>117</th>\n",
       "      <td>118</td>\n",
       "      <td>blau</td>\n",
       "      <td>12.0</td>\n",
       "    </tr>\n",
       "    <tr>\n",
       "      <th>118</th>\n",
       "      <td>119</td>\n",
       "      <td>blau</td>\n",
       "      <td>12.1</td>\n",
       "    </tr>\n",
       "    <tr>\n",
       "      <th>119</th>\n",
       "      <td>120</td>\n",
       "      <td>blau</td>\n",
       "      <td>12.0</td>\n",
       "    </tr>\n",
       "  </tbody>\n",
       "</table>\n",
       "<p>120 rows × 3 columns</p>\n",
       "</div>"
      ],
      "text/plain": [
       "      Nr        Art  Länge\n",
       "0      1  gestreift   10.7\n",
       "1      2  gestreift   10.0\n",
       "2      3  gestreift    9.8\n",
       "3      4  gestreift   10.3\n",
       "4      5  gestreift   10.3\n",
       "..   ...        ...    ...\n",
       "115  116       blau   12.1\n",
       "116  117       blau   12.5\n",
       "117  118       blau   12.0\n",
       "118  119       blau   12.1\n",
       "119  120       blau   12.0\n",
       "\n",
       "[120 rows x 3 columns]"
      ]
     },
     "execution_count": 31,
     "metadata": {},
     "output_type": "execute_result"
    }
   ],
   "source": [
    "df = pd.read_csv('https://www.math.uni-duesseldorf.de/~braun/bio2526/barsche.csv')\n",
    "df"
   ]
  },
  {
   "cell_type": "markdown",
   "id": "867cdb33-fb68-4a38-8eff-cd49ed4eb504",
   "metadata": {
    "editable": true,
    "slideshow": {
     "slide_type": "slide"
    },
    "tags": []
   },
   "source": [
    "* `pd.read_csv()`  liest eine Table im `csv`-Format\n",
    "* alle Tabellenkalkulationsprogramme können im `csv`-Format abspeichern"
   ]
  },
  {
   "cell_type": "markdown",
   "id": "7ef2d425-634b-4ffd-b3a7-06d61a146d1f",
   "metadata": {
    "editable": true,
    "slideshow": {
     "slide_type": "fragment"
    },
    "tags": []
   },
   "source": [
    "* `Nr` ist die laufende Nummer des Fisches aus der Datei\n",
    "* `Art` seine Art\n",
    "* `Länge` seine Länge im *mm*"
   ]
  },
  {
   "cell_type": "markdown",
   "id": "8953c5dc-086a-4540-842c-0c33c7baec95",
   "metadata": {
    "editable": true,
    "slideshow": {
     "slide_type": ""
    },
    "tags": []
   },
   "source": [
    "* Die vorderste Spalte ist ein von Pandas hinzugefügter Index"
   ]
  },
  {
   "cell_type": "code",
   "execution_count": 32,
   "id": "8b8e98a9-268f-49e3-a656-f92edf132a48",
   "metadata": {
    "editable": true,
    "slideshow": {
     "slide_type": ""
    },
    "tags": []
   },
   "outputs": [
    {
     "data": {
      "image/png": "[encoded data removed]",
      "text/plain": [
       "<Figure size 640x480 with 1 Axes>"
      ]
     },
     "metadata": {},
     "output_type": "display_data"
    }
   ],
   "source": [
    "sns.scatterplot(data=df, x='Nr', y='Länge');"
   ]
  },
  {
   "cell_type": "code",
   "execution_count": null,
   "id": "84953a9b-90be-4079-9e63-3134ca25e9fc",
   "metadata": {
    "editable": true,
    "slideshow": {
     "slide_type": ""
    },
    "tags": []
   },
   "outputs": [],
   "source": [
    "\n"
   ]
  }
 ],
 "metadata": {
  "celltoolbar": "Slideshow",
  "kernelspec": {
   "display_name": "Python 3 (ipykernel)",
   "language": "python",
   "name": "python3"
  },
  "language_info": {
   "codemirror_mode": {
    "name": "ipython",
    "version": 3
   },
   "file_extension": ".py",
   "mimetype": "text/x-python",
   "name": "python",
   "nbconvert_exporter": "python",
   "pygments_lexer": "ipython3",
   "version": "3.13.7"
  }
 },
 "nbformat": 4,
 "nbformat_minor": 5
}
