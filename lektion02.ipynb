{
 "cells": [
  {
   "cell_type": "markdown",
   "id": "e01baa24",
   "metadata": {
    "editable": true,
    "slideshow": {
     "slide_type": "slide"
    },
    "tags": []
   },
   "source": [
    "# Mathematik für Biologiestudierende\n",
    "\n",
    "Wintersemester 2025/26\n",
    "\n",
    "15. Oktober 2025\n",
    "\n",
    "&copy; 2025 Prof. Dr. Rüdiger W. Braun "
   ]
  },
  {
   "cell_type": "markdown",
   "id": "d7cdc1a0-6e21-4975-b8d5-f4ab38b81cd6",
   "metadata": {
    "editable": true,
    "slideshow": {
     "slide_type": "slide"
    },
    "tags": []
   },
   "source": [
    "## Themen heute\n",
    "\n",
    "* Wachstums- und Abklingprozesse\n",
    "* Halbwerts- und Verdoppelungszeiten"
   ]
  },
  {
   "cell_type": "markdown",
   "id": "4534c659-2e7d-4d0a-83a1-fd080b8c99b8",
   "metadata": {
    "editable": true,
    "slideshow": {
     "slide_type": "slide"
    },
    "tags": []
   },
   "source": [
    "## Wiederholung (interaktiv)"
   ]
  },
  {
   "cell_type": "markdown",
   "id": "f73f7d1c-fa5c-4589-9910-e219bf69838d",
   "metadata": {},
   "source": [
    "Gehen Sie auf die Website\n",
    "\n",
    "* https://pingo.coactum.de\n",
    "\n",
    "und geben Sie folgende Zugangsnummer ein\n",
    "\n",
    "* **670719**\n",
    "\n",
    "oder scannen Sie den QR-Code\n",
    "\n",
    "![QR-Code](bilder/qr02.png)\n"
   ]
  },
  {
   "cell_type": "markdown",
   "id": "487aee8b-5726-4c97-be4b-da9834a59107",
   "metadata": {
    "editable": true,
    "slideshow": {
     "slide_type": "slide"
    },
    "tags": []
   },
   "source": [
    "## Exponentialfunktion und Logarithmus\n",
    "\n",
    "$$\n",
    "      \\exp(\\ln(y)) = y \\quad\\text{und}\\quad\n",
    "      \\ln(\\exp(x)) = x\n",
    "$$"
   ]
  },
  {
   "cell_type": "markdown",
   "id": "ee05d972-ec68-4417-a3c1-a2f07e7d4a8a",
   "metadata": {
    "editable": true,
    "slideshow": {
     "slide_type": ""
    },
    "tags": []
   },
   "source": [
    "$$\n",
    "       a^x = \\exp(x \\cdot \\ln(a))\n",
    "$$"
   ]
  },
  {
   "cell_type": "markdown",
   "id": "bda20b7c-6164-4f29-8dd8-4792a882a45e",
   "metadata": {
    "editable": true,
    "slideshow": {
     "slide_type": "slide"
    },
    "tags": []
   },
   "source": [
    "# Wachstums- und Abklingprozesse\n",
    "\n",
    "* Bei einem exponentiellen Wachstumsprozess sind die *prozentualen* Zuwächse pro (Zeit-)Einheit konstant.\n",
    "* Bei einem exponentiellen Abklingprozess sind die *prozentualen* Verluste pro (Zeit-)Einheit konstant.\n",
    "* Beispiel: Eine Bakterienkonzentration nehme pro Stunde um 15% ab.  Man startet mit 10000 Bakterien pro $mm^2$:\n",
    "\n",
    "|Zeit [h]                 |     0|    1|     2|    3|    4|    5|    6|    7|\n",
    "|------------------------:|-----:|----:|-----:|----:|----:|----:|----:|----:|\n",
    "|Konzentration [$mm^{-2}$]| 10000| 8500|  7225| 6141| 5220| 4437| 3771| 3206|"
   ]
  },
  {
   "cell_type": "markdown",
   "id": "85895a1e-e5bb-42af-b03c-b01481e53b45",
   "metadata": {
    "editable": true,
    "slideshow": {
     "slide_type": "fragment"
    },
    "tags": []
   },
   "source": [
    "* Abklingprozesse besitzen eine *Halbwertszeit*.  Das ist derjenige Zeitraum, in dem sich die verbleibende Menge jeweils halbiert\n",
    "* Wachstumsprozesse besitzen eine *Verdoppelungszeit*.  Das ist derjenige Zeitraum, in dem sich die Menge jeweils verdoppelt\n",
    "* Zur Bestimmung der Halbwerts- und Verdoppelungszeiten benötigt man den Logarithmus"
   ]
  },
  {
   "cell_type": "markdown",
   "id": "6b2d4ae7-1bf1-46f9-ab6b-49a23017e730",
   "metadata": {
    "editable": true,
    "slideshow": {
     "slide_type": "slide"
    },
    "tags": []
   },
   "source": [
    "### Beispiel zur Halbwertszeit\n",
    "\n",
    "* Abklingprozess mit unbekantem Parameter $A$\n",
    "$$\n",
    "      k(x) = 10000 \\cdot e^{-A \\cdot x}\n",
    "$$\n",
    "* $ k(0) = 10000 $ \n",
    "* nach einer Stunde um 15% geschrumpft: $ k(1) = 8500 $ "
   ]
  },
  {
   "cell_type": "markdown",
   "id": "5f476574-ffba-4bff-aa7d-909796a1b9b4",
   "metadata": {
    "editable": true,
    "slideshow": {
     "slide_type": "fragment"
    },
    "tags": []
   },
   "source": [
    "* Andererseits $ k(1) = 10000 e^{-A} $, also\n",
    "$$\n",
    "      8500 = 10000 e^{-A}\n",
    "$$\n",
    "* Dividiere durch 10000\n",
    "$$\n",
    "      0.85 = e^{-A}\n",
    "$$"
   ]
  },
  {
   "cell_type": "markdown",
   "id": "43d11a50-65da-4c6b-84e3-3f87fe337e3d",
   "metadata": {
    "editable": true,
    "slideshow": {
     "slide_type": "fragment"
    },
    "tags": []
   },
   "source": [
    "* Logarithmiere (beachte $ \\ln(e^y) = y $)\n",
    "$$\n",
    "      \\ln(0.85) = -A\n",
    "$$"
   ]
  },
  {
   "cell_type": "markdown",
   "id": "4a609b53-9f0b-434e-82e9-73d378501f9c",
   "metadata": {
    "editable": true,
    "slideshow": {
     "slide_type": "slide"
    },
    "tags": []
   },
   "source": [
    "#### Bakterienkonzentration, Fortsetzung\n",
    "\n",
    "* $ \\ln(0.85) = -A $\n",
    "* Also $ A = -\\ln(0.85) = 0.1625 $\n",
    "* Die Konzentration folgt also der Formel $ k(x) = 10000 e^{-0.1625\\cdot x} $"
   ]
  },
  {
   "cell_type": "markdown",
   "id": "fca6ca76-1065-4010-958b-a8380916ed1b",
   "metadata": {
    "editable": true,
    "slideshow": {
     "slide_type": "fragment"
    },
    "tags": []
   },
   "source": [
    "* Die Halbwertszeit ist derjenige Wert $ x_{\\text{hw}} $ mit $ k(x_{hw}) = 5000 $\n",
    "* Löse die Gleichung\n",
    "    $$\n",
    "      e^{-0.1625\\cdot x_{\\text{hw}}} = 0.5\n",
    "    $$"
   ]
  },
  {
   "cell_type": "markdown",
   "id": "c3e8d0ff-cb1f-40da-bb5b-e29175d6db97",
   "metadata": {
    "editable": true,
    "slideshow": {
     "slide_type": "fragment"
    },
    "tags": []
   },
   "source": [
    "* Das geschieht wieder durch Logarithmieren \n",
    "$$\n",
    "      -0.1625 \\cdot x_{\\text{hw}} = \\ln(0.5) = -0.6931\n",
    "$$"
   ]
  },
  {
   "cell_type": "markdown",
   "id": "a300d6d5-e89a-4c10-a8d5-724b0e286be1",
   "metadata": {
    "editable": true,
    "slideshow": {
     "slide_type": "fragment"
    },
    "tags": []
   },
   "source": [
    "* Also\n",
    "$$\n",
    "      x_{\\text{hw}} = \\frac{-0.6931}{-0.1625} = 4.266\n",
    "$$\n",
    "* Alle $ 4.266 $ Stunden halbiert sich die Konzentration."
   ]
  },
  {
   "cell_type": "markdown",
   "id": "7d202e07-3505-4fcb-9578-859c004075bf",
   "metadata": {
    "editable": true,
    "slideshow": {
     "slide_type": "slide"
    },
    "tags": []
   },
   "source": [
    "# Verdopplungszeit\n",
    "\n",
    "* Beispiel:  Eine Seerose verfünffacht ihre Fläche in einer Woche.  Was ist ihre Verdopplungszeit?\n",
    "* Wachstumsprozess ($x$ in Tagen)\n",
    "$$\n",
    "      k(x) = e^{A \\cdot x}\n",
    "$$\n",
    "* Wir haben den Anfangswert auf 1 normiert, weil es auf die absolute Größe nicht ankommt\n",
    "* Bestimme zuerst $A$\n",
    "$$\n",
    "      k(7) = 5 = e^{A\\cdot7}\n",
    "$$"
   ]
  },
  {
   "cell_type": "markdown",
   "id": "811d6353-8b66-45fd-bb16-9958fe23516d",
   "metadata": {
    "editable": true,
    "slideshow": {
     "slide_type": "fragment"
    },
    "tags": []
   },
   "source": [
    "* Logarithmiere\n",
    "$$\n",
    "      \\ln(5) =  A \\cdot 7\n",
    "$$\n",
    "* Also $ A = \\frac{\\ln(5)}7 = 0.2299 $"
   ]
  },
  {
   "cell_type": "markdown",
   "id": "dad9fa8f-5a10-477c-90f0-7289c1612612",
   "metadata": {
    "editable": true,
    "slideshow": {
     "slide_type": "fragment"
    },
    "tags": []
   },
   "source": [
    "* Die Fläche folgt also der Formel\n",
    "$$ k(x) = e^{0.2299\\cdot x} $$"
   ]
  },
  {
   "cell_type": "markdown",
   "id": "50d94018-6f6e-46e3-a864-4e1446b4b35f",
   "metadata": {
    "editable": true,
    "slideshow": {
     "slide_type": "slide"
    },
    "tags": []
   },
   "source": [
    "#### Seerose, Fortsetzung\n",
    "\n",
    "* Fläche $ k(x) = e^{0.2299\\cdot x} $\n",
    "* Die Verdopplungszeit ist derjenige Wert $ x_{\\text{d}} $ mit $ k(x_{d}) = 2 $\n",
    "* Löse die Gleichung\n",
    "$$\n",
    "      e^{0.2299\\cdot x_{\\text{d}}} = 2\n",
    "$$"
   ]
  },
  {
   "cell_type": "markdown",
   "id": "ad5c1d25-0c9d-485e-a2ef-590d053ca45a",
   "metadata": {
    "editable": true,
    "slideshow": {
     "slide_type": "fragment"
    },
    "tags": []
   },
   "source": [
    "* Das geschieht wieder durch Logarithmieren\n",
    "$$\n",
    "      0.2299 \\cdot x_{\\text{d}} = \\ln(2) = 0.6931\n",
    "$$\n",
    "* Also\n",
    "$$\n",
    "      x_{\\text{d}} = \\frac{0.6931}{0.2299} = 3.015\n",
    "$$\n",
    "* Alle $ 3.015 $ Tage verdoppelt sich die Fläche"
   ]
  },
  {
   "cell_type": "markdown",
   "id": "0f2492e5-98b7-4c07-883f-3d4cf645f8bf",
   "metadata": {
    "editable": true,
    "slideshow": {
     "slide_type": "slide"
    },
    "tags": []
   },
   "source": [
    "## Absorption\n",
    "\n",
    "<img src=\"bilder/coral_reef.jpg\" alt=\"Koralle in blaustichigem Wasser\" width=\"50%\"/>\n",
    " \n",
    "Photo Credit: Jerry Reid, U.S. Fish and Wildlife Service\n"
   ]
  },
  {
   "cell_type": "markdown",
   "id": "448e9f7d-c67c-4905-bb1d-75cea5f4d2b8",
   "metadata": {
    "editable": true,
    "slideshow": {
     "slide_type": "slide"
    },
    "tags": []
   },
   "source": [
    "### Halbwertstiefe von blauem Licht\n",
    "\n",
    "* In 140m Tiefe nimmt die Intensität von blauem Licht auf 1% ab.\n",
    "* Bestimme $A$ für die Intensitätsfunktion $ k(x) = e^{-A\\cdot x} $\n",
    "* Gleichung\n",
    "$$\n",
    "      e^{-A\\cdot 140} = 0.01\n",
    "$$"
   ]
  },
  {
   "cell_type": "markdown",
   "id": "de2e0ca2-882a-4ba7-9753-b51fdd8c94c0",
   "metadata": {
    "editable": true,
    "slideshow": {
     "slide_type": "fragment"
    },
    "tags": []
   },
   "source": [
    "* Logarithmieren\n",
    "$$\n",
    "      -A \\cdot 140 = \\ln(0.01) = -4.605\n",
    "$$\n",
    "* Also\n",
    "$$\n",
    "      A = \\frac{4.605}{140} = 0.03289\n",
    "$$"
   ]
  },
  {
   "cell_type": "markdown",
   "id": "4202c4f7-cd36-4dc4-b158-302f8628eddf",
   "metadata": {
    "editable": true,
    "slideshow": {
     "slide_type": "slide"
    },
    "tags": []
   },
   "source": [
    "#### blaues Licht, Fortsetzung\n",
    "\n",
    "* Die Intensitätsfunktion für blaues Licht ist $ e^{-0.03289\\cdot x} $, wenn $ x $ die Wassertiefe bezeichnet.\n",
    "* Gleichung für die Halbwertstiefe $ x_{\\text{hw}} $ \n",
    "$$\n",
    "      e^{-0.03289\\cdot x_{\\text{hw}}} = 0.5\n",
    "$$"
   ]
  },
  {
   "cell_type": "markdown",
   "id": "e5d4051a-364e-4b61-9e2e-ac33cd49e1b5",
   "metadata": {
    "editable": true,
    "slideshow": {
     "slide_type": "fragment"
    },
    "tags": []
   },
   "source": [
    "## Erklärung des Blaustichs\n",
    "\n",
    "* Die Halbwertstiefe von rotem Licht beträgt $2m$, die von  grünem Licht ungefähr $6m$ \n",
    "* In $24m$ Tiefe hat sich die Intensität des roten Lichts schon\n",
    "    12mal halbiert, die Intensität ist also nur ein 4000-tel der\n",
    "    Intensität an der Oberfläche.\n",
    "m* Dagegen beträgt die Intensität des blauen Lichts in $24m$ Tiefe etwas weniger als 50%"
   ]
  },
  {
   "cell_type": "markdown",
   "id": "9f6d10b9-35c0-4f8c-be1b-5853274153ed",
   "metadata": {
    "editable": true,
    "jp-MarkdownHeadingCollapsed": true,
    "slideshow": {
     "slide_type": "slide"
    },
    "tags": []
   },
   "source": [
    "### Wasserfarbe in Abhängigkeit von der Tiefe in Metern"
   ]
  },
  {
   "cell_type": "code",
   "execution_count": 9,
   "id": "8164ff4f-5cd2-4918-9d20-8cce48fdfb5b",
   "metadata": {
    "editable": true,
    "slideshow": {
     "slide_type": ""
    },
    "tags": []
   },
   "outputs": [
    {
     "data": {
      "image/png": "[encoded data removed]",
      "text/plain": [
       "<Figure size 640x480 with 1 Axes>"
      ]
     },
     "metadata": {},
     "output_type": "display_data"
    }
   ],
   "source": [
    "%run bilder/wasser.py"
   ]
  }
 ],
 "metadata": {
  "celltoolbar": "Slideshow",
  "kernelspec": {
   "display_name": "Python 3 (ipykernel)",
   "language": "python",
   "name": "python3"
  },
  "language_info": {
   "codemirror_mode": {
    "name": "ipython",
    "version": 3
   },
   "file_extension": ".py",
   "mimetype": "text/x-python",
   "name": "python",
   "nbconvert_exporter": "python",
   "pygments_lexer": "ipython3",
   "version": "3.13.7"
  }
 },
 "nbformat": 4,
 "nbformat_minor": 5
}
