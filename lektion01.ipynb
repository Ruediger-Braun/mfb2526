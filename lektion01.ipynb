{
 "cells": [
  {
   "cell_type": "markdown",
   "id": "e01baa24",
   "metadata": {
    "editable": true,
    "slideshow": {
     "slide_type": "slide"
    },
    "tags": []
   },
   "source": [
    "# Mathematik für Biologiestudierende\n",
    "\n",
    "Wintersemester 2025/26\n",
    "\n",
    "14. Oktober 2025\n",
    "\n",
    "&copy; 2025 Prof. Dr. Rüdiger W. Braun "
   ]
  },
  {
   "cell_type": "markdown",
   "id": "402baa92",
   "metadata": {
    "editable": true,
    "slideshow": {
     "slide_type": "slide"
    },
    "tags": []
   },
   "source": [
    "# Informationen\n",
    "\n",
    "* öffentliche Seite zur Vorlesung:  http://www.math.uni-duesseldorf.de/~internet/bio2526\n",
    "* Vorlesungsverzeichnis:  http://lsf.hhu.de\n",
    "* ILIAS:  http://ilias.hhu.de\n",
    "\n",
    "Sie müssen im Vorlesungsverzeichnis angemeldet sein, um Zugriff auf ILIAS zu bekommen.  Der Datenaustausch vom Vorlesungsverzeichnis zu ILIAS dauert bis zu 24h"
   ]
  },
  {
   "cell_type": "markdown",
   "id": "3dd86fb8",
   "metadata": {
    "editable": true,
    "slideshow": {
     "slide_type": "fragment"
    },
    "tags": []
   },
   "source": [
    "Diese Präsentation bekommen Sie über die öffentliche Seite der Vorlesung, also über http://www.math.uni-duesseldorf.de/~internet/bio2526"
   ]
  },
  {
   "cell_type": "markdown",
   "id": "84785051",
   "metadata": {
    "editable": true,
    "slideshow": {
     "slide_type": "slide"
    },
    "tags": []
   },
   "source": [
    "# Warum Mathematik im Biologiestudium?"
   ]
  },
  {
   "cell_type": "markdown",
   "id": "00310f9b-4c35-48c1-b7c8-dbd4d0d313fe",
   "metadata": {
    "editable": true,
    "slideshow": {
     "slide_type": "fragment"
    },
    "tags": []
   },
   "source": [
    "* Weil größere Datenmengen mit statistischen Methoden untersucht werden müssen"
   ]
  },
  {
   "cell_type": "markdown",
   "id": "cda36c67",
   "metadata": {
    "editable": true,
    "slideshow": {
     "slide_type": "fragment"
    },
    "tags": []
   },
   "source": [
    "* Weil die enormen Fortschritte der Biologie in den letzten Jahrzehnten auch auf erfolgreiche Mathematisierung zurückzuführen sind"
   ]
  },
  {
   "cell_type": "markdown",
   "id": "bea58abb",
   "metadata": {
    "editable": true,
    "slideshow": {
     "slide_type": "slide"
    },
    "tags": []
   },
   "source": [
    "## Themen dieser Vorlesung\n",
    "\n",
    "* Exponentialfunktion, Wachstums- und Abklingprozesse\n",
    "* Beschreibende Statistik\n",
    "* Diskrete Wahrscheinlichkeitstheorie\n",
    "* Etwas Analysis\n",
    "* Kontinuierliche Wahrscheinlichkeitstheorie (Modellbildung)\n",
    "* Schließende Statistik \n",
    "  * Hypothesentests\n",
    "  * Lineare Modelle"
   ]
  },
  {
   "cell_type": "markdown",
   "id": "1e1cf21e",
   "metadata": {
    "editable": true,
    "slideshow": {
     "slide_type": "slide"
    },
    "tags": []
   },
   "source": [
    "# Organisatorisches "
   ]
  },
  {
   "cell_type": "markdown",
   "id": "39941733-c281-4be7-8a01-9bbe9e8c26df",
   "metadata": {
    "editable": true,
    "slideshow": {
     "slide_type": ""
    },
    "tags": []
   },
   "source": [
    "* Vorlesung:\n",
    "  * Di 10:30-12:00 in Hörsaal 6J\n",
    "  * Mi 10:30-11:15 in Hörsaal 6J\n",
    "* Hörsaalübung\n",
    "  * Mi 11:30-12:15 in Hörsaal 6J\n",
    "* Kleingruppenübung:  diverse Termine, beginnend ab nächster Woche (KW 43)"
   ]
  },
  {
   "cell_type": "markdown",
   "id": "0adf6df2-6998-4ee8-bd29-2446ad5b72bc",
   "metadata": {
    "editable": true,
    "slideshow": {
     "slide_type": "slide"
    },
    "tags": []
   },
   "source": [
    "#### Kleingruppenübungen\n",
    "\n",
    "zwei Verfahren zur Belegung der Kleingruppen, beides geschieht im [LSF]\n",
    "\n",
    "* Gruppenpriorisierung\n",
    "  * bis vorgestern konnte man mehrere passende Termine auswählen und einen davon priorisieren\n",
    "  * vermutlich heute verteilt das ZIM auf dieser Grundlage die Studierenden auf die Gruppen\n",
    "  * wer nicht zum Zuge gekommen ist, nimmt an der Restplatzvergabe teil\n",
    "\n",
    "[LSF]: https://lsf.hhu.de/qisserver/rds?state=wtree&search=1&root120252=85942%7C86455%7C86466%7C88114%7C88151%7C88161&trex=step"
   ]
  },
  {
   "cell_type": "markdown",
   "id": "87459660",
   "metadata": {
    "editable": true,
    "slideshow": {
     "slide_type": "fragment"
    },
    "tags": []
   },
   "source": [
    "* Restplatzvergabe\n",
    "  * vermutlich ab morgen werden die noch freien Plätze nach dem Prinzip \"first come, first served\" vergeben\n",
    "  * wer keine Kleingruppe besuchen möchte, braucht auch keine zu belegen\n",
    "  * ich stelle nach Rücksprache mit den Übungsleitungen zusätzliche Plätze zur Verfügung "
   ]
  },
  {
   "cell_type": "markdown",
   "id": "9f8495b7-42ed-4534-af64-159299329544",
   "metadata": {
    "editable": true,
    "slideshow": {
     "slide_type": "slide"
    },
    "tags": []
   },
   "source": [
    "# Übungsaufgaben\n",
    "\n",
    "Zur Vertiefung des Stoffes gibt es Übungsaufgaben unter <http://fuchs.math.uni-duesseldorf.de>.\n",
    "\n",
    "* Ausgabe jeweils freitags\n",
    "* Bearbeitung bis zum nächsten Sonntag (also neun Tage später)\n",
    "* Jede Woche 2 Blätter mit je 10 Aufgaben\n",
    "* Die Punkte aus den Übungen werden in Klausurpunkte umgerechnet und gehen zu 10% in die Klausur ein"
   ]
  },
  {
   "cell_type": "markdown",
   "id": "95787ebe-4854-4c7f-bb22-2d58760326a5",
   "metadata": {
    "editable": true,
    "slideshow": {
     "slide_type": "fragment"
    },
    "tags": []
   },
   "source": [
    "* Eines der beiden Blätter wird in der Hörsaalübung besprochen, das andere in den Kleingruppen"
   ]
  },
  {
   "cell_type": "markdown",
   "id": "4a28e2fd",
   "metadata": {
    "editable": true,
    "slideshow": {
     "slide_type": "fragment"
    },
    "tags": []
   },
   "source": [
    "* Die Online-Übungen werden automatisch sofort bewertet\n",
    "* Die Aufgaben können beliebig oft wiederholt werden\n",
    "* Ihre Login-Daten erhalten Sie nachher über das Studierendenportal"
   ]
  },
  {
   "cell_type": "markdown",
   "id": "fa67722c-918a-4b89-abb9-a82fb2c1bde4",
   "metadata": {
    "editable": true,
    "slideshow": {
     "slide_type": "slide"
    },
    "tags": []
   },
   "source": [
    "### Unterschied zwischen Hörsaalgruppe und Kleingruppen\n",
    "\n",
    "* Wir gehen davon aus, dass alle die Hörsaalübung besuchen\n",
    "* Wer sich dann noch unsicher fühlt, geht in eine Kleingruppe"
   ]
  },
  {
   "cell_type": "markdown",
   "id": "7747e6de",
   "metadata": {
    "editable": true,
    "slideshow": {
     "slide_type": "slide"
    },
    "tags": []
   },
   "source": [
    "# Anwesenheitspflicht\n",
    "\n",
    "Es gibt keine Anwesenheitspflicht in den Mathematik-Veranstaltungen des ersten Semesters"
   ]
  },
  {
   "cell_type": "markdown",
   "id": "78869d4e",
   "metadata": {
    "editable": true,
    "slideshow": {
     "slide_type": "fragment"
    },
    "tags": []
   },
   "source": [
    "Das heißt aber nicht, dass die Anwesenheit keinen Nutzen bringt"
   ]
  },
  {
   "cell_type": "markdown",
   "id": "f42d56a6",
   "metadata": {
    "editable": true,
    "slideshow": {
     "slide_type": "slide"
    },
    "tags": []
   },
   "source": [
    "# Modulprüfung\n",
    "\n",
    "* Klausuren im Februar und März 2026\n",
    "* Termine auf den Seiten der Biologie https://www.biologie.hhu.de/\n",
    "* Teilnahme an einer der beiden Klausuren\n",
    "* Übungspunkte gehen als Bonuspunkte in die Klausur ein\n",
    "* Wer durchfällt:  Wiederholungsklausur\n",
    "* **Schieben Sie die Mathe-Klausur nicht auf die lange Bank**"
   ]
  },
  {
   "cell_type": "markdown",
   "id": "0bad8fbc",
   "metadata": {
    "editable": true,
    "slideshow": {
     "slide_type": "slide"
    },
    "tags": []
   },
   "source": [
    "# Literatur\n",
    "\n",
    "## zur Theorie\n",
    "\n",
    "* [Adlung, Lorenz, Köthe, Schnellbächer, Staufer: *Tutorium Mathe für Biologen*](http://dx.doi.org/10.1007/978-3-642-37786-0) \n",
    "* [Grabinger: *Fit fürs Studium: Statistik*](https://hbz-ulbd.alma.exlibrisgroup.com/view/action/uresolver.do?operation=resolveService&package_service_id=10382111700006443&institutionId=6443&customerId=6440)\n",
    "* Rudolf, Kuhlisch: *Biostatistik* (Lehrbuchsammlung)\n",
    "* McKillup: *Statistics Explained* (Lehrbuchsammlung)\n",
    "\n",
    "Grabinger dient dazu, den Übergang zu erleichtern\n",
    "\n",
    "## zur Berechnung mit dem Rechner\n",
    "\n",
    "* [Haslwanter: *An Introduction to Statistics with Python*](https://eu04.alma.exlibrisgroup.com/view/action/uresolver.do?operation=resolveService&package_service_id=76678253360006441&institutionId=6441&customerId=6440)\n",
    "\n",
    "Zugang zu den E-Books nur aus dem Uni-Netz\n"
   ]
  },
  {
   "cell_type": "markdown",
   "id": "107daacc",
   "metadata": {
    "editable": true,
    "slideshow": {
     "slide_type": "slide"
    },
    "tags": []
   },
   "source": [
    "# Hilfsmittel\n",
    "\n",
    "* Taschenrechner für kleine Beispiele\n",
    "\n",
    "  einfacher \"wissenschaftlicher\" Taschenrechner genügt"
   ]
  },
  {
   "cell_type": "markdown",
   "id": "f11c3e87",
   "metadata": {
    "editable": true,
    "slideshow": {
     "slide_type": "fragment"
    },
    "tags": []
   },
   "source": [
    "* Computerprogramm für realistischere Daten\n",
    "  \n",
    "  * entweder auf eigenem Gerät\n",
    "  * oder in der Cloud\n",
    "  \n",
    "  Details in der nächsten Vorlesung"
   ]
  },
  {
   "cell_type": "markdown",
   "id": "f2810be8",
   "metadata": {
    "editable": true,
    "slideshow": {
     "slide_type": "slide"
    },
    "tags": []
   },
   "source": [
    "# Hilfsmittel in der Klausur\n",
    "\n",
    "* vier beidseitig beschriebene A4-Blätter\n",
    "* von eigener Hand mit Stift beschrieben, also keine Ausdrucke, auch nicht vom Tablett\n",
    "* Taschenrechner, grafikfähig bzw. CAS erlaubt, bringen aber keinen Vorteil"
   ]
  },
  {
   "cell_type": "markdown",
   "id": "75704820",
   "metadata": {
    "editable": true,
    "slideshow": {
     "slide_type": "fragment"
    },
    "tags": []
   },
   "source": [
    "Die Klausur findet klassisch mit Stift und Papier statt.  \n",
    "\n",
    "Bei den Aufgaben zur Software werden z.B. Computerausgaben gezeigt, die dann interpretiert werden sollen."
   ]
  },
  {
   "cell_type": "markdown",
   "id": "5dcdd86b",
   "metadata": {
    "editable": true,
    "slideshow": {
     "slide_type": "slide"
    },
    "tags": []
   },
   "source": [
    "# Ab jetzt: Mathematik"
   ]
  },
  {
   "cell_type": "markdown",
   "id": "cc62b6f4",
   "metadata": {
    "editable": true,
    "slideshow": {
     "slide_type": "slide"
    },
    "tags": []
   },
   "source": [
    "# Rechnen mit dem Taschenrechner oder Computer\n",
    "\n",
    "## Rundung"
   ]
  },
  {
   "cell_type": "code",
   "execution_count": 1,
   "id": "ae8083a9",
   "metadata": {
    "editable": true,
    "slideshow": {
     "slide_type": "fragment"
    },
    "tags": []
   },
   "outputs": [
    {
     "data": {
      "text/plain": [
       "0.14285714285714285"
      ]
     },
     "execution_count": 1,
     "metadata": {},
     "output_type": "execute_result"
    }
   ],
   "source": [
    "1/7"
   ]
  },
  {
   "cell_type": "code",
   "execution_count": 2,
   "id": "9e2c4842",
   "metadata": {
    "editable": true,
    "slideshow": {
     "slide_type": ""
    },
    "tags": []
   },
   "outputs": [
    {
     "data": {
      "text/plain": [
       "1.0"
      ]
     },
     "execution_count": 2,
     "metadata": {},
     "output_type": "execute_result"
    }
   ],
   "source": [
    "7 * 1/7"
   ]
  },
  {
   "cell_type": "code",
   "execution_count": 3,
   "id": "e74116d9",
   "metadata": {
    "editable": true,
    "slideshow": {
     "slide_type": ""
    },
    "tags": []
   },
   "outputs": [
    {
     "data": {
      "text/plain": [
       "0.0"
      ]
     },
     "execution_count": 3,
     "metadata": {},
     "output_type": "execute_result"
    }
   ],
   "source": [
    "7 * 1/7 - 1"
   ]
  },
  {
   "cell_type": "code",
   "execution_count": 4,
   "id": "f81b746f",
   "metadata": {
    "editable": true,
    "slideshow": {
     "slide_type": ""
    },
    "tags": []
   },
   "outputs": [
    {
     "data": {
      "text/plain": [
       "-2.220446049250313e-16"
      ]
     },
     "execution_count": 4,
     "metadata": {},
     "output_type": "execute_result"
    }
   ],
   "source": [
    "(1/7 + 1/7 + 1/7 + 1/7 + 1/7 + 1/7 + 1/7) - 1"
   ]
  },
  {
   "cell_type": "markdown",
   "id": "5845a188",
   "metadata": {
    "editable": true,
    "slideshow": {
     "slide_type": "fragment"
    },
    "tags": []
   },
   "source": [
    "* Der Rechner rundet den Bruch $1/7$.  Dadurch entsteht ein Rundungsfehler.\n",
    "* Machmal heben sich die Rundungsfehler wieder auf, meistens nicht."
   ]
  },
  {
   "cell_type": "markdown",
   "id": "0fffe7fa",
   "metadata": {
    "editable": true,
    "slideshow": {
     "slide_type": "slide"
    },
    "tags": []
   },
   "source": [
    "# Exponentendarstellung\n",
    "\n",
    "* Was ist `-2.2e-16`?\n",
    "* `2.2e-3` ist $2.2 \\cdot 10^{-3} = \\frac{2.2}{1000} = 0.0022$\n",
    "* Der Zusatz `e-16` bedeutet, dass die Zahl durch $10^{16}$ geteilt wird\n",
    "* 2.2e-16 = 0.00000000000000022"
   ]
  },
  {
   "cell_type": "markdown",
   "id": "d21d356c",
   "metadata": {
    "editable": true,
    "slideshow": {
     "slide_type": "slide"
    },
    "tags": []
   },
   "source": [
    "## Vorsätze für Maßeinheiten:\n",
    "\n",
    "`2.2e-16` km sind\n",
    "\n",
    "* `2.2e-13` m\n",
    "* `2.2e-10` mm    (Millimeter)\n",
    "* `2.2e-7`  $\\mu$m  (Mikrometer)\n",
    "* `2.2e-4` nm  (Nanometer)\n",
    "* `0.22` pm  (Picometer)\n",
    "\n",
    "Beispiel:  Der Durchmesser des Corona-Virus beträgt ca 100 nm"
   ]
  },
  {
   "cell_type": "markdown",
   "id": "0f6d9280",
   "metadata": {
    "editable": true,
    "slideshow": {
     "slide_type": "slide"
    },
    "tags": []
   },
   "source": [
    "* Der Rechner rechnet auf 16 Stellen Genauigkeit.  Das ist meist ausreichend.\n",
    "* Bei der Rechnung mit Taschenrechner von Hand sollte man mindestens vier bis sechs signifikante Stellen mitführen"
   ]
  },
  {
   "cell_type": "markdown",
   "id": "7f8bddbd",
   "metadata": {
    "slideshow": {
     "slide_type": "fragment"
    }
   },
   "source": [
    "Was ist eine signifikante Stelle?\n",
    "\n",
    "* Das ist die Anzahl der gemessenen bzw. ausgerechneten Stellen ab der ersten Stelle, die keine Null ist"
   ]
  },
  {
   "cell_type": "markdown",
   "id": "32ded184",
   "metadata": {
    "slideshow": {
     "slide_type": "slide"
    }
   },
   "source": [
    "Beispiel:  \n",
    "* 0.001234  vier signifikante Stellen\n",
    "* 0.000001234  vier signifikante Stellen\n",
    "* 0.12340   fünf signifikante Stellen (die 0 hinter der 4 ist tatsächlich gemessen worden)\n",
    "* 12.34   vier signifikante Stellen\n",
    "* 12340   unklar. Besser so:\n",
    "* 1.234e4  vier signifikante Stellen"
   ]
  },
  {
   "cell_type": "markdown",
   "id": "d7e5d0ef",
   "metadata": {
    "slideshow": {
     "slide_type": "fragment"
    }
   },
   "source": [
    "Die Anzahl der signifikanten Stellen ist unabhängig davon, in welcher Maßeinheit das Ergebnis ausgedrückt wird"
   ]
  },
  {
   "cell_type": "markdown",
   "id": "34d13f5c",
   "metadata": {
    "editable": true,
    "slideshow": {
     "slide_type": "slide"
    },
    "tags": []
   },
   "source": [
    "# Wachstums- und Abklingprozesse"
   ]
  },
  {
   "cell_type": "markdown",
   "id": "5a273901",
   "metadata": {
    "editable": true,
    "slideshow": {
     "slide_type": "slide"
    },
    "tags": []
   },
   "source": [
    "## Exponentialfunktion und Logarithmus"
   ]
  },
  {
   "cell_type": "markdown",
   "id": "af6aadfa",
   "metadata": {
    "editable": true,
    "slideshow": {
     "slide_type": "fragment"
    },
    "tags": []
   },
   "source": [
    "### Potenzgesetze\n",
    "\n",
    "* Die Funktion $f(x) = a^x$ heißt *Potenzfunktion*\n",
    "* $a$ bezeichnet man als *Basis* und $x$ als *Exponenten*\n",
    "* Rechenregeln:\n",
    "\n",
    "    \\begin{align*}\n",
    "      a^{x+y} &= a^x \\cdot a^y \\\\\n",
    "      (a\\cdot b)^x &= a^x \\cdot b^x \\\\\n",
    "      a^{-1} &= \\frac1a \\\\\n",
    "      1^x &= 1 \\\\\n",
    "      a^0 &= 1\n",
    "    \\end{align*}"
   ]
  },
  {
   "cell_type": "markdown",
   "id": "58e19baf",
   "metadata": {
    "editable": true,
    "slideshow": {
     "slide_type": "slide"
    },
    "tags": []
   },
   "source": [
    "### Beispiele zu den Rechenregeln\n",
    "  \n",
    "* $2^{3+4} = 2^7 = 128$\n",
    "* $2^3 \\cdot 2^4 = 8 \\cdot 16 = 128$"
   ]
  },
  {
   "cell_type": "markdown",
   "id": "ce2e2114",
   "metadata": {
    "editable": true,
    "slideshow": {
     "slide_type": "fragment"
    },
    "tags": []
   },
   "source": [
    "* $6^3 = 6 \\cdot 6 \\cdot 6 = 216$\n",
    "* $2^3 \\cdot 3^3 = 8 \\cdot 27 = 216$\n",
    "  "
   ]
  },
  {
   "cell_type": "markdown",
   "id": "33c9761f",
   "metadata": {
    "slideshow": {
     "slide_type": "fragment"
    }
   },
   "source": [
    "* $7^{-1} = \\frac17$\n",
    "* ${\\frac34}^{-1} = \\frac43$"
   ]
  },
  {
   "cell_type": "markdown",
   "id": "ed1493bd",
   "metadata": {
    "editable": true,
    "slideshow": {
     "slide_type": "slide"
    },
    "tags": []
   },
   "source": [
    "# Die Exponentialfunktion"
   ]
  },
  {
   "cell_type": "markdown",
   "id": "22b272f5",
   "metadata": {
    "editable": true,
    "slideshow": {
     "slide_type": "fragment"
    },
    "tags": []
   },
   "source": [
    "## Verzinsung\n",
    "\n",
    "* die Bank zahlt 3% Zinsen\n",
    "* aus 1€ wird nach einem Jahr $(1+p)$€, wobei $p=0.03$\n",
    "* nach zwei Jahren hat man $(1+p)^2$€, nach dreien $(1+p)^3$€, usw."
   ]
  },
  {
   "cell_type": "markdown",
   "id": "b2c22833",
   "metadata": {
    "slideshow": {
     "slide_type": "fragment"
    }
   },
   "source": [
    "| Jahre | Kapital  |\n",
    "|------:|---------:|\n",
    "|      0|  1000.00€|\n",
    "|      1|  1030.00€|\n",
    "|      2|  1060.90€|\n",
    "|      3|  1092.73€|\n",
    "|      4|  1125.51€|\n",
    "|      5|  1158.27€|\n",
    "|      6|  1194.05€|"
   ]
  },
  {
   "cell_type": "markdown",
   "id": "fe233b4e",
   "metadata": {
    "slideshow": {
     "slide_type": "slide"
    }
   },
   "source": [
    "* einige Banken verzinsen monatlich mit einem zwölftel des Jahreszinses\n",
    "* bei so einer Bank beträgt der Wert nach einem Jahr\n",
    "$$\n",
    "      \\left( 1 + \\frac p{12} \\right)^{12} \\text{€}\n",
    "$$\n",
    "* Bei 3% Verzinsung ist $\\frac p{12} = 0.25$% \n",
    "* bei monatlicher Verzinsung werden so aus 1000.00€ in einem Jahr 1030.42€ (statt 1030.00€ bei jährlicher Verzinsung)\n"
   ]
  },
  {
   "cell_type": "markdown",
   "id": "7cbc22f0",
   "metadata": {
    "slideshow": {
     "slide_type": "fragment"
    }
   },
   "source": [
    "* bei 100% Jahreszinsen erhält man 2000.00€ bei jährlicher Verzinsung und 2613.00€ bei monatlicher Verzinsung\n",
    "* man könnte auch täglich verzinsen, dann erhält man 2714.57€ \n",
    "* oder stündlich, dann erhält man 2718.13€"
   ]
  },
  {
   "cell_type": "code",
   "execution_count": 6,
   "id": "eee3d9bd",
   "metadata": {},
   "outputs": [
    {
     "data": {
      "text/plain": [
       "2.7145674820219727"
      ]
     },
     "execution_count": 6,
     "metadata": {},
     "output_type": "execute_result"
    }
   ],
   "source": [
    "(1 + 1/365)**365"
   ]
  },
  {
   "cell_type": "markdown",
   "id": "2cdf29a0",
   "metadata": {
    "editable": true,
    "slideshow": {
     "slide_type": "slide"
    },
    "tags": []
   },
   "source": [
    "# Die Eulersche Zahl"
   ]
  },
  {
   "cell_type": "markdown",
   "id": "4b44c279",
   "metadata": {},
   "source": [
    "Die *Eulersche* Zahl ist der Grenzwert dieses Prozesses "
   ]
  },
  {
   "cell_type": "markdown",
   "id": "f3161180",
   "metadata": {},
   "source": [
    "$$\n",
    "  e = 2.7182818284590451\\ldots\n",
    "$$"
   ]
  },
  {
   "cell_type": "markdown",
   "id": "00cfc7c4",
   "metadata": {},
   "source": [
    "Die Exponentialfunktion ist die Potenzfunktion zur Basis $e$.  Sie wird mit $\\exp$ bezeichnet\n",
    "    $$  \\exp(x) = e^x  $$"
   ]
  },
  {
   "cell_type": "markdown",
   "id": "890f4510",
   "metadata": {
    "slideshow": {
     "slide_type": "fragment"
    }
   },
   "source": [
    "Getaktete Verzinsung wie auf der Bank gibt es in der Biologie selten.  Daher wird dort mit kontinuierlicher Verzinsung, also der Exponentialfunktion gerechnet."
   ]
  },
  {
   "cell_type": "markdown",
   "id": "751f10c6",
   "metadata": {
    "editable": true,
    "slideshow": {
     "slide_type": "slide"
    },
    "tags": []
   },
   "source": [
    "### Graph der Exponentialfunktion\n",
    "\n",
    "Die auf der nächsten Folie verwendete Technik besprechen wir später genauer."
   ]
  },
  {
   "cell_type": "code",
   "execution_count": 1,
   "id": "3bcd3d82",
   "metadata": {
    "editable": true,
    "slideshow": {
     "slide_type": "slide"
    },
    "tags": []
   },
   "outputs": [],
   "source": [
    "import seaborn as sns\n",
    "import numpy as np"
   ]
  },
  {
   "cell_type": "code",
   "execution_count": 3,
   "id": "35ef95a4",
   "metadata": {},
   "outputs": [],
   "source": [
    "x = np.linspace(0, 3)"
   ]
  },
  {
   "cell_type": "code",
   "execution_count": 4,
   "id": "0b5a220a",
   "metadata": {
    "scrolled": true,
    "slideshow": {
     "slide_type": "slide"
    }
   },
   "outputs": [
    {
     "data": {
      "image/png": "[encoded data removed]",
      "text/plain": [
       "<Figure size 640x480 with 1 Axes>"
      ]
     },
     "metadata": {},
     "output_type": "display_data"
    }
   ],
   "source": [
    "ax = sns.lineplot(x=x, y=np.exp(x))\n",
    "ax.grid(True)\n",
    "ax.set_xlabel(\"x\")\n",
    "ax.set_ylabel(\"exp(x)\");"
   ]
  },
  {
   "cell_type": "markdown",
   "id": "18030f80",
   "metadata": {
    "editable": true,
    "slideshow": {
     "slide_type": "slide"
    },
    "tags": []
   },
   "source": [
    "# Logarithmus"
   ]
  },
  {
   "cell_type": "markdown",
   "id": "cf35e63a",
   "metadata": {
    "editable": true,
    "slideshow": {
     "slide_type": "fragment"
    },
    "tags": []
   },
   "source": [
    "## Natürlicher Logarithmus\n",
    "\n",
    "* Die Exponentialfunktion besitzt eine Umkehrfunktion, genannt *natürlicher Logarithmus* und geschrieben $\\ln(y)$\n",
    "* In `python` heißt er `log`\n",
    "* es gelten\n",
    " \n",
    " $$\n",
    "      \\exp(\\ln(y)) = y \\quad\\text{und}\\quad\n",
    "      \\ln(\\exp(x)) = x\n",
    " $$\n",
    "\n",
    "* der Logarithmus ist nur für positive Argumente definiert"
   ]
  },
  {
   "cell_type": "markdown",
   "id": "36eec9bd",
   "metadata": {
    "editable": true,
    "slideshow": {
     "slide_type": "slide"
    },
    "tags": []
   },
   "source": [
    "### Graph des Logarithmus"
   ]
  },
  {
   "cell_type": "code",
   "execution_count": 5,
   "id": "b2c489c1",
   "metadata": {},
   "outputs": [
    {
     "data": {
      "image/png": "[encoded data removed]",
      "text/plain": [
       "<Figure size 640x480 with 1 Axes>"
      ]
     },
     "metadata": {},
     "output_type": "display_data"
    }
   ],
   "source": [
    "x = np.linspace(0.3, 3)\n",
    "ax = sns.lineplot(x=x, y=np.log(x))\n",
    "ax.set_xlabel(\"x\")\n",
    "ax.set_ylabel(\"ln(x)\")\n",
    "ax.grid(True)"
   ]
  },
  {
   "cell_type": "markdown",
   "id": "876544c9",
   "metadata": {
    "editable": true,
    "slideshow": {
     "slide_type": "slide"
    },
    "tags": []
   },
   "source": [
    "## Rechenregeln für den Logarithmus\n",
    "  \\begin{align*}\n",
    "    e^{x+y} &= e^x \\cdot e^y & \n",
    "    \\ln (a\\cdot b) &= \\ln(a) + \\ln(b) \\\\\n",
    "    \\left(e^{y}\\right)^x &= e^{y \\cdot x} &\n",
    "    \\ln(a^x) &= x \\cdot \\ln(a) \\\\\n",
    "    e^0 &= 1 &\n",
    "    \\ln(1) &= 0 \\\\\n",
    "    e^1 &= e &\n",
    "    \\ln(e) &= 1\n",
    "  \\end{align*}\n"
   ]
  },
  {
   "cell_type": "markdown",
   "id": "498d9630",
   "metadata": {
    "editable": true,
    "slideshow": {
     "slide_type": "slide"
    },
    "tags": []
   },
   "source": [
    "## Logarithmen zu verschiedenen Basen\n",
    "\n",
    "* Der Logrithmus zur Basis 10, genannt *Zehnerlogarithmus* wird geschrieben als $\\lg$\n",
    "* Auf Taschenrechner ist das allerdings anders\n",
    "\n",
    "|Basis|Text  |`python`|Taschenrechner|\n",
    "|----:|------|--------|--------------|\n",
    "|    e|$\\ln$ |`log`   |`ln`          |\n",
    "|   10|$\\lg$ |`log10` |`log`         |\n",
    "\n",
    "Die Umrechnungsformeln sind folgende\n",
    "\n",
    "$$\n",
    "    \\ln(x) = \\frac{\\lg(x)}{\\lg(e)}\n",
    "$$\n",
    "\n",
    "$$  \\lg(x) = \\frac{\\ln(x)}{\\ln(10)} $$"
   ]
  },
  {
   "cell_type": "markdown",
   "id": "55db94a1",
   "metadata": {
    "editable": true,
    "slideshow": {
     "slide_type": "slide"
    },
    "tags": []
   },
   "source": [
    "### Beispiele \n",
    "\n",
    "um Ihren Taschenrechner auszuprobieren"
   ]
  },
  {
   "cell_type": "code",
   "execution_count": 6,
   "id": "5b6cd498",
   "metadata": {},
   "outputs": [
    {
     "data": {
      "text/plain": [
       "np.float64(4.605170185988092)"
      ]
     },
     "execution_count": 6,
     "metadata": {},
     "output_type": "execute_result"
    }
   ],
   "source": [
    "np.log(100)"
   ]
  },
  {
   "cell_type": "markdown",
   "id": "af4c86c6-bda4-4c20-9df7-baabfd6d11fc",
   "metadata": {},
   "source": [
    "Unfreundlich gegenüber Laien.  Man kann die Darstellung aber umschalten"
   ]
  },
  {
   "cell_type": "code",
   "execution_count": 7,
   "id": "adb973ba-4814-47ef-8339-a9ebbe281b81",
   "metadata": {},
   "outputs": [],
   "source": [
    "np.set_printoptions(legacy='1.21')"
   ]
  },
  {
   "cell_type": "code",
   "execution_count": 8,
   "id": "6a301c31-d348-45a2-8927-9c027b3a785c",
   "metadata": {
    "editable": true,
    "slideshow": {
     "slide_type": ""
    },
    "tags": []
   },
   "outputs": [
    {
     "data": {
      "text/plain": [
       "4.605170185988092"
      ]
     },
     "execution_count": 8,
     "metadata": {},
     "output_type": "execute_result"
    }
   ],
   "source": [
    "np.log(100)"
   ]
  },
  {
   "cell_type": "code",
   "execution_count": 9,
   "id": "a3548536",
   "metadata": {
    "slideshow": {
     "slide_type": ""
    },
    "tags": []
   },
   "outputs": [
    {
     "data": {
      "text/plain": [
       "2.0"
      ]
     },
     "execution_count": 9,
     "metadata": {},
     "output_type": "execute_result"
    }
   ],
   "source": [
    "np.log10(100)"
   ]
  }
 ],
 "metadata": {
  "celltoolbar": "Slideshow",
  "kernelspec": {
   "display_name": "Python 3 (ipykernel)",
   "language": "python",
   "name": "python3"
  },
  "language_info": {
   "codemirror_mode": {
    "name": "ipython",
    "version": 3
   },
   "file_extension": ".py",
   "mimetype": "text/x-python",
   "name": "python",
   "nbconvert_exporter": "python",
   "pygments_lexer": "ipython3",
   "version": "3.13.7"
  }
 },
 "nbformat": 4,
 "nbformat_minor": 5
}
