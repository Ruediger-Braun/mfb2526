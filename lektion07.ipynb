{
 "cells": [
  {
   "cell_type": "markdown",
   "id": "e01baa24",
   "metadata": {
    "editable": true,
    "slideshow": {
     "slide_type": "slide"
    },
    "tags": []
   },
   "source": [
    "# Mathematik für Biologiestudierende\n",
    "\n",
    "Wintersemester 2025/26\n",
    "\n",
    "29. Oktober 2025\n",
    "\n",
    "&copy; 2025 Prof. Dr. Rüdiger W. Braun "
   ]
  },
  {
   "cell_type": "markdown",
   "id": "4534c659-2e7d-4d0a-83a1-fd080b8c99b8",
   "metadata": {
    "editable": true,
    "slideshow": {
     "slide_type": "slide"
    },
    "tags": []
   },
   "source": [
    "## Wiederholung (interaktiv)"
   ]
  },
  {
   "cell_type": "markdown",
   "id": "f73f7d1c-fa5c-4589-9910-e219bf69838d",
   "metadata": {
    "editable": true,
    "slideshow": {
     "slide_type": ""
    },
    "tags": []
   },
   "source": [
    "Gehen Sie auf die Website\n",
    "\n",
    "* https://pingo.coactum.de\n",
    "\n",
    "und geben Sie folgende Zugangsnummer ein\n",
    "\n",
    "* **670719**\n",
    "\n",
    "oder scannen Sie den QR-Code\n",
    "\n",
    "![QR-Code](bilder/qr02.png)\n"
   ]
  },
  {
   "cell_type": "markdown",
   "id": "d7cdc1a0-6e21-4975-b8d5-f4ab38b81cd6",
   "metadata": {
    "editable": true,
    "slideshow": {
     "slide_type": "slide"
    },
    "tags": []
   },
   "source": [
    "## Themen heute\n",
    "\n",
    "* Streuungsparameter\n",
    "* Quartile\n",
    "* Box-Whisker Plots\n",
    "* Modelle in der Wahrscheinlichkeitstheorie"
   ]
  },
  {
   "cell_type": "code",
   "execution_count": 3,
   "id": "35b514cd-b450-4bf4-a8b7-e244c729be22",
   "metadata": {
    "editable": true,
    "slideshow": {
     "slide_type": "slide"
    },
    "tags": []
   },
   "outputs": [],
   "source": [
    "import numpy as np\n",
    "np.set_printoptions(legacy='1.21')\n",
    "import seaborn as sns\n",
    "sns.set_theme()\n",
    "sns.set_context('talk')\n",
    "import pandas as pd"
   ]
  },
  {
   "cell_type": "markdown",
   "id": "e6dbd6a7-7ba6-4ae2-bd97-2dc306ef92dd",
   "metadata": {
    "editable": true,
    "slideshow": {
     "slide_type": "slide"
    },
    "tags": []
   },
   "source": [
    "# Wahrscheinlichkeitsheorie"
   ]
  },
  {
   "cell_type": "markdown",
   "id": "34a8acee-10a8-4bd9-a2c4-409111500540",
   "metadata": {
    "editable": true,
    "slideshow": {
     "slide_type": "slide"
    },
    "tags": []
   },
   "source": [
    "Was ist eine Wahrscheinlichkeit?"
   ]
  },
  {
   "cell_type": "markdown",
   "id": "46cc9437-b32f-4e14-b6c2-d28fd67989ad",
   "metadata": {
    "editable": true,
    "slideshow": {
     "slide_type": "fragment"
    },
    "tags": []
   },
   "source": [
    "* Eine Wahrscheinlichkeit ist eine Modellannahme. \n",
    "* Modellannahmen kommen her von\n",
    "   * beobachteten relativen Häufigkeiten\n",
    "   * abstrakten Überlegungen (z.B. faire Münze)\n",
    "   * Konstruktion aus Teilsystemen (z.B. mehrfacher Münzwurf)\n",
    "* Überprüfung des Modells am Experiment"
   ]
  },
  {
   "cell_type": "markdown",
   "id": "2d202961-8afc-43ed-98c7-2baaff967491",
   "metadata": {
    "editable": true,
    "slideshow": {
     "slide_type": "slide"
    },
    "tags": []
   },
   "source": [
    "## Modelle\n",
    "  \n",
    "* Die Wissenschaft arbeitet mit Modellen\n",
    "* Das Forschungsobjekt der Naturwissenschaften kann meist nicht vollständig verstanden werden, weil es\n",
    "  * zu komplex ist (Organismus eines Säugetiers)\n",
    "  * zu schlecht zu beobachten ist (Atomkern, Galaxie)\n",
    "  * beides (Zellstoffwechsel)\n",
    "* Also macht man sich ein Modell; zu den Modellannahmen gehören oft auch Wahrscheinlichkeiten"
   ]
  },
  {
   "cell_type": "markdown",
   "id": "cbea21e0-7940-4ebf-9bb6-710097f7e66e",
   "metadata": {
    "editable": true,
    "slideshow": {
     "slide_type": "fragment"
    },
    "tags": []
   },
   "source": [
    "* Die wissenschaftliche Methode besteht darin, dass man Vorhersagen aus dem Modell ableitet und diese im Experiment überprüft (Falsifizierbarkeit)"
   ]
  }
 ],
 "metadata": {
  "celltoolbar": "Slideshow",
  "kernelspec": {
   "display_name": "Python 3 (ipykernel)",
   "language": "python",
   "name": "python3"
  },
  "language_info": {
   "codemirror_mode": {
    "name": "ipython",
    "version": 3
   },
   "file_extension": ".py",
   "mimetype": "text/x-python",
   "name": "python",
   "nbconvert_exporter": "python",
   "pygments_lexer": "ipython3",
   "version": "3.13.7"
  }
 },
 "nbformat": 4,
 "nbformat_minor": 5
}
