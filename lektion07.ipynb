{
 "cells": [
  {
   "cell_type": "markdown",
   "id": "e01baa24",
   "metadata": {
    "editable": true,
    "slideshow": {
     "slide_type": "slide"
    },
    "tags": []
   },
   "source": [
    "# Mathematik für Biologiestudierende\n",
    "\n",
    "Wintersemester 2025/26\n",
    "\n",
    "29. Oktober 2025\n",
    "\n",
    "&copy; 2025 Prof. Dr. Rüdiger W. Braun "
   ]
  },
  {
   "cell_type": "markdown",
   "id": "4534c659-2e7d-4d0a-83a1-fd080b8c99b8",
   "metadata": {
    "editable": true,
    "slideshow": {
     "slide_type": "slide"
    },
    "tags": []
   },
   "source": [
    "## Wiederholung (interaktiv)"
   ]
  },
  {
   "cell_type": "markdown",
   "id": "f73f7d1c-fa5c-4589-9910-e219bf69838d",
   "metadata": {
    "editable": true,
    "slideshow": {
     "slide_type": ""
    },
    "tags": []
   },
   "source": [
    "Gehen Sie auf die Website\n",
    "\n",
    "* https://pingo.coactum.de\n",
    "\n",
    "und geben Sie folgende Zugangsnummer ein\n",
    "\n",
    "* **670719**\n",
    "\n",
    "oder scannen Sie den QR-Code\n",
    "\n",
    "![QR-Code](bilder/qr02.png)\n"
   ]
  },
  {
   "cell_type": "markdown",
   "id": "d7cdc1a0-6e21-4975-b8d5-f4ab38b81cd6",
   "metadata": {
    "editable": true,
    "slideshow": {
     "slide_type": "slide"
    },
    "tags": []
   },
   "source": [
    "## Themen heute\n",
    "\n",
    "* Streuungsparameter\n",
    "* Quartile\n",
    "* Box-Whisker Plots\n",
    "* Modelle in der Wahrscheinlichkeitstheorie"
   ]
  },
  {
   "cell_type": "code",
   "execution_count": 3,
   "id": "35b514cd-b450-4bf4-a8b7-e244c729be22",
   "metadata": {
    "editable": true,
    "slideshow": {
     "slide_type": "slide"
    },
    "tags": []
   },
   "outputs": [],
   "source": [
    "import numpy as np\n",
    "np.set_printoptions(legacy='1.21')\n",
    "import seaborn as sns\n",
    "sns.set_theme()\n",
    "sns.set_context('talk')\n",
    "import pandas as pd"
   ]
  },
  {
   "cell_type": "markdown",
   "id": "a16a5be7-97d1-4d0f-98ae-a51716ab94b2",
   "metadata": {},
   "source": [
    "# Erläuterungen zu Python und Pandas"
   ]
  },
  {
   "cell_type": "markdown",
   "id": "1353472a-d403-4f60-90d7-36d16c7e7279",
   "metadata": {},
   "source": [
    "## Klammern\n",
    "\n",
    "### eckige Klammern"
   ]
  },
  {
   "cell_type": "markdown",
   "id": "080de360-edc8-4d14-8a30-2d218356b4f2",
   "metadata": {},
   "source": [
    "für die Auswahl eines Elements aus einer Sammlung:\n",
    "\n",
    "Einige Beispiele"
   ]
  },
  {
   "cell_type": "code",
   "execution_count": null,
   "id": "dfce65df-a0ef-4bd7-83fc-a12229e3933d",
   "metadata": {},
   "outputs": [],
   "source": [
    "liste = ['Elephant', 'Rhinozeros', 'Spitzmaus']"
   ]
  },
  {
   "cell_type": "code",
   "execution_count": null,
   "id": "f0d433f9-9a08-40e0-a087-613f89db832b",
   "metadata": {},
   "outputs": [],
   "source": [
    "liste[0]"
   ]
  },
  {
   "cell_type": "code",
   "execution_count": null,
   "id": "54012687-8299-41b9-aa96-fde4b255db53",
   "metadata": {},
   "outputs": [],
   "source": [
    "df = sns.load_dataset('penguins')\n",
    "df['body_mass_g']"
   ]
  },
  {
   "cell_type": "code",
   "execution_count": null,
   "id": "0fa104a0-d015-425a-9da3-af063e5888ec",
   "metadata": {},
   "outputs": [],
   "source": [
    "df.loc[4]"
   ]
  },
  {
   "cell_type": "markdown",
   "id": "9a08823b-ceaf-4edb-b232-f515d512d6c5",
   "metadata": {},
   "source": [
    "### Runde Klammern\n",
    "\n",
    "#### Funktionsausrufe"
   ]
  },
  {
   "cell_type": "code",
   "execution_count": null,
   "id": "2fcea646-733f-441c-8453-7b89bbb412b4",
   "metadata": {},
   "outputs": [],
   "source": [
    "np.log(2)"
   ]
  },
  {
   "cell_type": "code",
   "execution_count": null,
   "id": "e8eaf4fd-60cb-44fa-945b-a52779e6c0e8",
   "metadata": {},
   "outputs": [],
   "source": [
    "df.body_mass_g.median()"
   ]
  },
  {
   "cell_type": "markdown",
   "id": "85fee6d0-5e95-4acb-9841-859693b482df",
   "metadata": {},
   "source": [
    "#### Ausführungsreihenfolge"
   ]
  },
  {
   "cell_type": "code",
   "execution_count": null,
   "id": "e8c73e22-2998-45a4-b76c-56f82726ed4e",
   "metadata": {},
   "outputs": [],
   "source": [
    "2 * 3+4"
   ]
  },
  {
   "cell_type": "code",
   "execution_count": null,
   "id": "31600a00-1d8f-4af6-ac1e-b235fbafc583",
   "metadata": {},
   "outputs": [],
   "source": [
    "2 * (3+4)"
   ]
  },
  {
   "cell_type": "markdown",
   "id": "90c07369-5e1a-425e-a3ca-fda46a329db3",
   "metadata": {},
   "source": [
    "### Beispiel aus Lektion 5 mit beiden Sorten Klammern"
   ]
  },
  {
   "cell_type": "code",
   "execution_count": null,
   "id": "a7513421-aaa7-4cb2-972d-29fddc2e594a",
   "metadata": {},
   "outputs": [],
   "source": [
    "df[(df.island=='Dream') & (df.sex=='Female') & (df.bill_length_mm <= 36)]"
   ]
  },
  {
   "cell_type": "markdown",
   "id": "ea9559fe-88c9-41d8-bb1f-99144a8f8802",
   "metadata": {},
   "source": [
    "* eckige Klammern:  Auswahl von Zeilen mit den gesuchten Eigenschaften\n",
    "* runde Klammern:   erzwingen Vorrang des Vergleichsoperators `==` vor dem logischen Operator `&`"
   ]
  },
  {
   "cell_type": "code",
   "execution_count": null,
   "id": "b5cb6809-35a9-441a-9789-aaf309047e9c",
   "metadata": {},
   "outputs": [],
   "source": []
  },
  {
   "cell_type": "code",
   "execution_count": null,
   "id": "834cf6a6-2ac4-460e-a673-91025dd79b72",
   "metadata": {},
   "outputs": [],
   "source": []
  },
  {
   "cell_type": "code",
   "execution_count": null,
   "id": "97721523-4aca-4a36-b7a6-af93f685840a",
   "metadata": {},
   "outputs": [],
   "source": []
  },
  {
   "cell_type": "markdown",
   "id": "e6dbd6a7-7ba6-4ae2-bd97-2dc306ef92dd",
   "metadata": {
    "editable": true,
    "slideshow": {
     "slide_type": "slide"
    },
    "tags": []
   },
   "source": [
    "# Wahrscheinlichkeitsheorie"
   ]
  },
  {
   "cell_type": "markdown",
   "id": "34a8acee-10a8-4bd9-a2c4-409111500540",
   "metadata": {
    "editable": true,
    "slideshow": {
     "slide_type": "slide"
    },
    "tags": []
   },
   "source": [
    "Was ist eine Wahrscheinlichkeit?"
   ]
  },
  {
   "cell_type": "markdown",
   "id": "46cc9437-b32f-4e14-b6c2-d28fd67989ad",
   "metadata": {
    "editable": true,
    "slideshow": {
     "slide_type": "fragment"
    },
    "tags": []
   },
   "source": [
    "* Eine Wahrscheinlichkeit ist eine Modellannahme. \n",
    "* Modellannahmen kommen her von\n",
    "   * beobachteten relativen Häufigkeiten\n",
    "   * abstrakten Überlegungen (z.B. faire Münze)\n",
    "   * Konstruktion aus Teilsystemen (z.B. mehrfacher Münzwurf)\n",
    "* Überprüfung des Modells am Experiment"
   ]
  },
  {
   "cell_type": "markdown",
   "id": "2d202961-8afc-43ed-98c7-2baaff967491",
   "metadata": {
    "editable": true,
    "slideshow": {
     "slide_type": "slide"
    },
    "tags": []
   },
   "source": [
    "## Modelle\n",
    "  \n",
    "* Die Wissenschaft arbeitet mit Modellen\n",
    "* Das Forschungsobjekt der Naturwissenschaften kann meist nicht vollständig verstanden werden, weil es\n",
    "  * zu komplex ist (Organismus eines Säugetiers)\n",
    "  * zu schlecht zu beobachten ist (Atomkern, Galaxie)\n",
    "  * beides (Zellstoffwechsel)\n",
    "* Also macht man sich ein Modell; zu den Modellannahmen gehören oft auch Wahrscheinlichkeiten"
   ]
  },
  {
   "cell_type": "markdown",
   "id": "cbea21e0-7940-4ebf-9bb6-710097f7e66e",
   "metadata": {
    "editable": true,
    "slideshow": {
     "slide_type": "fragment"
    },
    "tags": []
   },
   "source": [
    "* Die wissenschaftliche Methode besteht darin, dass man Vorhersagen aus dem Modell ableitet und diese im Experiment überprüft (Falsifizierbarkeit)"
   ]
  }
 ],
 "metadata": {
  "celltoolbar": "Slideshow",
  "kernelspec": {
   "display_name": "Python 3 (ipykernel)",
   "language": "python",
   "name": "python3"
  },
  "language_info": {
   "codemirror_mode": {
    "name": "ipython",
    "version": 3
   },
   "file_extension": ".py",
   "mimetype": "text/x-python",
   "name": "python",
   "nbconvert_exporter": "python",
   "pygments_lexer": "ipython3",
   "version": "3.13.7"
  }
 },
 "nbformat": 4,
 "nbformat_minor": 5
}
